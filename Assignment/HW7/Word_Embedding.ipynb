{
  "cells": [
    {
      "cell_type": "markdown",
      "metadata": {
        "id": "view-in-github",
        "colab_type": "text"
      },
      "source": [
        "<a href=\"https://colab.research.google.com/github/tinghe14/COURSE-2Deep-Learning/blob/main/Word_Embedding.ipynb\" target=\"_parent\"><img src=\"https://colab.research.google.com/assets/colab-badge.svg\" alt=\"Open In Colab\"/></a>"
      ]
    },
    {
      "cell_type": "markdown",
      "metadata": {
        "id": "KVNPRWmWexlt"
      },
      "source": [
        "# Word Embeddings\n",
        "\n",
        "In this notebook, you will implement 2 algorithms for learning word embeddings. You will use these algorithms to measure semantic similarity between words."
      ]
    },
    {
      "cell_type": "markdown",
      "metadata": {
        "id": "1DnbN8ASexlu"
      },
      "source": [
        "### Imports"
      ]
    },
    {
      "cell_type": "code",
      "execution_count": 1,
      "metadata": {
        "colab": {
          "base_uri": "https://localhost:8080/"
        },
        "id": "2fhZEJGVpdkF",
        "outputId": "502bc60d-d483-40f8-b6a9-57de545039e5"
      },
      "outputs": [
        {
          "output_type": "stream",
          "name": "stdout",
          "text": [
            "[nltk_data] Downloading package punkt to /root/nltk_data...\n",
            "[nltk_data]   Unzipping tokenizers/punkt.zip.\n",
            "GPU Available: True\n"
          ]
        }
      ],
      "source": [
        "%matplotlib inline\n",
        "\n",
        "## Standard Library\n",
        "import random\n",
        "from string import punctuation\n",
        "from collections import Counter\n",
        "\n",
        "## External Libraries\n",
        "import numpy as np\n",
        "import matplotlib.pyplot as plt\n",
        "from sklearn.model_selection import train_test_split\n",
        "from sklearn.metrics.pairwise import cosine_distances\n",
        "from sklearn.datasets import fetch_20newsgroups\n",
        "from nltk.tokenize import sent_tokenize, word_tokenize\n",
        "import nltk\n",
        "nltk.download('punkt')\n",
        "import gensim.downloader\n",
        "\n",
        "# PyTorch Modules: see http://pytorch.org/tutorials/beginner/nlp/word_embeddings_tutorial.html\n",
        "import torch\n",
        "import torch.nn as nn\n",
        "import torch.nn.functional as F\n",
        "import torch.optim as optim\n",
        "\n",
        "torch.manual_seed(1)\n",
        "print(\"GPU Available:\", torch.cuda.is_available())"
      ]
    },
    {
      "cell_type": "code",
      "execution_count": 2,
      "metadata": {
        "id": "nNWSqz6Bexlv"
      },
      "outputs": [],
      "source": [
        "## Simple Plotting Utility\n",
        "def showPlot(title, *args):\n",
        "    plt.figure()\n",
        "    fig, ax = plt.subplots()\n",
        "    for a in args:\n",
        "      _ = ax.plot(a)\n",
        "    _ = ax.set_title(title)"
      ]
    },
    {
      "cell_type": "code",
      "execution_count": 3,
      "metadata": {
        "colab": {
          "base_uri": "https://localhost:8080/"
        },
        "id": "QnRKFWnc3mu6",
        "outputId": "1b75fe6f-c456-45c5-c607-b4265c70663a"
      },
      "outputs": [
        {
          "output_type": "execute_result",
          "data": {
            "text/plain": [
              "[['why', 'hello', 'there'], ['whats', 'your', 'name']]"
            ]
          },
          "metadata": {},
          "execution_count": 3
        }
      ],
      "source": [
        "def tokenize(text):\n",
        "    \"\"\"\n",
        "    Simple tokenizer (sentences and then words)\n",
        "    \"\"\"\n",
        "    sentences = sent_tokenize(text)\n",
        "    examples = []\n",
        "    for sentence in sentences:\n",
        "        sentence = \"\".join(char for char in sentence if char not in punctuation)\n",
        "        sentence = \"\".join(char for char in sentence if not char.isdigit())\n",
        "        sentence = sentence.lower()\n",
        "        tokens = word_tokenize(sentence)\n",
        "        examples.append(tokens)\n",
        "    return examples\n",
        "\n",
        "tokenize(\"Why, hello there! What's your name?\")"
      ]
    },
    {
      "cell_type": "markdown",
      "metadata": {
        "id": "AYZ_2Mp2exlv"
      },
      "source": [
        "### Data\n",
        "\n",
        "We provide two datasets. Use the small dataset to develop your algorithms and test semantic similarity at the end of the notebook. Use the larger dataset once your models are developed to get a sense for the scalability of your approaches.\n",
        "\n",
        "Please include visualizations of the train/test loss for both datasets. For the small dataset, please train your models for 1000 epochs. For the large dataset, please train your models for at least 100 epochs."
      ]
    },
    {
      "cell_type": "code",
      "execution_count": 4,
      "metadata": {
        "id": "ugg8vLq0p1K8"
      },
      "outputs": [],
      "source": [
        "# Text is lightly adapted (removing punctuation and possesives) from The Raven by Edgar Allan Poe\n",
        "text_small = [\"\"\" Once upon a midnight dreary while I pondered weak and weary\n",
        " Over many a quaint and curious volume of forgotten lore\n",
        " While I nodded nearly napping suddenly there came a tapping\n",
        " As of some one gently rapping rapping at my chamber door\n",
        " This is some visiter I muttered tapping at my chamber door\n",
        "                          Only this and nothing more\n",
        "\n",
        " Ah distinctly I remember it was in the bleak December\n",
        " And each separate dying ember wrought its ghost upon the floor\n",
        " Eagerly I wished the morrow vainly I had sought to borrow\n",
        " From my books surcease of sorrow sorrow for the lost Lenore\n",
        " For the rare and radiant maiden whom the angels name Lenore\n",
        "                          Nameless here for evermore\n",
        "\n",
        " And the silken sad uncertain rustling of each purple curtain\n",
        " Thrilled me filled me with fantastic terrors never felt before\n",
        " So that now to still the beating of my heart I stood repeating\n",
        " This is some visiter entreating entrance at my chamber door\n",
        " Some late visiter entreating entrance at my chamber door\n",
        "                          This it is and nothing more\n",
        "\n",
        " Presently my soul grew stronger hesitating then no longer\n",
        " Sir said I or Madam truly your forgiveness I implore\n",
        " But the fact is I was napping and so gently you came rapping\n",
        " And so faintly you came tapping tapping at my chamber door\n",
        " That I scarce was sure I heard you here I opened wide the door\n",
        "                          Darkness there and nothing more\n",
        "\n",
        " Deep into that darkness peering long I stood there wondering fearing\n",
        " Doubting dreaming dreams no mortal ever dared to dream before\n",
        " But the silence was unbroken and the darkness gave no token\n",
        " And the only word there spoken was the whispered word Lenore\n",
        " This I whispered and an echo murmured back the word Lenore\n",
        "                          Merely this and nothing more\n",
        "\n",
        " Back into the chamber turning all my soul within me burning\n",
        " Soon I heard again a tapping somewhat louder than before\n",
        " Surely said I surely that is something at my window lattice\n",
        " Let me see then what thereat is and this mystery explore\n",
        " Let my heart be still a moment and this mystery explore\n",
        "                          This is the wind and nothing more\n",
        "\n",
        " Open here I flung the shutter when with many a flirt and flutter\n",
        " In there stepped a stately raven of the saintly days of yore\n",
        " Not the least obeisance made he not an instant stopped or stayed he\n",
        " But with mien of lord or lady perched above my chamber door\n",
        " Perched upon a bust of Pallas just above my chamber door\n",
        "                          Perched and sat and nothing more\n",
        "\n",
        " Then this ebony bird beguiling my sad fancy into smiling\n",
        " By the grave and stern decorum of the countenance it wore\n",
        " Though thy crest be shorn and shaven thou I said art sure no craven\n",
        " Ghastly grim and ancient raven wandering from the Nightly shore\n",
        " Tell me what thy lordly name is on the Night Plutonian shore\n",
        "                          Quoth the raven Nevermore\n",
        "\n",
        " Much I marvelled this ungainly fowl to hear discourse so plainly\n",
        " Though its answer little meaninglittle relevancy bore\n",
        " For we cannot help agreeing that no living human being\n",
        " Ever yet was blessed with seeing bird above his chamber door\n",
        " Bird or beast upon the sculptured bust above his chamber door\n",
        "                         With such name as Nevermore\n",
        "\n",
        " But the raven sitting lonely on the placid bust spoke only\n",
        " That one word as if his soul in that one word he did outpour\n",
        " Nothing farther then he utterednot a feather then he fluttered\n",
        " Till I scarcely more than muttered Other friends have flown before\n",
        " On the morrow he will leave me as my hopes have flown before\n",
        "                          Then the bird said Nevermore\n",
        "\n",
        " Startled at the stillness broken by reply so aptly spoken\n",
        " Doubtless said I what it utters is its only stock and store\n",
        " Caught from some unhappy master whom unmerciful Disaster\n",
        " Followed fast and followed faster till his songs one burden bore\n",
        " Till the dirges of his Hope that melancholy burden bore\n",
        "                         Of Never nevermore\n",
        "\n",
        " But the raven still beguiling all my sad soul into smiling\n",
        " Straight I wheeled a cushioned seat in front of bird and bust and door\n",
        " Then upon the velvet sinking I betook myself to thinking\n",
        " Fancy unto fancy thinking what this ominous bird of yore\n",
        " What this grim ungainly ghastly gaunt and ominous bird of yore\n",
        "                         Meant in croaking Nevermore\n",
        "\n",
        " This I sat engaged in guessing but no syllable expressing\n",
        " To the fowl whose fiery eyes now burned into my bosom core\n",
        " This and more I sat divining with my head at ease reclining\n",
        " On the cushion velvet lining that the lamplght gloated over\n",
        " But whose velvet violet lining with the lamplight gloating over\n",
        "                          She shall press ah nevermore\n",
        "\n",
        " Then me thought the air grew denser perfumed from an unseen censer\n",
        " Swung by Angels whose faint foot-falls tinkled on the tufted floor\n",
        " Wretch I cried thy God hath lent theeby these angels he hath sent\n",
        " thee\n",
        " Respite respite and nepenthe from thy memories of Lenore\n",
        " Quaff oh quaff this kind nepenthe and forget this lost Lenore\n",
        "                           Quoth the raven Nevermore\n",
        "\n",
        " Prophet said I thing of evil prophet still if bird or devil\n",
        " Whether Tempter sent or whether tempest tossed thee here ashore\n",
        " Desolate yet all undaunted on this desert land enchanted\n",
        " On this home by Horror haunted tell me truly I implore\n",
        " Is there is there balm in Gilead tell me tell me I implore\n",
        "                           Quoth the raven Nevermore\n",
        "\n",
        " Prophet said I thing of evil prophet still if bird or devil\n",
        " By that Heaven that bends above us by that God we both adore\n",
        " Tell this soul with sorrow laden if within the distant Aidenn\n",
        " It shall clasp a sainted maiden whom the angels name Lenore\n",
        " Clasp a rare and radiant maiden whom the angels name Lenore\n",
        "                           Quoth the raven Nevermore\n",
        "\n",
        " Be that word our sign of parting bird or fiend I shrieked upstarting\n",
        " Get thee back into the tempest and the Night Plutonian shore\n",
        " Leave no black plume as a token of that lie thy soul hath spoken\n",
        " Leave my loneliness unbroken quit the bust above my door\n",
        " Take thy beak from out my heart and take thy form from off my door\n",
        "                          Quoth the raven Nevermore\n",
        "\n",
        " And the raven never flitting still is sitting still is sitting\n",
        " On the pallid bust of Pallas just above my chamber door\n",
        " And his eyes have all the seeming of a demon that is dreaming\n",
        " And the lamp-light over him streaming throws his shadow on the floor\n",
        " And my soul from out that shadow that lies floating on the floor\n",
        "                          Shall be lifted nevermore\"\"\"]"
      ]
    },
    {
      "cell_type": "code",
      "execution_count": 5,
      "metadata": {
        "id": "NCC_hXUb3mu7",
        "colab": {
          "base_uri": "https://localhost:8080/"
        },
        "outputId": "a9cfaa49-670a-4c82-c927-f69c3c280d31"
      },
      "outputs": [
        {
          "output_type": "stream",
          "name": "stdout",
          "text": [
            "I'm afraid I was not able to find the GIFs... is the list \n",
            "updated weekly, perhaps, or am I just missing something? \n",
            " [['im', 'afraid', 'i', 'was', 'not', 'able', 'to', 'find', 'the', 'gifs', 'is', 'the', 'list', 'updated', 'weekly', 'perhaps', 'or', 'am', 'i', 'just', 'missing', 'something']]\n",
            "16\n"
          ]
        }
      ],
      "source": [
        "## Retrieve/Load Data\n",
        "data = fetch_20newsgroups(subset=\"test\", ## Choose Test Since Full Dataset Will Take Significant Training Time                         \n",
        "                          remove=(\"headers\",\"footers\",\"quotes\"),\n",
        "                          data_home=\"./data/\",\n",
        "                          download_if_missing=True,\n",
        "                          shuffle=False)\n",
        "\n",
        "## Isolate Data\n",
        "text_large = data.data\n",
        "labels = data.target\n",
        "\n",
        "## Show Sample Newsgroups Data\n",
        "show = lambda i: print(text_large[i], \"\\n\", tokenize(text_large[i]))\n",
        "show(2)\n",
        "### show the label\n",
        "print(labels[1])"
      ]
    },
    {
      "cell_type": "code",
      "execution_count": 6,
      "metadata": {
        "colab": {
          "base_uri": "https://localhost:8080/"
        },
        "id": "shEDc4pE3mu7",
        "outputId": "73d8f814-2f81-468e-a867-22799df25c37"
      },
      "outputs": [
        {
          "output_type": "stream",
          "name": "stdout",
          "text": [
            "Dataset Size: 1\n"
          ]
        }
      ],
      "source": [
        "## Tokenize Data (We Recommend Developing your model using text_small first)\n",
        "documents = list(map(tokenize, text_small))\n",
        "# documents = list(map(tokenize, text_large))\n",
        "\n",
        "## Flatten Sentences\n",
        "documents = [tokens for d in documents for tokens in d]\n",
        "print(\"Dataset Size:\", len(documents))"
      ]
    },
    {
      "cell_type": "code",
      "execution_count": 7,
      "metadata": {
        "colab": {
          "base_uri": "https://localhost:8080/"
        },
        "id": "y5-2yZrl3mu8",
        "outputId": "3510b1cb-989b-4830-ee36-789068865c87"
      },
      "outputs": [
        {
          "output_type": "stream",
          "name": "stdout",
          "text": [
            "Vocab Size: 160\n"
          ]
        }
      ],
      "source": [
        "## Choose Frequency and Top Word Removal (Should Change This Depending on the Dataset)\n",
        "MIN_FREQ = 2\n",
        "RM_TOP = 1\n",
        "\n",
        "## Get Vocabulary\n",
        "vocab = [t for document in documents for t in document]\n",
        "vocab_counts = Counter(vocab)\n",
        "stopwords = set([s[0] for s in vocab_counts.most_common(RM_TOP)])\n",
        "vocab = set([v for v in set(vocab) if vocab_counts[v] >= MIN_FREQ and v not in stopwords] + [\"EOS\"])\n",
        "vocab_size = len(vocab)\n",
        "print(\"Vocab Size:\", vocab_size) # MIN_FREQ=2, RM_TOP=5, vocab_size =156\n",
        "\n",
        "# Build a dictionary so that each word in vocabualary is assigned a number and \n",
        "# and we can map each number back to the word\n",
        "w2i = {w: i for i, w in enumerate(sorted(vocab))}\n",
        "i2w = {i: w for i, w in enumerate(sorted(vocab))}"
      ]
    },
    {
      "cell_type": "code",
      "source": [
        "print(w2i, 10)"
      ],
      "metadata": {
        "colab": {
          "base_uri": "https://localhost:8080/"
        },
        "id": "2JyVmzs_Atpm",
        "outputId": "b40cbdab-0fda-4179-d6c3-9f77c260fba6"
      },
      "execution_count": 8,
      "outputs": [
        {
          "output_type": "stream",
          "name": "stdout",
          "text": [
            "{'EOS': 0, 'a': 1, 'above': 2, 'ah': 3, 'all': 4, 'an': 5, 'and': 6, 'angels': 7, 'as': 8, 'at': 9, 'back': 10, 'be': 11, 'before': 12, 'beguiling': 13, 'bird': 14, 'bore': 15, 'burden': 16, 'bust': 17, 'but': 18, 'by': 19, 'came': 20, 'chamber': 21, 'clasp': 22, 'darkness': 23, 'devil': 24, 'door': 25, 'dreaming': 26, 'each': 27, 'entrance': 28, 'entreating': 29, 'ever': 30, 'evil': 31, 'explore': 32, 'eyes': 33, 'fancy': 34, 'floor': 35, 'flown': 36, 'followed': 37, 'for': 38, 'fowl': 39, 'from': 40, 'gently': 41, 'ghastly': 42, 'god': 43, 'grew': 44, 'grim': 45, 'hath': 46, 'have': 47, 'he': 48, 'heard': 49, 'heart': 50, 'here': 51, 'his': 52, 'i': 53, 'if': 54, 'implore': 55, 'in': 56, 'into': 57, 'is': 58, 'it': 59, 'its': 60, 'just': 61, 'lamplight': 62, 'leave': 63, 'lenore': 64, 'let': 65, 'lining': 66, 'lost': 67, 'maiden': 68, 'many': 69, 'me': 70, 'more': 71, 'morrow': 72, 'muttered': 73, 'my': 74, 'mystery': 75, 'name': 76, 'napping': 77, 'nepenthe': 78, 'never': 79, 'nevermore': 80, 'night': 81, 'no': 82, 'not': 83, 'nothing': 84, 'now': 85, 'of': 86, 'ominous': 87, 'on': 88, 'one': 89, 'only': 90, 'or': 91, 'out': 92, 'over': 93, 'pallas': 94, 'perched': 95, 'plutonian': 96, 'prophet': 97, 'quaff': 98, 'quoth': 99, 'radiant': 100, 'rapping': 101, 'rare': 102, 'raven': 103, 'respite': 104, 'sad': 105, 'said': 106, 'sat': 107, 'sent': 108, 'shadow': 109, 'shall': 110, 'shore': 111, 'sitting': 112, 'smiling': 113, 'so': 114, 'some': 115, 'sorrow': 116, 'soul': 117, 'spoken': 118, 'still': 119, 'stood': 120, 'sure': 121, 'surely': 122, 'take': 123, 'tapping': 124, 'tell': 125, 'tempest': 126, 'than': 127, 'that': 128, 'thee': 129, 'then': 130, 'there': 131, 'thing': 132, 'thinking': 133, 'this': 134, 'though': 135, 'thy': 136, 'till': 137, 'to': 138, 'token': 139, 'truly': 140, 'unbroken': 141, 'ungainly': 142, 'upon': 143, 'velvet': 144, 'visiter': 145, 'was': 146, 'we': 147, 'what': 148, 'whether': 149, 'while': 150, 'whispered': 151, 'whom': 152, 'whose': 153, 'with': 154, 'within': 155, 'word': 156, 'yet': 157, 'yore': 158, 'you': 159} 10\n"
          ]
        }
      ]
    },
    {
      "cell_type": "code",
      "source": [
        "print(i2w, 10)"
      ],
      "metadata": {
        "colab": {
          "base_uri": "https://localhost:8080/"
        },
        "id": "9b9tQMCOA1oO",
        "outputId": "3acfaf36-b93c-4dea-c99c-dd7d4614a7a3"
      },
      "execution_count": 9,
      "outputs": [
        {
          "output_type": "stream",
          "name": "stdout",
          "text": [
            "{0: 'EOS', 1: 'a', 2: 'above', 3: 'ah', 4: 'all', 5: 'an', 6: 'and', 7: 'angels', 8: 'as', 9: 'at', 10: 'back', 11: 'be', 12: 'before', 13: 'beguiling', 14: 'bird', 15: 'bore', 16: 'burden', 17: 'bust', 18: 'but', 19: 'by', 20: 'came', 21: 'chamber', 22: 'clasp', 23: 'darkness', 24: 'devil', 25: 'door', 26: 'dreaming', 27: 'each', 28: 'entrance', 29: 'entreating', 30: 'ever', 31: 'evil', 32: 'explore', 33: 'eyes', 34: 'fancy', 35: 'floor', 36: 'flown', 37: 'followed', 38: 'for', 39: 'fowl', 40: 'from', 41: 'gently', 42: 'ghastly', 43: 'god', 44: 'grew', 45: 'grim', 46: 'hath', 47: 'have', 48: 'he', 49: 'heard', 50: 'heart', 51: 'here', 52: 'his', 53: 'i', 54: 'if', 55: 'implore', 56: 'in', 57: 'into', 58: 'is', 59: 'it', 60: 'its', 61: 'just', 62: 'lamplight', 63: 'leave', 64: 'lenore', 65: 'let', 66: 'lining', 67: 'lost', 68: 'maiden', 69: 'many', 70: 'me', 71: 'more', 72: 'morrow', 73: 'muttered', 74: 'my', 75: 'mystery', 76: 'name', 77: 'napping', 78: 'nepenthe', 79: 'never', 80: 'nevermore', 81: 'night', 82: 'no', 83: 'not', 84: 'nothing', 85: 'now', 86: 'of', 87: 'ominous', 88: 'on', 89: 'one', 90: 'only', 91: 'or', 92: 'out', 93: 'over', 94: 'pallas', 95: 'perched', 96: 'plutonian', 97: 'prophet', 98: 'quaff', 99: 'quoth', 100: 'radiant', 101: 'rapping', 102: 'rare', 103: 'raven', 104: 'respite', 105: 'sad', 106: 'said', 107: 'sat', 108: 'sent', 109: 'shadow', 110: 'shall', 111: 'shore', 112: 'sitting', 113: 'smiling', 114: 'so', 115: 'some', 116: 'sorrow', 117: 'soul', 118: 'spoken', 119: 'still', 120: 'stood', 121: 'sure', 122: 'surely', 123: 'take', 124: 'tapping', 125: 'tell', 126: 'tempest', 127: 'than', 128: 'that', 129: 'thee', 130: 'then', 131: 'there', 132: 'thing', 133: 'thinking', 134: 'this', 135: 'though', 136: 'thy', 137: 'till', 138: 'to', 139: 'token', 140: 'truly', 141: 'unbroken', 142: 'ungainly', 143: 'upon', 144: 'velvet', 145: 'visiter', 146: 'was', 147: 'we', 148: 'what', 149: 'whether', 150: 'while', 151: 'whispered', 152: 'whom', 153: 'whose', 154: 'with', 155: 'within', 156: 'word', 157: 'yet', 158: 'yore', 159: 'you'} 10\n"
          ]
        }
      ]
    },
    {
      "cell_type": "code",
      "execution_count": 10,
      "metadata": {
        "id": "0eEjr1so3mu8"
      },
      "outputs": [],
      "source": [
        "## Update The Documents with OOV Token\n",
        "documents = [list(filter(lambda token: token in vocab, document)) for document in documents]\n",
        "\n",
        "## Sample Training And Test Documents\n",
        "np.random.seed(1)\n",
        "documents_train = documents_test = documents\n",
        "if len(documents) > 1:\n",
        "    train_ind, test_ind = train_test_split(list(range(len(documents))))\n",
        "    documents_train = [documents[t] for t in train_ind]\n",
        "    documents_test = [documents[t] for t in test_ind]"
      ]
    },
    {
      "cell_type": "markdown",
      "metadata": {
        "id": "BRocPD4Hexly"
      },
      "source": [
        "![Continuous bag of words vs. skipgram model](https://raw.githubusercontent.com/jojonki/word2vec-pytorch/master/word2vec.PNG)\n",
        "\n",
        "Image from https://github.com/jojonki/word2vec-pytorch"
      ]
    },
    {
      "cell_type": "markdown",
      "metadata": {
        "id": "2WieX3gNexly"
      },
      "source": [
        "## CBOW Implementation\n",
        "\n",
        "Fill in the TODOs below."
      ]
    },
    {
      "cell_type": "code",
      "execution_count": 11,
      "metadata": {
        "colab": {
          "base_uri": "https://localhost:8080/"
        },
        "id": "ieNe8eCR3mu9",
        "outputId": "bd0f356e-31d0-40f7-bdbf-e47c2c210679"
      },
      "outputs": [
        {
          "output_type": "stream",
          "name": "stdout",
          "text": [
            "cbow train samples\n",
            "(['EOS', 'EOS', 'a', 'while'], 'upon')\n",
            "(['upon', 'EOS', 'while', 'i'], 'a')\n",
            "(['a', 'upon', 'i', 'and'], 'while')\n",
            "(['while', 'a', 'and', 'over'], 'i')\n",
            "(['i', 'while', 'over', 'many'], 'and')\n",
            "['upon', 'a', 'while', 'i', 'and', 'over', 'many', 'a', 'and', 'of', 'while', 'i', 'napping', 'there', 'came', 'a', 'tapping', 'as', 'of', 'some', 'one', 'gently', 'rapping', 'rapping', 'at', 'my', 'chamber', 'door', 'this', 'is', 'some', 'visiter', 'i', 'muttered', 'tapping', 'at', 'my', 'chamber', 'door', 'only', 'this', 'and', 'nothing', 'more', 'ah', 'i', 'it', 'was', 'in', 'and', 'each', 'its', 'upon', 'floor', 'i', 'morrow', 'i', 'to', 'from', 'my', 'of', 'sorrow', 'sorrow', 'for', 'lost', 'lenore', 'for', 'rare', 'and', 'radiant', 'maiden', 'whom', 'angels', 'name', 'lenore', 'here', 'for', 'and', 'sad', 'of', 'each', 'me', 'me', 'with', 'never', 'before', 'so', 'that', 'now', 'to', 'still', 'of', 'my', 'heart', 'i', 'stood', 'this', 'is', 'some', 'visiter', 'entreating', 'entrance', 'at', 'my', 'chamber', 'door', 'some', 'visiter', 'entreating', 'entrance', 'at', 'my', 'chamber', 'door', 'this', 'it', 'is', 'and', 'nothing', 'more', 'my', 'soul', 'grew', 'then', 'no', 'said', 'i', 'or', 'truly', 'i', 'implore', 'but', 'is', 'i', 'was', 'napping', 'and', 'so', 'gently', 'you', 'came', 'rapping', 'and', 'so', 'you', 'came', 'tapping', 'tapping', 'at', 'my', 'chamber', 'door', 'that', 'i', 'was', 'sure', 'i', 'heard', 'you', 'here', 'i', 'door', 'darkness', 'there', 'and', 'nothing', 'more', 'into', 'that', 'darkness', 'i', 'stood', 'there', 'dreaming', 'no', 'ever', 'to', 'before', 'but', 'was', 'unbroken', 'and', 'darkness', 'no', 'token', 'and', 'only', 'word', 'there', 'spoken', 'was', 'whispered', 'word', 'lenore', 'this', 'i', 'whispered', 'and', 'an', 'back', 'word', 'lenore', 'this', 'and', 'nothing', 'more', 'back', 'into', 'chamber', 'all', 'my', 'soul', 'within', 'me', 'i', 'heard', 'a', 'tapping', 'than', 'before', 'surely', 'said', 'i', 'surely', 'that', 'is', 'at', 'my', 'let', 'me', 'then', 'what', 'is', 'and', 'this', 'mystery', 'explore', 'let', 'my', 'heart', 'be', 'still', 'a', 'and', 'this', 'mystery', 'explore', 'this', 'is', 'and', 'nothing', 'more', 'here', 'i', 'with', 'many', 'a', 'and', 'in', 'there', 'a', 'raven', 'of', 'of', 'yore', 'not', 'he', 'not', 'an', 'or', 'he', 'but', 'with', 'of', 'or', 'perched', 'above', 'my', 'chamber', 'door', 'perched', 'upon', 'a', 'bust', 'of', 'pallas', 'just', 'above', 'my', 'chamber', 'door', 'perched', 'and', 'sat', 'and', 'nothing', 'more', 'then', 'this', 'bird', 'beguiling', 'my', 'sad', 'fancy', 'into', 'smiling', 'by', 'and', 'of', 'it', 'though', 'thy', 'be', 'and', 'i', 'said', 'sure', 'no', 'ghastly', 'grim', 'and', 'raven', 'from', 'shore', 'tell', 'me', 'what', 'thy', 'name', 'is', 'on', 'night', 'plutonian', 'shore', 'quoth', 'raven', 'nevermore', 'i', 'this', 'ungainly', 'fowl', 'to', 'so', 'though', 'its', 'bore', 'for', 'we', 'not', 'that', 'no', 'ever', 'yet', 'was', 'with', 'bird', 'above', 'his', 'chamber', 'door', 'bird', 'or', 'upon', 'bust', 'above', 'his', 'chamber', 'door', 'with', 'name', 'as', 'nevermore', 'but', 'raven', 'sitting', 'on', 'bust', 'only', 'that', 'one', 'word', 'as', 'if', 'his', 'soul', 'in', 'that', 'one', 'word', 'he', 'nothing', 'then', 'he', 'a', 'then', 'he', 'till', 'i', 'more', 'than', 'muttered', 'have', 'flown', 'before', 'on', 'morrow', 'he', 'leave', 'me', 'as', 'my', 'have', 'flown', 'before', 'then', 'bird', 'said', 'nevermore', 'at', 'by', 'so', 'spoken', 'said', 'i', 'what', 'it', 'is', 'its', 'only', 'and', 'from', 'some', 'whom', 'followed', 'and', 'followed', 'till', 'his', 'one', 'burden', 'bore', 'till', 'of', 'his', 'that', 'burden', 'bore', 'of', 'never', 'nevermore', 'but', 'raven', 'still', 'beguiling', 'all', 'my', 'sad', 'soul', 'into', 'smiling', 'i', 'a', 'in', 'of', 'bird', 'and', 'bust', 'and', 'door', 'then', 'upon', 'velvet', 'i', 'to', 'thinking', 'fancy', 'fancy', 'thinking', 'what', 'this', 'ominous', 'bird', 'of', 'yore', 'what', 'this', 'grim', 'ungainly', 'ghastly', 'and', 'ominous', 'bird', 'of', 'yore', 'in', 'nevermore', 'this', 'i', 'sat', 'in', 'but', 'no', 'to', 'fowl', 'whose', 'eyes', 'now', 'into', 'my', 'this', 'and', 'more', 'i', 'sat', 'with', 'my', 'at', 'on', 'velvet', 'lining', 'that', 'over', 'but', 'whose', 'velvet', 'lining', 'with', 'lamplight', 'over', 'shall', 'ah', 'nevermore', 'then', 'me', 'grew', 'from', 'an', 'by', 'angels', 'whose', 'on', 'floor', 'i', 'thy', 'god', 'hath', 'angels', 'he', 'hath', 'sent', 'thee', 'respite', 'respite', 'and', 'nepenthe', 'from', 'thy', 'of', 'lenore', 'quaff', 'quaff', 'this', 'nepenthe', 'and', 'this', 'lost', 'lenore', 'quoth', 'raven', 'nevermore', 'prophet', 'said', 'i', 'thing', 'of', 'evil', 'prophet', 'still', 'if', 'bird', 'or', 'devil', 'whether', 'sent', 'or', 'whether', 'tempest', 'thee', 'here', 'yet', 'all', 'on', 'this', 'on', 'this', 'by', 'tell', 'me', 'truly', 'i', 'implore', 'is', 'there', 'is', 'there', 'in', 'tell', 'me', 'tell', 'me', 'i', 'implore', 'quoth', 'raven', 'nevermore', 'prophet', 'said', 'i', 'thing', 'of', 'evil', 'prophet', 'still', 'if', 'bird', 'or', 'devil', 'by', 'that', 'that', 'above', 'by', 'that', 'god', 'we', 'tell', 'this', 'soul', 'with', 'sorrow', 'if', 'within', 'it', 'shall', 'clasp', 'a', 'maiden', 'whom', 'angels', 'name', 'lenore', 'clasp', 'a', 'rare', 'and', 'radiant', 'maiden', 'whom', 'angels', 'name', 'lenore', 'quoth', 'raven', 'nevermore', 'be', 'that', 'word', 'of', 'bird', 'or', 'i', 'thee', 'back', 'into', 'tempest', 'and', 'night', 'plutonian', 'shore', 'leave', 'no', 'as', 'a', 'token', 'of', 'that', 'thy', 'soul', 'hath', 'spoken', 'leave', 'my', 'unbroken', 'bust', 'above', 'my', 'door', 'take', 'thy', 'from', 'out', 'my', 'heart', 'and', 'take', 'thy', 'from', 'my', 'door', 'quoth', 'raven', 'nevermore', 'and', 'raven', 'never', 'still', 'is', 'sitting', 'still', 'is', 'sitting', 'on', 'bust', 'of', 'pallas', 'just', 'above', 'my', 'chamber', 'door', 'and', 'his', 'eyes', 'have', 'all', 'of', 'a', 'that', 'is', 'dreaming', 'and', 'lamplight', 'over', 'his', 'shadow', 'on', 'floor', 'and', 'my', 'soul', 'from', 'out', 'that', 'shadow', 'that', 'on', 'floor', 'shall', 'be', 'nevermore']\n",
            "total train samples 760\n",
            "total test samples 760\n"
          ]
        }
      ],
      "source": [
        "## Choose Context Size\n",
        "CONTEXT_SIZE = 2\n",
        "\n",
        "# Tuple of an array of words (the context) to a word (the target)\n",
        "def create_cbow_dataset(documents, context_size):\n",
        "    data = []\n",
        "    for document in documents:\n",
        "        ## Pad the sentence\n",
        "        document = [\"EOS\"] * context_size + document + [\"EOS\"] * context_size\n",
        "        ## Get Context Tokens\n",
        "        for i in range(context_size, len(document) - context_size):\n",
        "            target = document[i]\n",
        "            before_ctx = []\n",
        "            after_ctx = []\n",
        "            for j in range(1,context_size+1):\n",
        "                before_ctx.append(document[i - j])\n",
        "                after_ctx.append(document[i + j])\n",
        "            context = before_ctx + after_ctx\n",
        "            data.append((context, target))\n",
        "    return data\n",
        "\n",
        "## Generate Datasets\n",
        "cbow_train = create_cbow_dataset(documents_train, context_size=CONTEXT_SIZE)\n",
        "cbow_test = create_cbow_dataset(documents_test, context_size=CONTEXT_SIZE)\n",
        "\n",
        "## Show Samples\n",
        "print('cbow train samples')\n",
        "for i in range(5):\n",
        "    print(cbow_train[i])\n",
        "print(documents_train[0])\n",
        "print(\"total train samples\", len(cbow_train))\n",
        "print(\"total test samples\", len(cbow_test))"
      ]
    },
    {
      "cell_type": "code",
      "execution_count": 12,
      "metadata": {
        "colab": {
          "base_uri": "https://localhost:8080/"
        },
        "id": "WCCY_ghUq7yt",
        "outputId": "dbc81732-9099-4b89-d117-9039d73fafcb"
      },
      "outputs": [
        {
          "output_type": "execute_result",
          "data": {
            "text/plain": [
              "[(['EOS', 'EOS', 'there', 'my'], 'hello'),\n",
              " (['hello', 'EOS', 'my', 'friend'], 'there'),\n",
              " (['there', 'hello', 'friend', 'EOS'], 'my'),\n",
              " (['my', 'there', 'EOS', 'EOS'], 'friend')]"
            ]
          },
          "metadata": {},
          "execution_count": 12
        }
      ],
      "source": [
        "## Example of the Dataset Generator\n",
        "create_cbow_dataset([[\"hello\",\"there\",\"my\",\"friend\"]], 2)"
      ]
    },
    {
      "cell_type": "code",
      "execution_count": 13,
      "metadata": {
        "id": "3koSmBOxcFrl"
      },
      "outputs": [],
      "source": [
        "## Helper Function to Construct Batches of Examples\n",
        "def get_cbow_batches(data, batch_size):\n",
        "    \"\"\"\n",
        "    Generate batches of data for training CBOW Model\n",
        "    \"\"\"\n",
        "    indices = np.arange(len(data))\n",
        "    np.random.shuffle(indices)\n",
        "    current_batch = []\n",
        "    for i, indice in enumerate(indices):\n",
        "      # context: context words\n",
        "      # target: target word\n",
        "        context, target = data[indice]\n",
        "        ctx_idxs = [w2i[w] for w in context]\n",
        "        ctx_var = torch.LongTensor(ctx_idxs)\n",
        "        current_batch.append((ctx_var, torch.LongTensor([w2i[target]])))\n",
        "        # ignore the dataset which has not enough for batch size\n",
        "        if current_batch and len(current_batch) % batch_size == 0 or i == len(indices) - 1:\n",
        "            batch_context = torch.stack([v[0] for v in current_batch])\n",
        "            batch_target = torch.stack([v[1] for v in current_batch])\n",
        "            current_batch = []\n",
        "            yield batch_context, batch_target\n"
      ]
    },
    {
      "cell_type": "code",
      "execution_count": 14,
      "metadata": {
        "id": "umTc6U0Mp4q6"
      },
      "outputs": [],
      "source": [
        "# Simple 3 layer network to map target word to an array of probabilities for \n",
        "# each word being in its context\n",
        "# Note that the first layer is a special layer - an embedding layer \n",
        "# It maps the one-hot encoded vocabulary to a vector of a fixed size \n",
        "class CBOW(nn.Module):\n",
        "    def __init__(self, vocab_size, embd_size, context_size, hidden_size):\n",
        "        super(CBOW, self).__init__()\n",
        "        #TODO implement layers show in the picture above\n",
        "        # 1st layer network: embedding\n",
        "        self.embeddings = nn.Embedding(vocab_size, embd_size)\n",
        "        # 2nd layer network: affine + relu\n",
        "        self.linear1 = nn.Linear(embd_size, hidden_size)\n",
        "        self.activation_function1 = nn.ReLU()\n",
        "        # 3rd layer network: affine + softmax\n",
        "        self.linear2 = nn.Linear(hidden_size, vocab_size)\n",
        "        self.activation_function2 = nn.LogSoftmax(dim=-1)\n",
        "\n",
        "    def forward(self, inputs):\n",
        "        #TODO implement the forward of CBOW architecture\n",
        "        #print(\"input:\", inputs.size()) # 1000*4\n",
        "        #nn.Embedding is a lookup table. You just need to give in the indices of the words , and it gives you the word vectors for those words.\n",
        "        \n",
        "        embeds = torch.sum(self.embeddings(inputs), dim=1, keepdim=False)\n",
        "        #print(\"embeds:\", embeds.size()) # 4*300 #1*1200 #1000 * 300\n",
        "        \n",
        "        out = self.linear1(embeds)\n",
        "        out = self.activation_function1(out)\n",
        "        #print(\"out activation1:\", out.size()) #4*128\n",
        "        \n",
        "        out = self.linear2(out)\n",
        "        out = self.activation_function2(out)\n",
        "        #print(\"out activation2\", out.size()) #4*435 #300 * 128 #1000 * 435\n",
        "        return out \n",
        "       \n",
        "        #raise NotImplementedError\n"
      ]
    },
    {
      "cell_type": "code",
      "execution_count": 18,
      "metadata": {
        "id": "LvXQOf0TeKBk",
        "colab": {
          "base_uri": "https://localhost:8080/"
        },
        "outputId": "b2bcf643-a80a-4f4d-fd72-57c5096d40e8"
      },
      "outputs": [
        {
          "output_type": "stream",
          "name": "stdout",
          "text": [
            "CBOW(\n",
            "  (embeddings): Embedding(160, 300)\n",
            "  (linear1): Linear(in_features=300, out_features=128, bias=True)\n",
            "  (activation_function1): ReLU()\n",
            "  (linear2): Linear(in_features=128, out_features=160, bias=True)\n",
            "  (activation_function2): LogSoftmax(dim=-1)\n",
            ")\n",
            "Epoch 1/100 || Train Loss: 4.4922 || Test Loss: 4.4922\n",
            "Epoch 2/100 || Train Loss: 4.0141 || Test Loss: 4.0141\n",
            "Epoch 3/100 || Train Loss: 3.6140 || Test Loss: 3.6140\n",
            "Epoch 4/100 || Train Loss: 3.3282 || Test Loss: 3.3282\n",
            "Epoch 5/100 || Train Loss: 3.6351 || Test Loss: 3.6351\n",
            "Epoch 6/100 || Train Loss: 3.0624 || Test Loss: 3.0624\n",
            "Epoch 7/100 || Train Loss: 2.7093 || Test Loss: 2.7093\n",
            "Epoch 8/100 || Train Loss: 2.3568 || Test Loss: 2.3568\n",
            "Epoch 9/100 || Train Loss: 2.2759 || Test Loss: 2.2759\n",
            "Epoch 10/100 || Train Loss: 2.3331 || Test Loss: 2.3331\n",
            "Epoch 11/100 || Train Loss: 2.0108 || Test Loss: 2.0108\n",
            "Epoch 12/100 || Train Loss: 1.9023 || Test Loss: 1.9023\n",
            "Epoch 13/100 || Train Loss: 1.3356 || Test Loss: 1.3356\n",
            "Epoch 14/100 || Train Loss: 1.2814 || Test Loss: 1.2814\n",
            "Epoch 15/100 || Train Loss: 1.1097 || Test Loss: 1.1097\n",
            "Epoch 16/100 || Train Loss: 1.1325 || Test Loss: 1.1325\n",
            "Epoch 17/100 || Train Loss: 1.3238 || Test Loss: 1.3238\n",
            "Epoch 18/100 || Train Loss: 0.7751 || Test Loss: 0.7751\n",
            "Epoch 19/100 || Train Loss: 0.5153 || Test Loss: 0.5153\n",
            "Epoch 20/100 || Train Loss: 0.5360 || Test Loss: 0.5360\n",
            "Epoch 21/100 || Train Loss: 0.3869 || Test Loss: 0.3869\n",
            "Epoch 22/100 || Train Loss: 0.5232 || Test Loss: 0.5232\n",
            "Epoch 23/100 || Train Loss: 0.2489 || Test Loss: 0.2489\n",
            "Epoch 24/100 || Train Loss: 0.2000 || Test Loss: 0.2000\n",
            "Epoch 25/100 || Train Loss: 0.1703 || Test Loss: 0.1703\n",
            "Epoch 26/100 || Train Loss: 0.1510 || Test Loss: 0.1510\n",
            "Epoch 27/100 || Train Loss: 0.1366 || Test Loss: 0.1366\n",
            "Epoch 28/100 || Train Loss: 0.1247 || Test Loss: 0.1247\n",
            "Epoch 29/100 || Train Loss: 0.1151 || Test Loss: 0.1151\n",
            "Epoch 30/100 || Train Loss: 0.1072 || Test Loss: 0.1072\n",
            "Epoch 31/100 || Train Loss: 0.1005 || Test Loss: 0.1005\n",
            "Epoch 32/100 || Train Loss: 0.0947 || Test Loss: 0.0947\n",
            "Epoch 33/100 || Train Loss: 0.0896 || Test Loss: 0.0896\n",
            "Epoch 34/100 || Train Loss: 0.0851 || Test Loss: 0.0851\n",
            "Epoch 35/100 || Train Loss: 0.0811 || Test Loss: 0.0811\n",
            "Epoch 36/100 || Train Loss: 0.0775 || Test Loss: 0.0775\n",
            "Epoch 37/100 || Train Loss: 0.0743 || Test Loss: 0.0743\n",
            "Epoch 38/100 || Train Loss: 0.0714 || Test Loss: 0.0714\n",
            "Epoch 39/100 || Train Loss: 0.0687 || Test Loss: 0.0687\n",
            "Epoch 40/100 || Train Loss: 0.0662 || Test Loss: 0.0662\n",
            "Epoch 41/100 || Train Loss: 0.0640 || Test Loss: 0.0640\n",
            "Epoch 42/100 || Train Loss: 0.0618 || Test Loss: 0.0618\n",
            "Epoch 43/100 || Train Loss: 0.0599 || Test Loss: 0.0599\n",
            "Epoch 44/100 || Train Loss: 0.0581 || Test Loss: 0.0581\n",
            "Epoch 45/100 || Train Loss: 0.0565 || Test Loss: 0.0565\n",
            "Epoch 46/100 || Train Loss: 0.0549 || Test Loss: 0.0549\n",
            "Epoch 47/100 || Train Loss: 0.0535 || Test Loss: 0.0535\n",
            "Epoch 48/100 || Train Loss: 0.0521 || Test Loss: 0.0521\n",
            "Epoch 49/100 || Train Loss: 0.0508 || Test Loss: 0.0508\n",
            "Epoch 50/100 || Train Loss: 0.0496 || Test Loss: 0.0496\n",
            "Epoch 51/100 || Train Loss: 0.0485 || Test Loss: 0.0485\n",
            "Epoch 52/100 || Train Loss: 0.0474 || Test Loss: 0.0474\n",
            "Epoch 53/100 || Train Loss: 0.0464 || Test Loss: 0.0464\n",
            "Epoch 54/100 || Train Loss: 0.0454 || Test Loss: 0.0454\n",
            "Epoch 55/100 || Train Loss: 0.0446 || Test Loss: 0.0446\n",
            "Epoch 56/100 || Train Loss: 0.0437 || Test Loss: 0.0437\n",
            "Epoch 57/100 || Train Loss: 0.0429 || Test Loss: 0.0429\n",
            "Epoch 58/100 || Train Loss: 0.0421 || Test Loss: 0.0421\n",
            "Epoch 59/100 || Train Loss: 0.0414 || Test Loss: 0.0414\n",
            "Epoch 60/100 || Train Loss: 0.0407 || Test Loss: 0.0407\n",
            "Epoch 61/100 || Train Loss: 0.0400 || Test Loss: 0.0400\n",
            "Epoch 62/100 || Train Loss: 0.0393 || Test Loss: 0.0393\n",
            "Epoch 63/100 || Train Loss: 0.0388 || Test Loss: 0.0388\n",
            "Epoch 64/100 || Train Loss: 0.0381 || Test Loss: 0.0381\n",
            "Epoch 65/100 || Train Loss: 0.0376 || Test Loss: 0.0376\n",
            "Epoch 66/100 || Train Loss: 0.0371 || Test Loss: 0.0371\n",
            "Epoch 67/100 || Train Loss: 0.0366 || Test Loss: 0.0366\n",
            "Epoch 68/100 || Train Loss: 0.0361 || Test Loss: 0.0361\n",
            "Epoch 69/100 || Train Loss: 0.0356 || Test Loss: 0.0356\n",
            "Epoch 70/100 || Train Loss: 0.0351 || Test Loss: 0.0351\n",
            "Epoch 71/100 || Train Loss: 0.0347 || Test Loss: 0.0347\n",
            "Epoch 72/100 || Train Loss: 0.0342 || Test Loss: 0.0342\n",
            "Epoch 73/100 || Train Loss: 0.0339 || Test Loss: 0.0339\n",
            "Epoch 74/100 || Train Loss: 0.0335 || Test Loss: 0.0335\n",
            "Epoch 75/100 || Train Loss: 0.0332 || Test Loss: 0.0332\n",
            "Epoch 76/100 || Train Loss: 0.0328 || Test Loss: 0.0328\n",
            "Epoch 77/100 || Train Loss: 0.0324 || Test Loss: 0.0324\n",
            "Epoch 78/100 || Train Loss: 0.0320 || Test Loss: 0.0320\n",
            "Epoch 79/100 || Train Loss: 0.0317 || Test Loss: 0.0317\n",
            "Epoch 80/100 || Train Loss: 0.0314 || Test Loss: 0.0314\n",
            "Epoch 81/100 || Train Loss: 0.0311 || Test Loss: 0.0311\n",
            "Epoch 82/100 || Train Loss: 0.0308 || Test Loss: 0.0308\n",
            "Epoch 83/100 || Train Loss: 0.0305 || Test Loss: 0.0305\n",
            "Epoch 84/100 || Train Loss: 0.0302 || Test Loss: 0.0302\n",
            "Epoch 85/100 || Train Loss: 0.0300 || Test Loss: 0.0300\n",
            "Epoch 86/100 || Train Loss: 0.0297 || Test Loss: 0.0297\n",
            "Epoch 87/100 || Train Loss: 0.0295 || Test Loss: 0.0295\n",
            "Epoch 88/100 || Train Loss: 0.0292 || Test Loss: 0.0292\n",
            "Epoch 89/100 || Train Loss: 0.0290 || Test Loss: 0.0290\n",
            "Epoch 90/100 || Train Loss: 0.0287 || Test Loss: 0.0287\n",
            "Epoch 91/100 || Train Loss: 0.0285 || Test Loss: 0.0285\n",
            "Epoch 92/100 || Train Loss: 0.0283 || Test Loss: 0.0283\n",
            "Epoch 93/100 || Train Loss: 0.0281 || Test Loss: 0.0281\n",
            "Epoch 94/100 || Train Loss: 0.0279 || Test Loss: 0.0279\n",
            "Epoch 95/100 || Train Loss: 0.0277 || Test Loss: 0.0277\n",
            "Epoch 96/100 || Train Loss: 0.0275 || Test Loss: 0.0275\n",
            "Epoch 97/100 || Train Loss: 0.0273 || Test Loss: 0.0273\n",
            "Epoch 98/100 || Train Loss: 0.0271 || Test Loss: 0.0271\n",
            "Epoch 99/100 || Train Loss: 0.0269 || Test Loss: 0.0269\n",
            "Epoch 100/100 || Train Loss: 0.0267 || Test Loss: 0.0267\n",
            "Training Complete.\n"
          ]
        }
      ],
      "source": [
        "def train_cbow(train_data,\n",
        "               test_data,\n",
        "               model=None,\n",
        "               n_epoch=5,\n",
        "               embd_size=100,\n",
        "               learning_rate=0.01,\n",
        "               context_size=CONTEXT_SIZE,\n",
        "               batch_size=1000,\n",
        "               hidden_size=64,\n",
        "               print_every=5000,\n",
        "               random_seed=1):\n",
        "    \"\"\"\n",
        "    \n",
        "    \"\"\"\n",
        "    ## Set Random Seed\n",
        "    torch.manual_seed(random_seed)\n",
        "    ## Batch size\n",
        "    batch_size = min(batch_size, len(train_data))\n",
        "    ## Initialize New Model if Not Using Existing\n",
        "    if model is None:\n",
        "        model = CBOW(vocab_size, embd_size, context_size, hidden_size)\n",
        "    ## GPU\n",
        "    gpu_avail = torch.cuda.is_available()\n",
        "    if gpu_avail:\n",
        "        model = model.cuda()\n",
        "    ## Show the Model\n",
        "    print(model)\n",
        "    ## Initialize Optimizer\n",
        "    optimizer = optim.SGD(model.parameters(), lr=learning_rate)\n",
        "    ##TODO: Choose the appropriate loss function\n",
        "    loss_fn = nn.NLLLoss()\n",
        "    ## Cache for Loss Values\n",
        "    losses = []\n",
        "    test_losses = []\n",
        "    ## Training Loop\n",
        "    for epoch in range(n_epoch):\n",
        "        total_loss = .0\n",
        "        model.train()\n",
        "        for batch, (context, target) in enumerate(get_cbow_batches(train_data, batch_size)):\n",
        "            ##TODO implement training procedure for CBOW\n",
        "            model.zero_grad()\n",
        "            log_probs = model(context.cuda())#.view(-1,1) context.cuda()\n",
        "            #new_log_probs,_ = torch.max(log_probs, dim=1)\n",
        "            #new_log_probs = torch.tensor(new_log_probs)\n",
        "            target = target.squeeze(dim=1) #1000*1\n",
        "            #print(\"log_probs:\", log_probs.size()) ##1000*435 , 900*435\n",
        "            #print(\"new_log_probs:\", new_log_probs.size()) \n",
        "            #print(\"target:\" , target.size()) #1000\n",
        "            loss = loss_fn(log_probs, target.cuda()) #target.cuda()\n",
        "\n",
        "            loss.backward()\n",
        "            optimizer.step()\n",
        "        \n",
        "            total_loss += loss.item()\n",
        "            \n",
        "            if print_every is not None and (batch + 1) % print_every == 0:\n",
        "                print(\"Epoch {} || batch {} || Loss: {:.4f}\".format(epoch+1, batch+1, total_loss / (batch+1)))\n",
        "        \n",
        "        model.eval()\n",
        "        ##TODO Compute Loss on Test and Training Data\n",
        "        train_loss = .0\n",
        "        for batch, (context, target) in enumerate(get_cbow_batches(train_data, batch_size)):\n",
        "          log_probs = model(context.cuda())\n",
        "          target = target.squeeze(dim=1)\n",
        "          loss = loss_fn(log_probs,target.cuda())\n",
        "          train_loss += loss.item()\n",
        "        test_loss = .0\n",
        "        for batch, (context, target) in enumerate(get_cbow_batches(test_data, batch_size)):\n",
        "          log_probs = model(context.cuda())\n",
        "          target = target.squeeze(dim=1)\n",
        "          loss = loss_fn(log_probs,target.cuda())\n",
        "          test_loss += loss.item()        \n",
        "        print(\"Epoch {}/{} || Train Loss: {:.4f} || Test Loss: {:.4f}\".format(epoch+1, n_epoch, train_loss, test_loss))\n",
        "        losses.append(train_loss)\n",
        "        test_losses.append(test_loss)\n",
        "    print(\"Training Complete.\")\n",
        "    return model, losses, test_losses\n",
        "\n",
        "## Train Model\n",
        "cbow_model, cbow_losses, cbow_test_losses = train_cbow(cbow_train,\n",
        "                                     cbow_test,\n",
        "                                     model=None,\n",
        "                                     n_epoch=100,\n",
        "                                     embd_size=300,\n",
        "                                     context_size=CONTEXT_SIZE,\n",
        "                                     batch_size=1000,\n",
        "                                     learning_rate=1,\n",
        "                                     hidden_size=128,\n",
        "                                     print_every=100)\n",
        "\n"
      ]
    },
    {
      "cell_type": "code",
      "execution_count": 19,
      "metadata": {
        "id": "A5mWs1e9p9Bc",
        "colab": {
          "base_uri": "https://localhost:8080/"
        },
        "outputId": "801781ae-ff50-4911-dfa8-c4a1acfd31e5"
      },
      "outputs": [
        {
          "output_type": "stream",
          "name": "stdout",
          "text": [
            "Accuracy: 99.2% (754/760)\n",
            "Accuracy: 99.2% (754/760)\n"
          ]
        }
      ],
      "source": [
        "## Test Predictive Accuracy\n",
        "def test_cbow(test_data, model, sample_size=None, seed=42, use_gpu=False):\n",
        "    ## Random State\n",
        "    np.random.seed(seed)\n",
        "    ## Count Correct Answers\n",
        "    correct_ct = 0\n",
        "    ## Downsample if Desired (To Save Time)\n",
        "    if sample_size is None:\n",
        "        sample = test_data\n",
        "    else:\n",
        "        sample = np.random.choice(len(test_data), sample_size, replace=False)\n",
        "        sample = [test_data[s] for s in sample]\n",
        "    ## Evaluate\n",
        "    model.eval()\n",
        "    for ctx_var, target in get_cbow_batches(sample, 1):\n",
        "        if use_gpu:\n",
        "            ctx_var = ctx_var.cuda()\n",
        "        model.zero_grad()\n",
        "        log_probs = model(ctx_var)\n",
        "        if use_gpu:\n",
        "            log_probs = log_probs.cpu()\n",
        "        _, predicted = torch.max(log_probs, 1)\n",
        "        if torch.eq(predicted, target[0]):\n",
        "            correct_ct += 1\n",
        "            \n",
        "    print('Accuracy: {:.1f}% ({:d}/{:d})'.format(correct_ct/len(sample)*100, correct_ct, len(sample)))\n",
        "\n",
        "test_cbow(cbow_train, cbow_model, sample_size=min(5000, len(cbow_train)), use_gpu=torch.cuda.is_available())\n",
        "test_cbow(cbow_test, cbow_model, sample_size=min(5000, len(cbow_test)), use_gpu=torch.cuda.is_available())"
      ]
    },
    {
      "cell_type": "code",
      "execution_count": 20,
      "metadata": {
        "id": "Rugyf90I0v_M",
        "colab": {
          "base_uri": "https://localhost:8080/",
          "height": 299
        },
        "outputId": "27f03373-31f9-48d7-d135-21fdaf7a49e8"
      },
      "outputs": [
        {
          "output_type": "display_data",
          "data": {
            "text/plain": [
              "<Figure size 432x288 with 0 Axes>"
            ]
          },
          "metadata": {}
        },
        {
          "output_type": "display_data",
          "data": {
            "text/plain": [
              "<Figure size 432x288 with 1 Axes>"
            ],
            "image/png": "[encoded data removed]"
          },
          "metadata": {
            "needs_background": "light"
          }
        }
      ],
      "source": [
        "showPlot('CBOW Losses',cbow_losses,cbow_test_losses)"
      ]
    },
    {
      "cell_type": "markdown",
      "metadata": {
        "id": "eAf9V8Flexlz"
      },
      "source": [
        "## Skip-gram Implementation"
      ]
    },
    {
      "cell_type": "markdown",
      "metadata": {
        "id": "MhU2TV_4fR0z"
      },
      "source": [
        "We've now trained an embedding using the continuous bag of words model. Below, we also show code for training the opposite model - the skipgram model - where you predict the context words based on a target word.\n",
        "\n",
        "Note how simple the SkipGram network is. There are no linear layers - just the embedding layer, and the training simply aims to maximize the dot product of embeddings of the target and embedding words."
      ]
    },
    {
      "cell_type": "markdown",
      "metadata": {
        "id": "EsHBeteVexl0"
      },
      "source": [
        "#### Dataset Generation\n",
        "\n",
        "We provide the beginning of a function for generating the skipgram dataset. You need to implement negative sampling."
      ]
    },
    {
      "cell_type": "code",
      "execution_count": null,
      "metadata": {
        "id": "Z9pvMXT02khd"
      },
      "outputs": [],
      "source": [
        "# Tuple of a word (the target) to a word (a context word)\n",
        "def create_skipgram_dataset(documents, context_size, k_negative=5):\n",
        "    data = []\n",
        "    for document in documents:\n",
        "        document = [\"EOS\"] * context_size + document + [\"EOS\"] * context_size\n",
        "        for i in range(context_size, len(document) - context_size):\n",
        "            for j in range(1, context_size+1):\n",
        "                data.append((document[i], document[i-j], 1))\n",
        "                data.append((document[i], document[i+j], 1))\n",
        "\n",
        "            ##TODO: Implement negative sampling\n",
        "            for _ in range(k_negative):\n",
        "                raise NotImplementedError\n",
        "    return data\n",
        "\n",
        "## Create Datasets\n",
        "skipgram_train = create_skipgram_dataset(documents_train, context_size=CONTEXT_SIZE, k_negative=5)\n",
        "skipgram_test = create_skipgram_dataset(documents_test, context_size=CONTEXT_SIZE, k_negative=5)\n",
        "\n",
        "## Show Samples\n",
        "print('skipgram sample', skipgram_train[:10])"
      ]
    },
    {
      "cell_type": "code",
      "execution_count": null,
      "metadata": {
        "id": "MklSbWqoexl0"
      },
      "outputs": [],
      "source": [
        "## Create Batches\n",
        "def get_sgram_batches(data, batch_size):\n",
        "    \"\"\"\n",
        "\n",
        "    \"\"\"\n",
        "    indices = np.arange(len(data))\n",
        "    np.random.shuffle(indices)\n",
        "    current_batch = []\n",
        "    for i, indice in enumerate(indices):\n",
        "        in_w, out_w, target = data[indice]\n",
        "        in_w_var = torch.LongTensor([w2i[in_w]])\n",
        "        out_w_var = torch.LongTensor([w2i[out_w]])\n",
        "        target_t = torch.Tensor([target])\n",
        "        current_batch.append((in_w_var, out_w_var, target_t))\n",
        "        if current_batch and len(current_batch) % batch_size == 0 or i == len(indices) - 1:\n",
        "            batch_in_w_var = torch.stack([v[0] for v in current_batch])\n",
        "            batch_out_w_var = torch.stack([v[1] for v in current_batch])\n",
        "            batch_target = torch.stack([v[2] for v in current_batch])\n",
        "            current_batch = []\n",
        "            yield batch_in_w_var, batch_out_w_var, batch_target\n"
      ]
    },
    {
      "cell_type": "code",
      "execution_count": null,
      "metadata": {
        "id": "BO8Qwzy3eeIg"
      },
      "outputs": [],
      "source": [
        "class SkipGram(nn.Module):\n",
        "    def __init__(self, vocab_size, embd_size):\n",
        "        super(SkipGram, self).__init__()\n",
        "        #TODO implement layers shown in the picture above\n",
        "\n",
        "\n",
        "    def forward(self, focus, context):\n",
        "        #TODO implement forward of SkipGram.\n",
        "\n",
        "\n",
        "        return NotImplementedError"
      ]
    },
    {
      "cell_type": "code",
      "execution_count": null,
      "metadata": {
        "id": "q3brNCcPek27"
      },
      "outputs": [],
      "source": [
        "def train_skipgram(train_data,\n",
        "                   test_data,\n",
        "                   model=None,\n",
        "                   n_epoch=30,\n",
        "                   learning_rate=0.01,\n",
        "                   batch_size=1,\n",
        "                   embd_size=128,\n",
        "                   print_every_step=None,\n",
        "                   print_every_epoch=1,\n",
        "                   random_seed=1):\n",
        "    \"\"\"\n",
        "    \n",
        "    \"\"\"\n",
        "    ## Set Random Seed\n",
        "    torch.manual_seed(random_seed)\n",
        "    ## Initialize Model\n",
        "    if model is None:\n",
        "        model = SkipGram(vocab_size, embd_size)\n",
        "    ## Put on GPU\n",
        "    if torch.cuda.is_available():\n",
        "        model = model.cuda()\n",
        "    ## Show Model\n",
        "    print(model)\n",
        "    ## Initialize Optimizer\n",
        "    optimizer = optim.SGD(model.parameters(), lr=learning_rate)\n",
        "    ##TODO: Choose the appropriate Loss Function\n",
        "    loss_fn = None\n",
        "    ## Loss Cache\n",
        "    losses = []\n",
        "    test_losses = []\n",
        "    ## Training Loop\n",
        "    for epoch in range(n_epoch):\n",
        "        total_loss = .0\n",
        "        for step, (in_w_var, out_w_var, target_t) in enumerate(get_sgram_batches(train_data, batch_size)):\n",
        "            #TODO implement training procedure for SkipGram\n",
        "\n",
        "\n",
        "            \n",
        "\n",
        "            \n",
        "            if print_every_step is not None and (step + 1) % print_every_step == 0:\n",
        "                print(\"Epoch {} || Step {}/{} || Loss: {:.4f}\".format(epoch+1, step+1, len(train_data), (total_loss / step+1)))\n",
        "            \n",
        "        if print_every_epoch is not None and (epoch + 1) % print_every_epoch == 0:\n",
        "            print(\"Epoch {}/{} || Loss: {:.4f}\".format(epoch+1, n_epoch, total_loss / (step + 1)))\n",
        "        ##TODO Compute Losses\n",
        "        train_loss = *\n",
        "        test_loss = *\n",
        "        losses.append(train_loss)\n",
        "        test_losses.append(test_loss)\n",
        "    print(\"Training Complete\")\n",
        "    return model, losses\n",
        "\n",
        "## Fit Model\n",
        "sg_model, sg_losses = train_skipgram(skipgram_train,\n",
        "                                     skipgram_test,\n",
        "                                     n_epoch=1000,\n",
        "                                     learning_rate=1,\n",
        "                                     batch_size=len(skipgram_train),\n",
        "                                     embd_size=128,\n",
        "                                     print_every_step=None,\n",
        "                                     print_every_epoch=10)"
      ]
    },
    {
      "cell_type": "code",
      "execution_count": null,
      "metadata": {
        "id": "wYYPawthexl0"
      },
      "outputs": [],
      "source": [
        "## Plot Losses\n",
        "showPlot('SkipGram Losses', sg_losses)"
      ]
    },
    {
      "cell_type": "code",
      "execution_count": null,
      "metadata": {
        "id": "9u7tV9foeq2c"
      },
      "outputs": [],
      "source": [
        "## Evaluate Accuracy\n",
        "def test_skipgram(test_data, model):\n",
        "    correct_ct = 0\n",
        "    for in_w_var, out_w_var, target_t in get_sgram_batches(test_data, 1):\n",
        "\n",
        "        if torch.cuda.is_available():\n",
        "            in_w_var = in_w_var.cuda()\n",
        "            out_w_var = out_w_var.cuda()\n",
        "            target_t = target_t.cuda()\n",
        "        probs = model(in_w_var, out_w_var)\n",
        "        predicted = (probs > 0.5)\n",
        "        correct_ct += torch.sum(torch.eq(predicted[0], target_t))\n",
        "\n",
        "    print('Accuracy: {:.1f}% ({:d}/{:d})'.format(correct_ct/len(test_data)*100, correct_ct, len(test_data)))\n",
        "\n",
        "test_skipgram(skipgram_train, sg_model)\n",
        "test_skipgram(skipgram_test, sg_model)"
      ]
    },
    {
      "cell_type": "markdown",
      "metadata": {
        "id": "EHijtHYNexl0"
      },
      "source": [
        "### Semantic Similarity\n",
        "You are asked to write 2 functions. The first function `get_similarity` takes two terms in the vocabulary as arguments and returns their semantic similarity (cosine similarity). The second function `show_similar_terms` takes as an argument a term in the vocabulary and shows the top_k most similar terms based on cosine similarity. Use your functions to evaluate similarity of words in the Raven (based on your trained model) and some general words in the pretrained corpus.\n",
        "\n",
        "*Note:* Typically, word embeddings are typically trained on much larger datasets than the ones we provide. You will not necessarily see interpretable similarities below. We are primarily interested in your implementation. Accordingly, we provide code that loads pretrained word embeddings learned using 27 billion tweets. Learn more here: https://nlp.stanford.edu/projects/glove/"
      ]
    },
    {
      "cell_type": "code",
      "execution_count": null,
      "metadata": {
        "id": "8uXIAib4exl0"
      },
      "outputs": [],
      "source": [
        "## Load Pretrained Vectors\n",
        "glove_vectors = gensim.downloader.load('glove-twitter-25')\n",
        "\n",
        "## Extract Embeddings and Vocab\n",
        "glove_vocab = glove_vectors.index2word ## Note: If this doesn't work because of version < 4.0, use .index_to_key\n",
        "glove_w2i = {w : i for i, w in enumerate(glove_vocab)}\n",
        "glove_i2w = {i : w for i, w in enumerate(glove_vocab)}\n",
        "\n",
        "## Convert Embeddings\n",
        "glove_embeddings = nn.Embedding(len(glove_vocab), 25)\n",
        "glove_embeddings = glove_embeddings.from_pretrained(torch.Tensor(glove_vectors.vectors))"
      ]
    },
    {
      "cell_type": "code",
      "execution_count": null,
      "metadata": {
        "id": "dc09Js0f3mu-"
      },
      "outputs": [],
      "source": [
        "def get_similarity(embeddings,\n",
        "                   w2i,\n",
        "                   term1,\n",
        "                   term2):\n",
        "    \"\"\"\n",
        "\n",
        "    \"\"\"\n",
        "    ## Check Terms\n",
        "    for term in [term1, term2]:\n",
        "        if term not in w2i:\n",
        "            raise KeyError(f\"Term `{term}` not found\")\n",
        "    ## Get Indices\n",
        "    term1_ind = torch.LongTensor([w2i[term1]])\n",
        "    term2_ind = torch.LongTensor([w2i[term2]])\n",
        "    ##TODO: Retrieve Embeddings and Compute Cosine Similarity\n",
        "\n",
        "    distance = None\n",
        "    print(term1, term2, distance)\n",
        "\n",
        "def show_similar_terms(embeddings, \n",
        "                       w2i,\n",
        "                       i2w,\n",
        "                       target_term,\n",
        "                       top_k=10):\n",
        "    \"\"\"\n",
        "    \n",
        "    \"\"\"\n",
        "    ## Get Target Vector\n",
        "    if target_term not in w2i:\n",
        "        raise KeyError(f\"Term `{target_term}` not in vocabulary\")\n",
        "    target_ind = torch.LongTensor([w2i[target_term]])\n",
        "    ##TODO: Retrieve Embeddings for Target Term and Full Vocabulary\n",
        "    ## Print out the top_k most similar terms based on cosine similarity\n",
        "    \n",
        "    top_terms = None\n",
        "    print(top_terms)"
      ]
    },
    {
      "cell_type": "markdown",
      "metadata": {
        "id": "NunrQbgdexl0"
      },
      "source": [
        "#### Evaluation\n",
        "\n",
        "First, evaluate similarity for embeddings trained using The Raven snippet. Then evaluate similarity in the pretrained embeddings."
      ]
    },
    {
      "cell_type": "code",
      "execution_count": null,
      "metadata": {
        "id": "xGz5IKhSexl0"
      },
      "outputs": [],
      "source": [
        "## Evaluation for The Raven embeddings\n",
        "get_similarity(cbow_model.embeddings, w2i, \"raven\",\"nevermore\")\n",
        "get_similarity(cbow_model.embeddings, w2i, \"raven\", \"door\")\n",
        "show_similar_terms(cbow_model.embeddings, w2i, i2w, \"raven\")\n",
        "\n",
        "## Evaluation for The Raven Skipgram embeddings\n",
        "get_similarity(sg_model.embeddings, w2i, \"raven\",\"nevermore\")\n",
        "get_similarity(sg_model.embeddings, w2i, \"raven\", \"door\")\n",
        "show_similar_terms(sg_model.embeddings, w2i, i2w, \"raven\")"
      ]
    },
    {
      "cell_type": "code",
      "execution_count": null,
      "metadata": {
        "id": "KiA09lHGexl0"
      },
      "outputs": [],
      "source": [
        "## Evaluation for Glove Embeddings\n",
        "get_similarity(glove_embeddings, glove_w2i, \"mouse\",\"computer\")\n",
        "get_similarity(glove_embeddings, glove_w2i, \"mouse\",\"cat\")\n",
        "get_similarity(glove_embeddings, glove_w2i, \"mouse\",\"dog\")\n",
        "get_similarity(glove_embeddings, glove_w2i, \"cat\",\"dog\")\n",
        "show_similar_terms(glove_embeddings, glove_w2i, glove_i2w, \"cat\")"
      ]
    }
  ],
  "metadata": {
    "accelerator": "GPU",
    "colab": {
      "collapsed_sections": [],
      "name": "Word_Embedding.ipynb",
      "provenance": [],
      "machine_shape": "hm",
      "include_colab_link": true
    },
    "kernelspec": {
      "display_name": "Python 3",
      "language": "python",
      "name": "python3"
    },
    "language_info": {
      "codemirror_mode": {
        "name": "ipython",
        "version": 3
      },
      "file_extension": ".py",
      "mimetype": "text/x-python",
      "name": "python",
      "nbconvert_exporter": "python",
      "pygments_lexer": "ipython3",
      "version": "3.7.10"
    }
  },
  "nbformat": 4,
  "nbformat_minor": 0
}
