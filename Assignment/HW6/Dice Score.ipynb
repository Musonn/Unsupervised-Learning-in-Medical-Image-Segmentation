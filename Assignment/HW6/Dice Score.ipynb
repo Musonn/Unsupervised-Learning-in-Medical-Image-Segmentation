{
  "cells": [
    {
      "cell_type": "markdown",
      "metadata": {
        "id": "view-in-github",
        "colab_type": "text"
      },
      "source": [
        "<a href=\"https://colab.research.google.com/github/tinghe14/COURSE-2Deep-Learning/blob/main/DeepLearning_Spring2022_HW6.ipynb\" target=\"_parent\"><img src=\"https://colab.research.google.com/assets/colab-badge.svg\" alt=\"Open In Colab\"/></a>"
      ]
    },
    {
      "cell_type": "markdown",
      "metadata": {
        "id": "ZQCz6Qbn8Xi3"
      },
      "source": [
        "\n",
        "# Deep Learning Homework 6 (Spring 2022)\n",
        "\n",
        "This code is provided for Deep Learning class (CS 482/682) Homework 6. For ease of implementation, we recommend working entire in Google Colaboratory.\n",
        "\n",
        "@Copyright Cong Gao, the Johns Hopkins University, cgao11@jhu.edu. Modifications made by Hongtao Wu, Suzanna Sia, Hao Ding, and Keith Harrigian.\n"
      ]
    },
    {
      "cell_type": "markdown",
      "metadata": {
        "id": "AGA2oroEWDk1"
      },
      "source": [
        "### Imports"
      ]
    },
    {
      "cell_type": "code",
      "execution_count": 1,
      "metadata": {
        "colab": {
          "base_uri": "https://localhost:8080/"
        },
        "id": "WyxXeYArKAIh",
        "outputId": "07b12b3b-b2dc-4353-eff2-ec513d589ac2"
      },
      "outputs": [
        {
          "output_type": "stream",
          "name": "stdout",
          "text": [
            "Drive already mounted at /content/gdrive; to attempt to forcibly remount, call drive.mount(\"/content/gdrive\", force_remount=True).\n"
          ]
        }
      ],
      "source": [
        "## Mount Google Drive Data (If using Google Colaboratory)\n",
        "try:\n",
        "    from google.colab import drive\n",
        "    drive.mount('/content/gdrive')\n",
        "except:\n",
        "    print(\"Mounting Failed.\")"
      ]
    },
    {
      "cell_type": "code",
      "execution_count": 3,
      "metadata": {
        "id": "diX3FqyIWDk2"
      },
      "outputs": [],
      "source": [
        "## Standard Library\n",
        "import os\n",
        "import json\n",
        "\n",
        "## External Libraries\n",
        "import numpy as np\n",
        "import torch\n",
        "import torch.nn as nn\n",
        "from torchvision import transforms\n",
        "from torch.autograd import Variable\n",
        "import torch.nn.functional as functional\n",
        "from torch.utils.data import Dataset, DataLoader\n",
        "from skimage import io\n",
        "import matplotlib.pyplot as plt"
      ]
    },
    {
      "cell_type": "markdown",
      "metadata": {
        "id": "Byv0ZVSoWDk2"
      },
      "source": [
        "# Problem 1: Unsupervised Pre-training"
      ]
    },
    {
      "cell_type": "markdown",
      "metadata": {
        "id": "Rzl8NImwGQ2t"
      },
      "source": [
        "(a) Train a segmentation network using the frames in the ‘/segmentation/train’ folder.\n",
        "Please complete the DICE score function to evaluate your model, and write from scratch\n",
        "a DICE loss function as your network loss (Read more about the DICE score here).\n",
        "(Hint: You need to convert the grey-scale label mask to one-hot encoding of the label\n",
        "and then calculate the DICE score for each label). Please train the network until\n",
        "convergence (should take around 30 min) using the default provided hyperparameters\n",
        "and provide a figure of training loss and validation loss w.r.t. epochs (in a single figure).\n",
        "Please report your performance (DICE score) on the test dataset, you should expect a\n",
        "DICE score > 0.5.\n",
        "\n",
        "(b) Introduce meaningful data augmentation (e.g. vertical and horizontal flips) and train\n",
        "the network until convergence using the same hyperparameters as (a). Please plot\n",
        "the training loss and validation loss on a single figure again and report test dataset\n",
        "performance, you should expect a DICE score > 0.6.\n",
        "\n",
        "(c) Train on the colorization task using frames from the ‘/colorization/train_cor’ folder.\n",
        "Use hyperparameters that seem reasonable (based on your previous experiments) and\n",
        "mean squared error as your loss function. Please provide a figure of training loss w.r.t.\n",
        "epochs until your model converges. Then save your model to initialize the network for\n",
        "the next task.\n",
        "\n",
        "(d) Load the colorization pre-trained model and start training for the segmentation task\n",
        "using the frames in the ‘/segmentation/train’ folder. Make sure you are using the\n",
        "same hyperparameters as you did in the former task, and please clearly state them in\n",
        "your report. Plot the figure of training loss and validation loss. Report test dataset\n",
        "performance. Do you see a difference with the former result in (b)?"
      ]
    },
    {
      "cell_type": "markdown",
      "metadata": {
        "id": "m3BRbLhNWDk3"
      },
      "source": [
        "### Data Paths"
      ]
    },
    {
      "cell_type": "code",
      "execution_count": 1,
      "metadata": {
        "id": "aGfa8qhNWDk3"
      },
      "outputs": [],
      "source": [
        "# General Data Directory ##TODO: Please fill in the appropriate directory\n",
        "data_dir = \"/content/gdrive/MyDrive/HW6_data\"\n",
        "## Segmentation + Colorization Paths\n",
        "segmentation_data_dir = f\"{data_dir}/segmentation/\"\n",
        "colorization_data_dir = f\"{data_dir}/colorization/\"\n",
        "\n",
        "# Mask JSON\n",
        "mask_json = f\"{data_dir}/mapping.json\""
      ]
    },
    {
      "cell_type": "markdown",
      "metadata": {
        "id": "gpAXntx2WDk3"
      },
      "source": [
        "### Data Loaders\n",
        "\n",
        "We have provided you with some preprocessing code for the images but you should feel free to modify the class however you please to support your training schema. In the very least, you will have to modify the dataloader to support loading of the colorization dataset."
      ]
    },
    {
      "cell_type": "code",
      "execution_count": 4,
      "metadata": {
        "id": "gL-hqHd1WDk4"
      },
      "outputs": [],
      "source": [
        "## Image Transforms\n",
        "img_transform = transforms.Compose([ #transforms.ToPILImage()\n",
        "        transforms.ToTensor(), # a Tensor Image: C*H*W (C #channels)\n",
        "                               # a batch of Tensor Image: B*C*H*W (B #images in the batch)\n",
        "            \n",
        "])\n",
        "\n",
        "## Image Dataloader\n",
        "class ImageDataset(Dataset):\n",
        "    \n",
        "    \"\"\"\n",
        "    ImageDataset\n",
        "    \"\"\"\n",
        "    \n",
        "    def __init__(self,\n",
        "                 input_dir,\n",
        "                 op,\n",
        "                 mask_json_path,\n",
        "                 transforms=None):\n",
        "        \"\"\"\n",
        "        ##TODO: Add support for colorization dataset\n",
        "        \n",
        "        Args:\n",
        "            input_dir (str): Path to either colorization or segmentation directory\n",
        "            op (str): One of \"train\", \"val\", or \"test\" signifying the desired split\n",
        "            mask_json_path (str): Path to mapping.json file\n",
        "            transforms (list or None): Image transformations to apply upon loading.\n",
        "        \"\"\"\n",
        "        self.transform = transforms\n",
        "        self.op = op\n",
        "        with open(mask_json_path, 'r') as f:\n",
        "            self.mask = json.load(f)\n",
        "        self.mask_num = len(self.mask)  # There are 6 categories: grey, dark grey, and black\n",
        "        #print(\"len(self.mask)\",len(self.mask)) #8\n",
        "        self.mask_value = [value for value in self.mask.values()]\n",
        "        self.mask_value.sort()\n",
        "        #print(\"self.mask_value\", self.mask_value)n #self.mask_value [0, 32, 64, 96, 128, 160, 192, 224]\n",
        "        try:\n",
        "            if self.op == 'train':\n",
        "                self.data_dir = os.path.join(input_dir, 'train')\n",
        "            elif self.op == 'val':\n",
        "                self.data_dir = os.path.join(input_dir, 'validation')\n",
        "            elif self.op == 'test':\n",
        "                self.data_dir = os.path.join(input_dir, 'test')\n",
        "        except ValueError:\n",
        "            print('op should be either train, val or test!')\n",
        "\n",
        "    def __len__(self):\n",
        "        \"\"\"\n",
        "        \n",
        "        \"\"\"\n",
        "        return len(next(os.walk(self.data_dir))[1])\n",
        "\n",
        "    def __getitem__(self,\n",
        "                    idx):\n",
        "        \"\"\"\n",
        "        \n",
        "        \"\"\"\n",
        "        ## Load Image and Parse Properties\n",
        "        img_name = str(idx) + '_input.jpg'\n",
        "        mask_name = str(idx) + '_mask.png'\n",
        "        img = io.imread(os.path.join(self.data_dir, str(idx), img_name))\n",
        "        mask = io.imread(os.path.join(self.data_dir, str(idx), mask_name))\n",
        "        #print(\"len(mask.shape)\",len(mask.shape)) #8\n",
        "        if len(mask.shape) == 2:\n",
        "            h, w  = mask.shape\n",
        "        elif len(mask.shape) == 3:\n",
        "            h, w, c = mask.shape\n",
        "        ## Convert grey-scale label to one-hot encoding\n",
        "        new_mask = np.zeros((h, w, self.mask_num))\n",
        "        #print(\"new_mask[0,0,1]\",new_mask[0]) #0\n",
        "        for idx in range(self.mask_num):\n",
        "            #if the mask has 3 dimension use this code\n",
        "            #new_mask[:, :, idx] = mask[:,:,0] == self.mask_value[idx]\n",
        "            #if the mask has 1 dimension use the code below\n",
        "            new_mask[:, :, idx] = mask == self.mask_value[idx]\n",
        "        #print(\"new_mask.shape)\",new_mask.shape) # (256, 320, 8)\n",
        "        #print(\"new_mask[0,0,:])\",new_mask[0,0,:]) # [1. 0. 0. 0. 0. 0. 0. 0.]\n",
        "        ## Transform image and mask\n",
        "        if self.transform:\n",
        "            img, mask = self.img_transform(img, new_mask)\n",
        "        # ## Use dictionary to output\n",
        "        # sample = {'img': img, 'mask': mask}\n",
        "        # return sample\n",
        "        return img, mask\n",
        "\n",
        "    def img_transform(self,\n",
        "                      img,\n",
        "                      mask):\n",
        "        \"\"\"\n",
        "        \n",
        "        \"\"\"\n",
        "        ## Apply Transformations to Image and Mask\n",
        "        img = self.transform(img)\n",
        "        mask = self.transform(mask)\n",
        "        return img, mask"
      ]
    },
    {
      "cell_type": "markdown",
      "metadata": {
        "id": "OhdKw8V_WDk5"
      },
      "source": [
        "## Model Architecture\n",
        "\n",
        "Finish building the U-net architecture below."
      ]
    },
    {
      "cell_type": "code",
      "execution_count": 5,
      "metadata": {
        "id": "ZM98wgQim9Dj"
      },
      "outputs": [],
      "source": [
        "## Functions for adding the convolution layer\n",
        "def add_conv_stage(dim_in,\n",
        "                   dim_out,\n",
        "                   kernel_size=3,\n",
        "                   stride=1,\n",
        "                   padding=1,\n",
        "                   bias=True,\n",
        "                   useBN=True):\n",
        "    \"\"\"\n",
        "    \n",
        "    \"\"\"\n",
        "    # Use batch normalization\n",
        "    if useBN:\n",
        "        return nn.Sequential(\n",
        "          nn.Conv2d(dim_in, dim_out, kernel_size=kernel_size, stride=stride, padding=padding, bias=bias),\n",
        "          nn.BatchNorm2d(dim_out),\n",
        "          nn.LeakyReLU(0.1),\n",
        "          nn.Conv2d(dim_out, dim_out, kernel_size=kernel_size, stride=stride, padding=padding, bias=bias),\n",
        "          nn.BatchNorm2d(dim_out),\n",
        "          nn.LeakyReLU(0.1)\n",
        "        )\n",
        "    # No batch normalization\n",
        "    else:\n",
        "        return nn.Sequential(\n",
        "          nn.Conv2d(dim_in, dim_out, kernel_size=kernel_size, stride=stride, padding=padding, bias=bias),\n",
        "          nn.ReLU(),\n",
        "          nn.Conv2d(dim_out, dim_out, kernel_size=kernel_size, stride=stride, padding=padding, bias=bias),\n",
        "          nn.ReLU()\n",
        "        )\n",
        "\n",
        "## Upsampling\n",
        "def upsample(ch_coarse,\n",
        "             ch_fine):\n",
        "    \"\"\"\n",
        "    \n",
        "    \"\"\"\n",
        "    return nn.Sequential(\n",
        "                    nn.ConvTranspose2d(ch_coarse, ch_fine, 4, 2, 1, bias=False),\n",
        "                    nn.ReLU())\n",
        "## final layer\n",
        "def finallayer(input_channel, output_channel):\n",
        "  return nn.Sequential(\n",
        "      nn.Conv2d(input_channel, output_channel, kernel_size=3, stride=1, padding=1, bias=True),\n",
        "      nn.Sigmoid()\n",
        "  )\n",
        "\n",
        "# U-Net\n",
        "class UNET(nn.Module):\n",
        "    \n",
        "    \"\"\"\n",
        "    \n",
        "    \"\"\"\n",
        "    def __init__(self, useBN=True): # why need n_classes here? \n",
        "        \"\"\"\n",
        "        Args:\n",
        "            useBN (bool): Turn Batch Norm on or off\n",
        "        \"\"\"\n",
        "        super(UNET, self).__init__()\n",
        "        # Downgrade stages\n",
        "        self.conv1 = add_conv_stage(3, 32, useBN=useBN)\n",
        "        self.conv2 = add_conv_stage(32, 64, useBN=useBN)\n",
        "        self.conv3 = add_conv_stage(64, 128, useBN=useBN)\n",
        "        self.conv4 = add_conv_stage(128, 256, useBN=useBN)\n",
        "        # Upgrade stages\n",
        "        self.conv3m = add_conv_stage(256, 128, useBN=useBN)\n",
        "        self.conv2m = add_conv_stage(128,  64, useBN=useBN)\n",
        "        self.conv1m = add_conv_stage( 64,  32, useBN=useBN)\n",
        "        # Maxpool\n",
        "        self.max_pool = nn.MaxPool2d(2)\n",
        "        # Upsample layers\n",
        "        self.upsample43 = upsample(256, 128)\n",
        "        self.upsample32 = upsample(128,  64)\n",
        "        self.upsample21 = upsample(64 ,  32)\n",
        "        # weight initialization\n",
        "        # You can have your own weight intialization. This is just an example.\n",
        "        for m in self.modules():\n",
        "            if isinstance(m, nn.Conv2d) or isinstance(m, nn.ConvTranspose2d):\n",
        "                if m.bias is not None:\n",
        "                    m.bias.data.zero_()\n",
        "        #TODO: Design your last layer & activations\n",
        "        self.finallayer = finallayer(32,8)\n",
        "\n",
        "\n",
        "    def forward(self, x):\n",
        "        \"\"\"\n",
        "        Forward pass\n",
        "        \"\"\"\n",
        "        conv1_out = self.conv1(x)\n",
        "        conv2_out = self.conv2(self.max_pool(conv1_out))\n",
        "        conv3_out = self.conv3(self.max_pool(conv2_out))\n",
        "        conv4_out = self.conv4(self.max_pool(conv3_out))\n",
        "\n",
        "        conv4m_out_ = torch.cat((self.upsample43(conv4_out), conv3_out), 1)\n",
        "        conv3m_out  = self.conv3m(conv4m_out_)\n",
        "\n",
        "        conv3m_out_ = torch.cat((self.upsample32(conv3m_out), conv2_out), 1)\n",
        "        conv2m_out  = self.conv2m(conv3m_out_)\n",
        "\n",
        "        conv2m_out_ = torch.cat((self.upsample21(conv2m_out), conv1_out), 1)\n",
        "        conv1m_out  = self.conv1m(conv2m_out_)\n",
        "\n",
        "        #TODO: Design your last layer & activations\n",
        "        convfinalm_out = self.finallayer(conv1m_out)\n",
        "        return convfinalm_out\n"
      ]
    },
    {
      "cell_type": "code",
      "execution_count": 6,
      "metadata": {
        "colab": {
          "base_uri": "https://localhost:8080/"
        },
        "id": "1paRH3-WZ1hz",
        "outputId": "b426a191-c87e-4dff-ca05-5564ac4105ce"
      },
      "outputs": [
        {
          "output_type": "stream",
          "name": "stdout",
          "text": [
            "UNET(\n",
            "  (conv1): Sequential(\n",
            "    (0): Conv2d(3, 32, kernel_size=(3, 3), stride=(1, 1), padding=(1, 1))\n",
            "    (1): BatchNorm2d(32, eps=1e-05, momentum=0.1, affine=True, track_running_stats=True)\n",
            "    (2): LeakyReLU(negative_slope=0.1)\n",
            "    (3): Conv2d(32, 32, kernel_size=(3, 3), stride=(1, 1), padding=(1, 1))\n",
            "    (4): BatchNorm2d(32, eps=1e-05, momentum=0.1, affine=True, track_running_stats=True)\n",
            "    (5): LeakyReLU(negative_slope=0.1)\n",
            "  )\n",
            "  (conv2): Sequential(\n",
            "    (0): Conv2d(32, 64, kernel_size=(3, 3), stride=(1, 1), padding=(1, 1))\n",
            "    (1): BatchNorm2d(64, eps=1e-05, momentum=0.1, affine=True, track_running_stats=True)\n",
            "    (2): LeakyReLU(negative_slope=0.1)\n",
            "    (3): Conv2d(64, 64, kernel_size=(3, 3), stride=(1, 1), padding=(1, 1))\n",
            "    (4): BatchNorm2d(64, eps=1e-05, momentum=0.1, affine=True, track_running_stats=True)\n",
            "    (5): LeakyReLU(negative_slope=0.1)\n",
            "  )\n",
            "  (conv3): Sequential(\n",
            "    (0): Conv2d(64, 128, kernel_size=(3, 3), stride=(1, 1), padding=(1, 1))\n",
            "    (1): BatchNorm2d(128, eps=1e-05, momentum=0.1, affine=True, track_running_stats=True)\n",
            "    (2): LeakyReLU(negative_slope=0.1)\n",
            "    (3): Conv2d(128, 128, kernel_size=(3, 3), stride=(1, 1), padding=(1, 1))\n",
            "    (4): BatchNorm2d(128, eps=1e-05, momentum=0.1, affine=True, track_running_stats=True)\n",
            "    (5): LeakyReLU(negative_slope=0.1)\n",
            "  )\n",
            "  (conv4): Sequential(\n",
            "    (0): Conv2d(128, 256, kernel_size=(3, 3), stride=(1, 1), padding=(1, 1))\n",
            "    (1): BatchNorm2d(256, eps=1e-05, momentum=0.1, affine=True, track_running_stats=True)\n",
            "    (2): LeakyReLU(negative_slope=0.1)\n",
            "    (3): Conv2d(256, 256, kernel_size=(3, 3), stride=(1, 1), padding=(1, 1))\n",
            "    (4): BatchNorm2d(256, eps=1e-05, momentum=0.1, affine=True, track_running_stats=True)\n",
            "    (5): LeakyReLU(negative_slope=0.1)\n",
            "  )\n",
            "  (conv3m): Sequential(\n",
            "    (0): Conv2d(256, 128, kernel_size=(3, 3), stride=(1, 1), padding=(1, 1))\n",
            "    (1): BatchNorm2d(128, eps=1e-05, momentum=0.1, affine=True, track_running_stats=True)\n",
            "    (2): LeakyReLU(negative_slope=0.1)\n",
            "    (3): Conv2d(128, 128, kernel_size=(3, 3), stride=(1, 1), padding=(1, 1))\n",
            "    (4): BatchNorm2d(128, eps=1e-05, momentum=0.1, affine=True, track_running_stats=True)\n",
            "    (5): LeakyReLU(negative_slope=0.1)\n",
            "  )\n",
            "  (conv2m): Sequential(\n",
            "    (0): Conv2d(128, 64, kernel_size=(3, 3), stride=(1, 1), padding=(1, 1))\n",
            "    (1): BatchNorm2d(64, eps=1e-05, momentum=0.1, affine=True, track_running_stats=True)\n",
            "    (2): LeakyReLU(negative_slope=0.1)\n",
            "    (3): Conv2d(64, 64, kernel_size=(3, 3), stride=(1, 1), padding=(1, 1))\n",
            "    (4): BatchNorm2d(64, eps=1e-05, momentum=0.1, affine=True, track_running_stats=True)\n",
            "    (5): LeakyReLU(negative_slope=0.1)\n",
            "  )\n",
            "  (conv1m): Sequential(\n",
            "    (0): Conv2d(64, 32, kernel_size=(3, 3), stride=(1, 1), padding=(1, 1))\n",
            "    (1): BatchNorm2d(32, eps=1e-05, momentum=0.1, affine=True, track_running_stats=True)\n",
            "    (2): LeakyReLU(negative_slope=0.1)\n",
            "    (3): Conv2d(32, 32, kernel_size=(3, 3), stride=(1, 1), padding=(1, 1))\n",
            "    (4): BatchNorm2d(32, eps=1e-05, momentum=0.1, affine=True, track_running_stats=True)\n",
            "    (5): LeakyReLU(negative_slope=0.1)\n",
            "  )\n",
            "  (max_pool): MaxPool2d(kernel_size=2, stride=2, padding=0, dilation=1, ceil_mode=False)\n",
            "  (upsample43): Sequential(\n",
            "    (0): ConvTranspose2d(256, 128, kernel_size=(4, 4), stride=(2, 2), padding=(1, 1), bias=False)\n",
            "    (1): ReLU()\n",
            "  )\n",
            "  (upsample32): Sequential(\n",
            "    (0): ConvTranspose2d(128, 64, kernel_size=(4, 4), stride=(2, 2), padding=(1, 1), bias=False)\n",
            "    (1): ReLU()\n",
            "  )\n",
            "  (upsample21): Sequential(\n",
            "    (0): ConvTranspose2d(64, 32, kernel_size=(4, 4), stride=(2, 2), padding=(1, 1), bias=False)\n",
            "    (1): ReLU()\n",
            "  )\n",
            "  (finallayer): Sequential(\n",
            "    (0): Conv2d(32, 8, kernel_size=(3, 3), stride=(1, 1), padding=(1, 1))\n",
            "    (1): Sigmoid()\n",
            "  )\n",
            ")\n"
          ]
        }
      ],
      "source": [
        "print(UNET())"
      ]
    },
    {
      "cell_type": "markdown",
      "metadata": {
        "id": "zn8qJ5y7WDk9"
      },
      "source": [
        "### DICE Score and DICE Loss\n",
        "\n",
        "Finish implementing the DICE score function below and then write a Dice Loss function that you can use to update your model weights."
      ]
    },
    {
      "cell_type": "code",
      "execution_count": 33,
      "metadata": {
        "id": "w4JGCHGrnctJ"
      },
      "outputs": [],
      "source": [
        "##TODO: Finish implementing the multi-class DICE score function\n",
        "def dice_score_image(prediction, target, n_classes):\n",
        "    '''\n",
        "      computer the mean dice score for a single image\n",
        "\n",
        "      Reminders: A false positive is a result that indicates a given condition exists, when it does not\n",
        "               A false negative is a test result that indicates that a condition does not hold, while in fact it does\n",
        "      Args:\n",
        "          prediction (tensor): predictied labels of the image\n",
        "          target (tensor): ground truth of the image\n",
        "          n_classes (int): number of classes\n",
        "    \n",
        "      Returns:\n",
        "          m_dice (float): Mean dice score over classes\n",
        "    '''\n",
        "    ## TODO: Compute Dice Score for Each Class. Compute Mean Dice Score over Classes.\n",
        "    dice_classes = np.zeros(n_classes)\n",
        "    # one-hot encoding for prediction\n",
        "    # output of model: B*C*W*H (B: batch size, C: num of classes) #\n",
        "    #assert prediction.dim() == 4, \"Prediction should be 4 dims\"\n",
        "    predict = nn.functional.one_hot(prediction, num_classes=n_classes).permute(0,3,1,2).contiguous() # output of one_hot: B*H*W*C, permute to obtain: B*C*H*W\n",
        "    assert predict.dim() == 4, \"Output should be 4 dims\"\n",
        "    assert target.dim() == 4, \"True label should be 4 dims\"\n",
        "    smooth = 1.\n",
        "    for cl in range(n_classes):\n",
        "      # default\n",
        "      TP, FP, FN = 0, 0, 0\n",
        "      if target[:,cl,:,:] > 0: \n",
        "        TP = torch.sum(1. if (target[:,cl,:,:] == 1 & predict[:,cl,:,:] == 1) else 0)\n",
        "        FP = torch.sum(1. if (target[:,cl,:,:] == 0 & predict[:,cl,:,:] == 1) else 0)\n",
        "        FN = torch.sum(1. if (target[:,cl,:,:] == 1 & predict[cl] == 0) else 0)\n",
        "        dice_classes[cl] = (2*TP + smooth) / (TP+FP+TP+FN + smooth) \n",
        "        #When there is no grount truth of the class in this image\n",
        "        #Give 1 dice score if False Positive pixel number is 0,\n",
        "        #give 0 dice score if False Positive pixel number is not 0 (> 0).\n",
        "      else:\n",
        "        if FP == 0:\n",
        "          dice_classes[cl] = 1\n",
        "        else:\n",
        "          dice_classes[cl] = 0\n",
        "    return dice_classes.mean()\n",
        "\n",
        "\n",
        "\n",
        "def dice_score_dataset(model, dataloader, num_classes, use_gpu=True):\n",
        "    \"\"\"\n",
        "    Compute the mean dice score on a set of data.\n",
        "    \n",
        "    Note that multiclass dice score can be defined as the mean over classes of binary\n",
        "    dice score. Dice score is computed per image. Mean dice score over the dataset is the dice\n",
        "    score averaged across all images.\n",
        "    \n",
        "    Reminders: A false positive is a result that indicates a given condition exists, when it does not\n",
        "               A false negative is a test result that indicates that a condition does not hold, while in fact it does\n",
        "     \n",
        "    Args:\n",
        "        model (UNET class): Your trained model\n",
        "        dataloader (DataLoader): Dataset for evaluation\n",
        "        num_classes (int): Number of classes\n",
        "    \n",
        "    Returns:\n",
        "        m_dice (float): Mean dice score over the input dataset\n",
        "    \"\"\"\n",
        "    ## Number of Batches and Cache over Dataset \n",
        "    n_batches = len(dataloader)\n",
        "    scores = np.zeros(n_batches)\n",
        "    ## Evaluate\n",
        "    model.eval()\n",
        "    idx = 0\n",
        "    for data in dataloader:\n",
        "        ## Format Data\n",
        "        img, target = data\n",
        "        if use_gpu:\n",
        "            img = img.cuda()\n",
        "            target = target.cuda()\n",
        "        ## Make Predictions\n",
        "        out = model(img)\n",
        "        n_classes = out.shape[1]\n",
        "        prediction = torch.argmax(out, dim = 1)\n",
        "        scores[idx] = dice_score_image(prediction, target, n_classes)\n",
        "        idx += 1\n",
        "    ## Average Dice Score Over Images\n",
        "    m_dice = scores.mean()\n",
        "    return m_dice\n",
        "\n",
        "\n",
        "# TODO: Implement DICE loss, \n",
        "# It should conform to how we computer the dice score.\n",
        "class DICELoss(nn.Module):\n",
        "    def __init__(self):\n",
        "      super(DICELoss, self).__init__()\n",
        "      \n",
        "    def forward(self, pred, target):\n",
        "      # pred: (B C H W)\n",
        "      # target: (B C H W), one-hot already\n",
        "      smooth = 1\n",
        "      batch_size = target.shape[0]\n",
        "      n_classes = target.shape[1]\n",
        "      #pred_flat = pred.view(batch_size, n_classes, -1)\n",
        "      #target_flat = target.view(batch_size, n_classes, -1)\n",
        "      #dice_score = (2 * (pred_flat * target_flat).sum(axis=-1) + smooth) / ((pred_flat*pred_flat).sum(axis=-1) + (target_flat*target_flat).sum(axis=-1) + smooth) # flat\n",
        "      pred_flat = pred.view(-1)\n",
        "      target_flat = target.view(-1)\n",
        "      intersection = (pred_flat * target_flat).sum()\n",
        "      A_sum = torch.sum(pred_flat*pred_flat)\n",
        "      B_sum = torch.sum(target_flat*target_flat)\n",
        "      dice_score = (2*intersection+smooth) / (A_sum+B_sum+smooth)\n",
        "      #dice_score = (2*intersection+smooth) / ((pred_flat+target_flat).sum()+smooth)\n",
        "      loss = 1 - dice_score\n",
        "      return loss\n"
      ]
    },
    {
      "cell_type": "markdown",
      "metadata": {
        "id": "x4NCcExeWDk2"
      },
      "source": [
        "### Training Hyperparameters\n",
        "\n",
        "These are recommended hyperparameters - please feel free to use what works for you. Batch size can be changed if it does not match your memory, please state your batch step_size in your report."
      ]
    },
    {
      "cell_type": "code",
      "execution_count": 8,
      "metadata": {
        "id": "sl_S6MdMWDk2"
      },
      "outputs": [],
      "source": [
        "## Batch Size\n",
        "train_batch_size = 32 #20->128\n",
        "validation_batch_size = 10\n",
        "\n",
        "## Learning Rate\n",
        "learning_rate = 0.0001\n",
        "\n",
        "# Epochs (Consider setting high and implementing early stopping)\n",
        "num_epochs = 50 # original 200"
      ]
    },
    {
      "cell_type": "markdown",
      "metadata": {
        "id": "L5iVvONAWDlB"
      },
      "source": [
        "## Training Procedure (Segmentation)"
      ]
    },
    {
      "cell_type": "code",
      "execution_count": 9,
      "metadata": {
        "id": "PSFVRtkH1C39"
      },
      "outputs": [],
      "source": [
        "import time"
      ]
    },
    {
      "cell_type": "code",
      "execution_count": 10,
      "metadata": {
        "id": "Jm_FUG4C0wTl"
      },
      "outputs": [],
      "source": [
        "## Initialize your unet\n",
        "n_classes = 8\n",
        "model = UNET()\n",
        "#criterion = DICELoss()\n",
        "\n",
        "## Initialize Dataloaders\n",
        "train_dataset=ImageDataset(input_dir=segmentation_data_dir, op=\"train\", mask_json_path=mask_json, transforms=img_transform)\n",
        "validation_dataset=ImageDataset(input_dir=segmentation_data_dir, op=\"val\", mask_json_path=mask_json, transforms=img_transform)\n",
        "test_dataset=ImageDataset(input_dir=segmentation_data_dir, op=\"test\", mask_json_path=mask_json, transforms=img_transform)\n",
        "train_dataloader = DataLoader(train_dataset, batch_size=train_batch_size, shuffle=True)\n",
        "validation_dataloader = DataLoader(validation_dataset, batch_size=validation_batch_size, shuffle=False)\n",
        "test_dataloader = DataLoader(test_dataset, batch_size=1, shuffle=False)\n",
        "## Initialize Optimizer and Learning Rate Scheduler\n",
        "optimizer = torch.optim.Adam(model.parameters(),lr=learning_rate)\n",
        "#scheduler = torch.optim.lr_scheduler.StepLR(optimizer, step_size=10, gamma=0.1) #every 10 epochs, update learning rate *0.1\n"
      ]
    },
    {
      "cell_type": "code",
      "source": [
        "# test the dimensions\n",
        "for i, (images, labels) in enumerate(train_dataloader):\n",
        "  print(\"images.shape\",images.shape)\n",
        "  print(\"labels.shape\",labels.shape)\n",
        "  #print(\"gray scale of label\",labels[0])\n",
        "  outputs = model(images)\n",
        "  print(\"output.shape\",outputs.shape)\n",
        "  break\n",
        "\n",
        "torch.cuda.empty_cache() # clean the cache"
      ],
      "metadata": {
        "colab": {
          "base_uri": "https://localhost:8080/"
        },
        "id": "1YbhVtowj1yO",
        "outputId": "b9592f50-f742-4b5c-fdff-f6a821af9aec"
      },
      "execution_count": 11,
      "outputs": [
        {
          "output_type": "stream",
          "name": "stdout",
          "text": [
            "images.shape torch.Size([10, 3, 256, 320])\n",
            "labels.shape torch.Size([10, 8, 256, 320])\n",
            "output.shape torch.Size([10, 8, 256, 320])\n"
          ]
        }
      ]
    },
    {
      "cell_type": "code",
      "source": [
        "def train(model,\n",
        "          optimizer,\n",
        "          criterion,\n",
        "          scheduler,\n",
        "          num_epochs = 10,\n",
        "          train_dataloader = train_dataloader,\n",
        "          validation_dataloader = validation_dataloader,\n",
        "          test_dataloader = test_dataloader,\n",
        "          **kwargs):\n",
        "  \n",
        "\n",
        "  start = time.time()\n",
        "  print(\"Start Training...\")\n",
        "  device = torch.device(\"cuda\")\n",
        "  torch.cuda.empty_cache() # clean the cache\n",
        "  model.to(device) # model, dataset, computing all put into device (gpu here)\n",
        "  train_loss_history, val_loss_history = [], [] #pixel-wise segmentation so don't have things like correct case like before\n",
        "  for epoch in range(num_epochs):\n",
        "      ########################### Training #####################################\n",
        "      model.train() # clarify this is training process\n",
        "      train_total_loss, train_total_count = 0., 0 \n",
        "      print(\"\\nEPOCH \" +str(epoch+1)+\" of \"+str(num_epochs)+\"\\n\")\n",
        "      # TODO: Design your own training section\n",
        "      for i, (train_images, true_labels) in enumerate(train_dataloader): #batch_size\n",
        "        optimizer.zero_grad() # clear to 0 after one backpropagation\n",
        "        outputs = model(train_images.to(device))\n",
        "        train_loss = criterion(outputs, true_labels.to(device)) # averge loss \n",
        "        train_total_loss += train_loss.item() * outputs.size(0) #item() will also move to cpu # same as shape(0) which is batch size (final batch size might be less)\n",
        "        train_total_count += outputs.size(0) # outputs.size(0) is a batch size we need to count all\n",
        "        train_loss.backward()\n",
        "        optimizer.step()\n",
        "      \n",
        "      train_loss_history.append(train_total_loss / train_total_count)\n",
        "      scheduler.step() # every epoch updates its learning rate\n",
        "\n",
        "      ########################### Validation #####################################\n",
        "      # TODO: Design your own validation section\n",
        "      # chose hyperparameter based on our valloss here\n",
        "      with torch.no_grad():\n",
        "        val_total_loss, val_total_count = 0., 0\n",
        "        for i, (val_images, true_labels) in enumerate(validation_dataloader):\n",
        "          outputs = model(val_images.to(device))\n",
        "          val_loss = criterion(outputs, true_labels.to(device))\n",
        "          val_total_loss += val_loss.item() * outputs.size(0)\n",
        "          val_total_count += outputs.size(0)\n",
        "      \n",
        "      val_loss_history.append(val_total_loss / val_total_count)\n",
        "      print('Epoch: {}. TrainLoss: {}. ValLoss: {}.'.format(\n",
        "            epoch+1, train_loss_history[-1], val_loss_history[-1]))\n",
        "\n",
        "  period = time.time() - start \n",
        "  print ('Time finished in {:.0f}m {:.0f}s'.format(period // 60, period % 60)) \n",
        "  return train_loss_history, val_loss_history        "
      ],
      "metadata": {
        "id": "OCFtJsCVJCg3"
      },
      "execution_count": 12,
      "outputs": []
    },
    {
      "cell_type": "code",
      "source": [
        "torch.cuda.empty_cache()"
      ],
      "metadata": {
        "id": "5OGr48HugpLg"
      },
      "execution_count": 21,
      "outputs": []
    },
    {
      "cell_type": "code",
      "source": [
        "out = train(model=UNET(),\n",
        "      optimizer=torch.optim.Adam(model.parameters(),lr=learning_rate),\n",
        "      criterion=DICELoss(), \n",
        "      scheduler=torch.optim.lr_scheduler.StepLR(optimizer, step_size=10, gamma=0.1),\n",
        "      num_epochs=100,\n",
        "      train_dataloader=train_dataloader,\n",
        "      validation_dataloader=validation_dataloader,\n",
        "      test_dataloader=test_dataloader)"
      ],
      "metadata": {
        "colab": {
          "base_uri": "https://localhost:8080/"
        },
        "id": "3M1s71yeeDdI",
        "outputId": "e8b73484-9049-47ea-d607-24aebf5d11dd"
      },
      "execution_count": 22,
      "outputs": [
        {
          "output_type": "stream",
          "name": "stdout",
          "text": [
            "Start Training...\n",
            "\n",
            "EPOCH 1 of 100\n",
            "\n"
          ]
        },
        {
          "output_type": "stream",
          "name": "stderr",
          "text": [
            "/usr/local/lib/python3.7/dist-packages/torch/optim/lr_scheduler.py:134: UserWarning: Detected call of `lr_scheduler.step()` before `optimizer.step()`. In PyTorch 1.1.0 and later, you should call them in the opposite order: `optimizer.step()` before `lr_scheduler.step()`.  Failure to do this will result in PyTorch skipping the first value of the learning rate schedule. See more details at https://pytorch.org/docs/stable/optim.html#how-to-adjust-learning-rate\n",
            "  \"https://pytorch.org/docs/stable/optim.html#how-to-adjust-learning-rate\", UserWarning)\n"
          ]
        },
        {
          "output_type": "stream",
          "name": "stdout",
          "text": [
            "Epoch: 1. TrainLoss: 0.6584456945035808. ValLoss: 0.6581370535740342.\n",
            "\n",
            "EPOCH 2 of 100\n",
            "\n",
            "Epoch: 2. TrainLoss: 0.6584826240412974. ValLoss: 0.6581370524869405.\n",
            "\n",
            "EPOCH 3 of 100\n",
            "\n",
            "Epoch: 3. TrainLoss: 0.658457027349066. ValLoss: 0.6581370521964268.\n",
            "\n",
            "EPOCH 4 of 100\n",
            "\n",
            "Epoch: 4. TrainLoss: 0.6584643299253723. ValLoss: 0.6581370532705472.\n",
            "\n",
            "EPOCH 5 of 100\n",
            "\n",
            "Epoch: 5. TrainLoss: 0.6584263706151163. ValLoss: 0.6581370533997111.\n",
            "\n",
            "EPOCH 6 of 100\n",
            "\n",
            "Epoch: 6. TrainLoss: 0.6584265000135952. ValLoss: 0.6581370534821822.\n",
            "\n",
            "EPOCH 7 of 100\n",
            "\n",
            "Epoch: 7. TrainLoss: 0.6584789993388931. ValLoss: 0.6581370533790434.\n",
            "\n",
            "EPOCH 8 of 100\n",
            "\n",
            "Epoch: 8. TrainLoss: 0.6584403299707556. ValLoss: 0.6581370531671888.\n",
            "\n",
            "EPOCH 9 of 100\n",
            "\n",
            "Epoch: 9. TrainLoss: 0.6584529900619664. ValLoss: 0.6581370530055528.\n",
            "\n",
            "EPOCH 10 of 100\n",
            "\n",
            "Epoch: 10. TrainLoss: 0.6584548778746956. ValLoss: 0.6581370536244081.\n",
            "\n",
            "EPOCH 11 of 100\n",
            "\n",
            "Epoch: 11. TrainLoss: 0.6584429596053631. ValLoss: 0.6581370533839465.\n",
            "\n",
            "EPOCH 12 of 100\n",
            "\n",
            "Epoch: 12. TrainLoss: 0.6584672177295073. ValLoss: 0.6581370529571744.\n",
            "\n",
            "EPOCH 13 of 100\n",
            "\n",
            "Epoch: 13. TrainLoss: 0.6584850616805027. ValLoss: 0.6581370536545502.\n",
            "\n",
            "EPOCH 14 of 100\n",
            "\n",
            "Epoch: 14. TrainLoss: 0.6584481024207672. ValLoss: 0.6581370523977483.\n",
            "\n",
            "EPOCH 15 of 100\n",
            "\n",
            "Epoch: 15. TrainLoss: 0.6584804177607049. ValLoss: 0.6581370527960317.\n",
            "\n",
            "EPOCH 16 of 100\n",
            "\n",
            "Epoch: 16. TrainLoss: 0.6584408447031767. ValLoss: 0.6581370529292981.\n",
            "\n",
            "EPOCH 17 of 100\n",
            "\n",
            "Epoch: 17. TrainLoss: 0.6584609706092425. ValLoss: 0.6581370529903804.\n",
            "\n",
            "EPOCH 18 of 100\n",
            "\n",
            "Epoch: 18. TrainLoss: 0.658428114949302. ValLoss: 0.6581370534231766.\n",
            "\n",
            "EPOCH 19 of 100\n",
            "\n",
            "Epoch: 19. TrainLoss: 0.6584529389681638. ValLoss: 0.6581370524456247.\n",
            "\n",
            "EPOCH 20 of 100\n",
            "\n",
            "Epoch: 20. TrainLoss: 0.6584860296494859. ValLoss: 0.6581370529733737.\n",
            "\n",
            "EPOCH 21 of 100\n",
            "\n",
            "Epoch: 21. TrainLoss: 0.6584434761369189. ValLoss: 0.6581370527086224.\n",
            "\n",
            "EPOCH 22 of 100\n",
            "\n",
            "Epoch: 22. TrainLoss: 0.6584525035939596. ValLoss: 0.6581370522775906.\n",
            "\n",
            "EPOCH 23 of 100\n",
            "\n",
            "Epoch: 23. TrainLoss: 0.6584476857035406. ValLoss: 0.6581370500246835.\n",
            "\n",
            "EPOCH 24 of 100\n",
            "\n",
            "Epoch: 24. TrainLoss: 0.6584659101970559. ValLoss: 0.6581370529273604.\n",
            "\n",
            "EPOCH 25 of 100\n",
            "\n",
            "Epoch: 25. TrainLoss: 0.6584348014588518. ValLoss: 0.6581370528849649.\n",
            "\n",
            "EPOCH 26 of 100\n",
            "\n",
            "Epoch: 26. TrainLoss: 0.6584170046372457. ValLoss: 0.6581370528186135.\n",
            "\n",
            "EPOCH 27 of 100\n",
            "\n",
            "Epoch: 27. TrainLoss: 0.6584914120721075. ValLoss: 0.6581370532098135.\n",
            "\n",
            "EPOCH 28 of 100\n",
            "\n",
            "Epoch: 28. TrainLoss: 0.6584573719716333. ValLoss: 0.6581370537403263.\n",
            "\n",
            "EPOCH 29 of 100\n",
            "\n",
            "Epoch: 29. TrainLoss: 0.6584601945290901. ValLoss: 0.6581370526684729.\n",
            "\n",
            "EPOCH 30 of 100\n",
            "\n",
            "Epoch: 30. TrainLoss: 0.6584541516701048. ValLoss: 0.6581370526724888.\n",
            "\n",
            "EPOCH 31 of 100\n",
            "\n",
            "Epoch: 31. TrainLoss: 0.6584316316700064. ValLoss: 0.6581370533363278.\n",
            "\n",
            "EPOCH 32 of 100\n",
            "\n",
            "Epoch: 32. TrainLoss: 0.6584562921900827. ValLoss: 0.6581370531841482.\n",
            "\n",
            "EPOCH 33 of 100\n",
            "\n",
            "Epoch: 33. TrainLoss: 0.6584200996942511. ValLoss: 0.6581370534075109.\n",
            "\n",
            "EPOCH 34 of 100\n",
            "\n",
            "Epoch: 34. TrainLoss: 0.6584666309296652. ValLoss: 0.6581370538562821.\n",
            "\n",
            "EPOCH 35 of 100\n",
            "\n",
            "Epoch: 35. TrainLoss: 0.6585020822491057. ValLoss: 0.6581370496889627.\n",
            "\n",
            "EPOCH 36 of 100\n",
            "\n",
            "Epoch: 36. TrainLoss: 0.6584716552781593. ValLoss: 0.6581370530265463.\n",
            "\n",
            "EPOCH 37 of 100\n",
            "\n",
            "Epoch: 37. TrainLoss: 0.6584482670654671. ValLoss: 0.658137052477529.\n",
            "\n",
            "EPOCH 38 of 100\n",
            "\n",
            "Epoch: 38. TrainLoss: 0.6584833066248661. ValLoss: 0.6581370530402153.\n",
            "\n",
            "EPOCH 39 of 100\n",
            "\n",
            "Epoch: 39. TrainLoss: 0.6584678535130668. ValLoss: 0.6581370532767674.\n",
            "\n",
            "EPOCH 40 of 100\n",
            "\n",
            "Epoch: 40. TrainLoss: 0.6584729890834031. ValLoss: 0.658137052591581.\n",
            "\n",
            "EPOCH 41 of 100\n",
            "\n",
            "Epoch: 41. TrainLoss: 0.6584704155056431. ValLoss: 0.6581370523865658.\n",
            "\n",
            "EPOCH 42 of 100\n",
            "\n",
            "Epoch: 42. TrainLoss: 0.6585108430485798. ValLoss: 0.6581370524955106.\n",
            "\n",
            "EPOCH 43 of 100\n",
            "\n",
            "Epoch: 43. TrainLoss: 0.6584803642615286. ValLoss: 0.6581370531552789.\n",
            "\n",
            "EPOCH 44 of 100\n",
            "\n",
            "Epoch: 44. TrainLoss: 0.6584463107002566. ValLoss: 0.6581370523822778.\n",
            "\n",
            "EPOCH 45 of 100\n",
            "\n",
            "Epoch: 45. TrainLoss: 0.6584914515851129. ValLoss: 0.658137053264102.\n",
            "\n",
            "EPOCH 46 of 100\n",
            "\n",
            "Epoch: 46. TrainLoss: 0.6584310682687582. ValLoss: 0.6581370535639429.\n",
            "\n",
            "EPOCH 47 of 100\n",
            "\n",
            "Epoch: 47. TrainLoss: 0.6583930381390676. ValLoss: 0.6581370532019125.\n",
            "\n",
            "EPOCH 48 of 100\n",
            "\n",
            "Epoch: 48. TrainLoss: 0.65849118695656. ValLoss: 0.6581370527075897.\n",
            "\n",
            "EPOCH 49 of 100\n",
            "\n",
            "Epoch: 49. TrainLoss: 0.6584569364551277. ValLoss: 0.6581370526293449.\n",
            "\n",
            "EPOCH 50 of 100\n",
            "\n",
            "Epoch: 50. TrainLoss: 0.6584487162462163. ValLoss: 0.6581370532164041.\n",
            "\n",
            "EPOCH 51 of 100\n",
            "\n",
            "Epoch: 51. TrainLoss: 0.6584283040823373. ValLoss: 0.6581370496748339.\n",
            "\n",
            "EPOCH 52 of 100\n",
            "\n",
            "Epoch: 52. TrainLoss: 0.6584138936680476. ValLoss: 0.6581370530296337.\n",
            "\n",
            "EPOCH 53 of 100\n",
            "\n",
            "Epoch: 53. TrainLoss: 0.658454190721832. ValLoss: 0.6581370524312616.\n",
            "\n",
            "EPOCH 54 of 100\n",
            "\n",
            "Epoch: 54. TrainLoss: 0.6584187109194074. ValLoss: 0.6581370521523886.\n",
            "\n",
            "EPOCH 55 of 100\n",
            "\n",
            "Epoch: 55. TrainLoss: 0.6584419801060726. ValLoss: 0.6581370493491852.\n",
            "\n",
            "EPOCH 56 of 100\n",
            "\n",
            "Epoch: 56. TrainLoss: 0.658436439384751. ValLoss: 0.6581370525167161.\n",
            "\n",
            "EPOCH 57 of 100\n",
            "\n",
            "Epoch: 57. TrainLoss: 0.6584359674828302. ValLoss: 0.6581370497512444.\n",
            "\n",
            "EPOCH 58 of 100\n",
            "\n",
            "Epoch: 58. TrainLoss: 0.6584424974870915. ValLoss: 0.658137049878031.\n",
            "\n",
            "EPOCH 59 of 100\n",
            "\n",
            "Epoch: 59. TrainLoss: 0.658478015962369. ValLoss: 0.6581370531632093.\n",
            "\n",
            "EPOCH 60 of 100\n",
            "\n",
            "Epoch: 60. TrainLoss: 0.6584647448769003. ValLoss: 0.6581370530491943.\n",
            "\n",
            "EPOCH 61 of 100\n",
            "\n",
            "Epoch: 61. TrainLoss: 0.658476275246909. ValLoss: 0.6581370489523577.\n",
            "\n",
            "EPOCH 62 of 100\n",
            "\n",
            "Epoch: 62. TrainLoss: 0.6584765581986818. ValLoss: 0.6581370536000476.\n",
            "\n",
            "EPOCH 63 of 100\n",
            "\n",
            "Epoch: 63. TrainLoss: 0.6584230021246475. ValLoss: 0.658137052905613.\n",
            "\n",
            "EPOCH 64 of 100\n",
            "\n",
            "Epoch: 64. TrainLoss: 0.6584225755454369. ValLoss: 0.6581370533701221.\n",
            "\n",
            "EPOCH 65 of 100\n",
            "\n",
            "Epoch: 65. TrainLoss: 0.6584515091655265. ValLoss: 0.6581370524426557.\n",
            "\n",
            "EPOCH 66 of 100\n",
            "\n",
            "Epoch: 66. TrainLoss: 0.6584773160047707. ValLoss: 0.6581370531442158.\n",
            "\n",
            "EPOCH 67 of 100\n",
            "\n",
            "Epoch: 67. TrainLoss: 0.65847893323865. ValLoss: 0.6581370531519642.\n",
            "\n",
            "EPOCH 68 of 100\n",
            "\n",
            "Epoch: 68. TrainLoss: 0.6584830356083083. ValLoss: 0.6581370532235031.\n",
            "\n",
            "EPOCH 69 of 100\n",
            "\n",
            "Epoch: 69. TrainLoss: 0.6584816350214566. ValLoss: 0.6581370520638784.\n",
            "\n",
            "EPOCH 70 of 100\n",
            "\n",
            "Epoch: 70. TrainLoss: 0.6584616523972905. ValLoss: 0.6581370537075603.\n",
            "\n",
            "EPOCH 71 of 100\n",
            "\n",
            "Epoch: 71. TrainLoss: 0.6584639066863182. ValLoss: 0.6581370523808238.\n",
            "\n",
            "EPOCH 72 of 100\n",
            "\n",
            "Epoch: 72. TrainLoss: 0.6584454710281481. ValLoss: 0.658137052684542.\n",
            "\n",
            "EPOCH 73 of 100\n",
            "\n",
            "Epoch: 73. TrainLoss: 0.6584726107925845. ValLoss: 0.6581370530910579.\n",
            "\n",
            "EPOCH 74 of 100\n",
            "\n",
            "Epoch: 74. TrainLoss: 0.6584414492189317. ValLoss: 0.6581370524576249.\n",
            "\n",
            "EPOCH 75 of 100\n",
            "\n",
            "Epoch: 75. TrainLoss: 0.6583983240957256. ValLoss: 0.6581370524329775.\n",
            "\n",
            "EPOCH 76 of 100\n",
            "\n",
            "Epoch: 76. TrainLoss: 0.6584807456906494. ValLoss: 0.6581370530101942.\n",
            "\n",
            "EPOCH 77 of 100\n",
            "\n",
            "Epoch: 77. TrainLoss: 0.6584518398863338. ValLoss: 0.6581370537777563.\n",
            "\n",
            "EPOCH 78 of 100\n",
            "\n",
            "Epoch: 78. TrainLoss: 0.6584449459312155. ValLoss: 0.6581370531004818.\n",
            "\n",
            "EPOCH 79 of 100\n",
            "\n",
            "Epoch: 79. TrainLoss: 0.6584668385676185. ValLoss: 0.6581370533497242.\n",
            "\n",
            "EPOCH 80 of 100\n",
            "\n",
            "Epoch: 80. TrainLoss: 0.6584228271447516. ValLoss: 0.6581370529446773.\n",
            "\n",
            "EPOCH 81 of 100\n",
            "\n",
            "Epoch: 81. TrainLoss: 0.6584734645013435. ValLoss: 0.6581370524133316.\n",
            "\n",
            "EPOCH 82 of 100\n",
            "\n",
            "Epoch: 82. TrainLoss: 0.6584202288409077. ValLoss: 0.6581370519938459.\n",
            "\n",
            "EPOCH 83 of 100\n",
            "\n",
            "Epoch: 83. TrainLoss: 0.6584333245765949. ValLoss: 0.6581370525696708.\n",
            "\n",
            "EPOCH 84 of 100\n",
            "\n",
            "Epoch: 84. TrainLoss: 0.6584206545333205. ValLoss: 0.6581370534827141.\n",
            "\n",
            "EPOCH 85 of 100\n",
            "\n",
            "Epoch: 85. TrainLoss: 0.6584687824558163. ValLoss: 0.6581370525697926.\n",
            "\n",
            "EPOCH 86 of 100\n",
            "\n",
            "Epoch: 86. TrainLoss: 0.6584463042167904. ValLoss: 0.6581370528097029.\n",
            "\n",
            "EPOCH 87 of 100\n",
            "\n",
            "Epoch: 87. TrainLoss: 0.6584751853893611. ValLoss: 0.6581370533622011.\n",
            "\n",
            "EPOCH 88 of 100\n",
            "\n",
            "Epoch: 88. TrainLoss: 0.6584194817774592. ValLoss: 0.6581370529781533.\n",
            "\n",
            "EPOCH 89 of 100\n",
            "\n",
            "Epoch: 89. TrainLoss: 0.6584655573509203. ValLoss: 0.6581370524147792.\n",
            "\n",
            "EPOCH 90 of 100\n",
            "\n",
            "Epoch: 90. TrainLoss: 0.6584688372868137. ValLoss: 0.6581370526555683.\n",
            "\n",
            "EPOCH 91 of 100\n",
            "\n",
            "Epoch: 91. TrainLoss: 0.6584562411163045. ValLoss: 0.658137052665703.\n",
            "\n",
            "EPOCH 92 of 100\n",
            "\n",
            "Epoch: 92. TrainLoss: 0.6584414466852093. ValLoss: 0.6581370527188518.\n",
            "\n",
            "EPOCH 93 of 100\n",
            "\n",
            "Epoch: 93. TrainLoss: 0.6584688393493314. ValLoss: 0.6581370527483834.\n",
            "\n",
            "EPOCH 94 of 100\n",
            "\n",
            "Epoch: 94. TrainLoss: 0.6584628070839562. ValLoss: 0.6581370525039806.\n",
            "\n",
            "EPOCH 95 of 100\n",
            "\n",
            "Epoch: 95. TrainLoss: 0.6584587717752234. ValLoss: 0.6581370526388407.\n",
            "\n",
            "EPOCH 96 of 100\n",
            "\n",
            "Epoch: 96. TrainLoss: 0.6584761664396783. ValLoss: 0.6581370496725032.\n",
            "\n",
            "EPOCH 97 of 100\n",
            "\n",
            "Epoch: 97. TrainLoss: 0.6584208028357393. ValLoss: 0.6581370524919481.\n",
            "\n",
            "EPOCH 98 of 100\n",
            "\n",
            "Epoch: 98. TrainLoss: 0.6585290601637713. ValLoss: 0.6581370535618061.\n",
            "\n",
            "EPOCH 99 of 100\n",
            "\n",
            "Epoch: 99. TrainLoss: 0.6584663891502142. ValLoss: 0.658137050003979.\n",
            "\n",
            "EPOCH 100 of 100\n",
            "\n",
            "Epoch: 100. TrainLoss: 0.6584979498898549. ValLoss: 0.6581370526731206.\n",
            "Time finished in 12m 26s\n"
          ]
        }
      ]
    },
    {
      "cell_type": "code",
      "source": [
        "plt.plot(range(100), out[0])\n",
        "plt.title(\"loss of training dataset\")\n",
        "plt.show()\n",
        "plt.plot(range(100), out[1]) \n",
        "plt.title(\"loss of validation dataset\")\n",
        "plt.show()"
      ],
      "metadata": {
        "colab": {
          "base_uri": "https://localhost:8080/",
          "height": 545
        },
        "id": "O9scJzYFs3Kx",
        "outputId": "f04936d0-e927-4b59-aa12-71b4c4e324b8"
      },
      "execution_count": 23,
      "outputs": [
        {
          "output_type": "display_data",
          "data": {
            "text/plain": [
              "<Figure size 432x288 with 1 Axes>"
            ],
            "image/png": "[encoded data removed]"
          },
          "metadata": {
            "needs_background": "light"
          }
        },
        {
          "output_type": "display_data",
          "data": {
            "text/plain": [
              "<Figure size 432x288 with 1 Axes>"
            ],
            "image/png": "[encoded data removed]"
          },
          "metadata": {
            "needs_background": "light"
          }
        }
      ]
    },
    {
      "cell_type": "code",
      "source": [
        "########################### Test ##################################### \n",
        "\n",
        "#device = torch.device(\"cuda\")\n",
        "criterion = DICELoss()\n",
        "    \n",
        "test_loss_history = []\n",
        "test_total_loss = 0.\n",
        "test_total_count  = 0\n",
        "\n",
        "for i, (test_images, true_labels) in enumerate(test_dataloader):\n",
        "  outputs = model(test_images)\n",
        "  test_loss = criterion(outputs, true_labels)\n",
        "  test_total_loss += test_loss.item() * outputs.size(0)\n",
        "  test_total_count += outputs.size(0)\n",
        "    \n",
        "test_loss_history.append(test_total_loss / test_total_count)\n",
        "print(\"Test Loss: {}\".format(test_loss_history[-1]))\n",
        "print(\"Test Score: {}\".format(1- test_loss_history[-1]))\n"
      ],
      "metadata": {
        "id": "WnWWDMXDQp1U",
        "colab": {
          "base_uri": "https://localhost:8080/"
        },
        "outputId": "f6577dd6-6abc-4e5f-c7a1-b4f9cab905d4"
      },
      "execution_count": 40,
      "outputs": [
        {
          "output_type": "stream",
          "name": "stdout",
          "text": [
            "Test Loss: 0.6643227287464274\n",
            "Test Score: 0.3356772712535726\n"
          ]
        }
      ]
    },
    {
      "cell_type": "markdown",
      "source": [
        "## Data Augmentation"
      ],
      "metadata": {
        "id": "axujuC0b9w8S"
      }
    },
    {
      "cell_type": "markdown",
      "source": [
        "### Data Loader"
      ],
      "metadata": {
        "id": "eGGms9cz-QwR"
      }
    },
    {
      "cell_type": "code",
      "source": [
        "## Image Transforms\n",
        "img_transform = transforms.Compose([ #transforms.ToPILImage()\n",
        "        transforms.RandomResizedCrop(224),\n",
        "        transforms.RandomHorizontalFlip(),\n",
        "        transforms.ToTensor()\n",
        "])"
      ],
      "metadata": {
        "id": "lAPLx6Mn9lNm"
      },
      "execution_count": null,
      "outputs": []
    },
    {
      "cell_type": "code",
      "source": [
        "## Visualize few pics\n",
        "def visual_test(model, num_row, num_col):\n",
        "  fig, axs = plt.subplots(num_row, num_col,figsize=(21,4))\n",
        "  #num_batch = np.ceil(num_row * num_col / test_batch_size)\n",
        "  #images, pred_labels, true_labels = [], [], []\n",
        "  # test stage\n",
        "  #with torch.no_grad():\n",
        "  for i, (imgs, labs) in enumerate(train_dataloader):\n",
        "      if i >= num_batch:\n",
        "        break\n",
        "      else:\n",
        "        imgs = imgs.to(device)\n",
        "        labs = labs.to(device)\n",
        "        outputs = model(imgs)\n",
        "        _, pred = torch.max(outputs, 1)\n",
        "        if len(images) == 0:\n",
        "          images = imgs.cpu().numpy()\n",
        "        else:\n",
        "          images = np.concatenate([images, imgs.cpu().numpy()], axis=0) \n",
        "        pred_labels.extend(pred.cpu().numpy())\n",
        "        true_labels.extend(labs.cpu().numpy())\n",
        "  # print(\"images.shape\", images.shape)\n",
        "  # print(\"pred_labels\", len(pred_labels))\n",
        "  # print(\"true_labels\", len(true_labels))  \n",
        "  for i in range(num_row):\n",
        "    for j in range(num_col):\n",
        "      axs[i][j].axis(\"off\")\n",
        "      axs[i][j].set_title(f\"predicted: {pred_labels[i*num_col+j]}, true: {true_labels[i*num_col+j]}\")\n",
        "      axs[i][j].imshow(images[i*num_col+j][0])"
      ],
      "metadata": {
        "id": "sC71IRHo-mAu"
      },
      "execution_count": null,
      "outputs": []
    },
    {
      "cell_type": "markdown",
      "metadata": {
        "id": "XX67pCavWDlC"
      },
      "source": [
        "## Training Procedure: Colorization Pre-training\n",
        "\n",
        "Complete the rest of this problem in the cells below."
      ]
    },
    {
      "cell_type": "code",
      "execution_count": null,
      "metadata": {
        "id": "geo-2XNCWDlD"
      },
      "outputs": [],
      "source": [
        ""
      ]
    },
    {
      "cell_type": "markdown",
      "metadata": {
        "id": "Q72LlQ0cWDlD"
      },
      "source": [
        "# Problem 2: Transfer Learning"
      ]
    },
    {
      "cell_type": "markdown",
      "metadata": {
        "id": "7dkMWrcyWDlD"
      },
      "source": [
        "### Imports"
      ]
    },
    {
      "cell_type": "code",
      "execution_count": null,
      "metadata": {
        "id": "R9MnzH2mWDlD"
      },
      "outputs": [],
      "source": [
        "## Import VGG and FashionMNIST\n",
        "from torchvision.models import vgg16\n",
        "from torchvision.datasets import FashionMNIST"
      ]
    },
    {
      "cell_type": "markdown",
      "metadata": {
        "id": "LNP3HoCMWDlD"
      },
      "source": [
        "### Data Loading"
      ]
    },
    {
      "cell_type": "code",
      "execution_count": null,
      "metadata": {
        "id": "7NYpDsdPWDlE"
      },
      "outputs": [],
      "source": [
        "## Specify Batch Size\n",
        "train_batch_size = 128 #32->128 more sample move to gpu once, which result running much faster\n",
        "test_batch_size = 32\n",
        "\n",
        "## Specify Image Transforms\n",
        "img_transform = transforms.Compose([\n",
        "    transforms.Resize((64,64)),\n",
        "    transforms.ToTensor(),\n",
        "    transforms.Normalize((0.5,), (0.5,))\n",
        "])\n",
        "\n",
        "## Download Datasets\n",
        "train_data = FashionMNIST('./data', transform=img_transform, download=True, train=True)\n",
        "test_data = FashionMNIST('./data', transform=img_transform, download=True, train=False)\n",
        "\n",
        "## Initialize Dataloaders\n",
        "train_dataloader = DataLoader(train_data, batch_size=train_batch_size, shuffle=True)\n",
        "test_dataloader = DataLoader(test_data, batch_size=test_batch_size, shuffle=True)"
      ]
    },
    {
      "cell_type": "code",
      "source": [
        "# test the dimensions\n",
        "\n",
        "for i, (images, labels) in enumerate(train_dataloader):\n",
        "  print(\"images.shape\",images.shape)\n",
        "  print(\"labels.shape\",labels.shape)\n",
        "  #print(\"gray scale of label\",labels[0])\n",
        "  break\n"
      ],
      "metadata": {
        "colab": {
          "base_uri": "https://localhost:8080/"
        },
        "id": "dFfsvcaL5jNB",
        "outputId": "a097d196-e3b8-4ad9-ba93-4d550ca7deab"
      },
      "execution_count": null,
      "outputs": [
        {
          "output_type": "stream",
          "name": "stdout",
          "text": [
            "images.shape torch.Size([128, 1, 64, 64])\n",
            "labels.shape torch.Size([128])\n"
          ]
        }
      ]
    },
    {
      "cell_type": "markdown",
      "metadata": {
        "id": "rq_5k9rCWDlE"
      },
      "source": [
        "### Model Initialization and Training/Fine-tuning\n",
        "\n",
        "Complete the rest of the assignment in the notebook below."
      ]
    },
    {
      "cell_type": "markdown",
      "metadata": {
        "id": "C_sWvfb1GQ2y"
      },
      "source": [
        "(a) Randomly initialize all parameters in VGG16 and try to train your model to learn the\n",
        "Fashion MNIST classification task. What’s the accuracy you achieve? Please report\n",
        "your test accuracy on the test dataset. You should expect an accuracy > 85%"
      ]
    },
    {
      "cell_type": "code",
      "execution_count": null,
      "metadata": {
        "id": "0nD75TosWDlE"
      },
      "outputs": [],
      "source": [
        "device = torch.device(\"cuda\")"
      ]
    },
    {
      "cell_type": "code",
      "execution_count": null,
      "metadata": {
        "id": "fNYERt1BHjlF"
      },
      "outputs": [],
      "source": [
        "import time\n",
        "import matplotlib.pyplot as plt "
      ]
    },
    {
      "cell_type": "code",
      "execution_count": null,
      "metadata": {
        "id": "vFEv19_3GmD4"
      },
      "outputs": [],
      "source": [
        "def train(model,\n",
        "          optimizer,\n",
        "          criterion,\n",
        "          lr,\n",
        "          epochs=15,\n",
        "          train_dataloader=train_dataloader,\n",
        "          test_dataloader=test_dataloader,\n",
        "          device=device,\n",
        "          **kwargs):\n",
        "    \"\"\"\n",
        "    \n",
        "    \"\"\"\n",
        "    start = time.time()\n",
        "    model.to(device)\n",
        "    loss_history, train_acc_history = [], []\n",
        "    ##TODO: Implement a training loop\n",
        "    for epoch in range(epochs):\n",
        "      model.train()\n",
        "      total_loss, n_count, correct = 0., 0, 0\n",
        "      for i, (images, labels) in enumerate(train_dataloader):\n",
        "        optimizer.zero_grad()\n",
        "        outputs = model(images.to(device))\n",
        "        loss = criterion(outputs, labels.to(device))\n",
        "        total_loss += loss.item() * outputs.size(0)\n",
        "        _, predicted = torch.max(outputs.data, 1)\n",
        "        correct += (predicted.cpu() == labels.cpu()).sum() \n",
        "        n_count += outputs.size(0)\n",
        "        loss.backward()\n",
        "        optimizer.step()\n",
        "\n",
        "      loss_history.append(total_loss / n_count)\n",
        "      train_acc_history.append(correct / n_count)\n",
        "\n",
        "      \n",
        "      print('Epoch: {}. TrainLoss: {}. TrainAcc: {}. '.format(\n",
        "          epoch+1, loss_history[-1], train_acc_history[-1]\n",
        "        ))\n",
        "    \n",
        "    period = time.time() - start \n",
        "    print ('Training time finished in {:.0f}m {:.0f}s'.format(period // 60, period % 60))\n",
        "    \n",
        "    with torch.no_grad():\n",
        "      n_count, correct = 0, 0\n",
        "      for i, (images, labels) in enumerate(test_dataloader):\n",
        "        #outputs = model(images)\n",
        "        outputs = model(images.to(device))\n",
        "        _, predicted = torch.max(outputs.data, 1) # why 1\n",
        "        correct += (predicted.cpu() == labels.cpu()).sum() \n",
        "        n_count += outputs.size(0)\n",
        "    test_acc = correct / n_count\n",
        "    print(\"Test Acc: {}\".format(test_acc))\n",
        "        \n",
        "    return loss_history, train_acc_history, test_acc\n",
        "                "
      ]
    },
    {
      "cell_type": "code",
      "source": [
        "## Visualize test image\n",
        "\n",
        "def visual_test(model, num_row, num_col):\n",
        "  fig, axs = plt.subplots(num_row, num_col,figsize=(21,4))\n",
        "  num_batch = np.ceil(num_row * num_col / test_batch_size)\n",
        "  images, pred_labels, true_labels = [], [], []\n",
        "  # test stage\n",
        "  with torch.no_grad():\n",
        "    for i, (imgs, labs) in enumerate(test_dataloader):\n",
        "      if i >= num_batch:\n",
        "        break\n",
        "      else:\n",
        "        imgs = imgs.to(device)\n",
        "        labs = labs.to(device)\n",
        "        outputs = model(imgs)\n",
        "        _, pred = torch.max(outputs, 1)\n",
        "        if len(images) == 0:\n",
        "          images = imgs.cpu().numpy()\n",
        "        else:\n",
        "          images = np.concatenate([images, imgs.cpu().numpy()], axis=0) \n",
        "        pred_labels.extend(pred.cpu().numpy())\n",
        "        true_labels.extend(labs.cpu().numpy())\n",
        "  # print(\"images.shape\", images.shape)\n",
        "  # print(\"pred_labels\", len(pred_labels))\n",
        "  # print(\"true_labels\", len(true_labels))  \n",
        "  for i in range(num_row):\n",
        "    for j in range(num_col):\n",
        "      axs[i][j].axis(\"off\")\n",
        "      axs[i][j].set_title(f\"predicted: {pred_labels[i*num_col+j]}, true: {true_labels[i*num_col+j]}\")\n",
        "      axs[i][j].imshow(images[i*num_col+j][0])"
      ],
      "metadata": {
        "id": "dh_sDdMBoJLb"
      },
      "execution_count": null,
      "outputs": []
    },
    {
      "cell_type": "code",
      "execution_count": null,
      "metadata": {
        "colab": {
          "base_uri": "https://localhost:8080/"
        },
        "id": "wx-bCHTqJrjH",
        "outputId": "11661a0d-dfb1-4fb0-c054-4662aceb9693"
      },
      "outputs": [
        {
          "output_type": "stream",
          "name": "stdout",
          "text": [
            "VGG(\n",
            "  (features): Sequential(\n",
            "    (0): Conv2d(1, 64, kernel_size=(3, 3), stride=(1, 1), padding=(1, 1))\n",
            "    (1): ReLU(inplace=True)\n",
            "    (2): Conv2d(64, 64, kernel_size=(3, 3), stride=(1, 1), padding=(1, 1))\n",
            "    (3): ReLU(inplace=True)\n",
            "    (4): MaxPool2d(kernel_size=2, stride=2, padding=0, dilation=1, ceil_mode=False)\n",
            "    (5): Conv2d(64, 128, kernel_size=(3, 3), stride=(1, 1), padding=(1, 1))\n",
            "    (6): ReLU(inplace=True)\n",
            "    (7): Conv2d(128, 128, kernel_size=(3, 3), stride=(1, 1), padding=(1, 1))\n",
            "    (8): ReLU(inplace=True)\n",
            "    (9): MaxPool2d(kernel_size=2, stride=2, padding=0, dilation=1, ceil_mode=False)\n",
            "    (10): Conv2d(128, 256, kernel_size=(3, 3), stride=(1, 1), padding=(1, 1))\n",
            "    (11): ReLU(inplace=True)\n",
            "    (12): Conv2d(256, 256, kernel_size=(3, 3), stride=(1, 1), padding=(1, 1))\n",
            "    (13): ReLU(inplace=True)\n",
            "    (14): Conv2d(256, 256, kernel_size=(3, 3), stride=(1, 1), padding=(1, 1))\n",
            "    (15): ReLU(inplace=True)\n",
            "    (16): MaxPool2d(kernel_size=2, stride=2, padding=0, dilation=1, ceil_mode=False)\n",
            "    (17): Conv2d(256, 512, kernel_size=(3, 3), stride=(1, 1), padding=(1, 1))\n",
            "    (18): ReLU(inplace=True)\n",
            "    (19): Conv2d(512, 512, kernel_size=(3, 3), stride=(1, 1), padding=(1, 1))\n",
            "    (20): ReLU(inplace=True)\n",
            "    (21): Conv2d(512, 512, kernel_size=(3, 3), stride=(1, 1), padding=(1, 1))\n",
            "    (22): ReLU(inplace=True)\n",
            "    (23): MaxPool2d(kernel_size=2, stride=2, padding=0, dilation=1, ceil_mode=False)\n",
            "    (24): Conv2d(512, 512, kernel_size=(3, 3), stride=(1, 1), padding=(1, 1))\n",
            "    (25): ReLU(inplace=True)\n",
            "    (26): Conv2d(512, 512, kernel_size=(3, 3), stride=(1, 1), padding=(1, 1))\n",
            "    (27): ReLU(inplace=True)\n",
            "    (28): Conv2d(512, 512, kernel_size=(3, 3), stride=(1, 1), padding=(1, 1))\n",
            "    (29): ReLU(inplace=True)\n",
            "    (30): MaxPool2d(kernel_size=2, stride=2, padding=0, dilation=1, ceil_mode=False)\n",
            "  )\n",
            "  (avgpool): AdaptiveAvgPool2d(output_size=(7, 7))\n",
            "  (classifier): Sequential(\n",
            "    (0): Linear(in_features=25088, out_features=4096, bias=True)\n",
            "    (1): ReLU(inplace=True)\n",
            "    (2): Dropout(p=0.5, inplace=False)\n",
            "    (3): Linear(in_features=4096, out_features=4096, bias=True)\n",
            "    (4): ReLU(inplace=True)\n",
            "    (5): Dropout(p=0.5, inplace=False)\n",
            "    (6): Linear(in_features=4096, out_features=10, bias=True)\n",
            "  )\n",
            ")\n"
          ]
        }
      ],
      "source": [
        "## Hyperparameters\n",
        "num_epochs = 10\n",
        "LR = 0.001##TODO: Choose a Learning Rate\n",
        "\n",
        "## Setting up the model, optimizer, and loss function\n",
        "# construct a vgg16 model with random weights by calling its constructor\n",
        "model_2a = vgg16()\n",
        "# modify input channel into 1\n",
        "model_2a.features[0] = nn.Conv2d(in_channels=1, out_channels=64, kernel_size=(3, 3), stride=(1, 1), padding=(1, 1))\n",
        "# modify later layer into 10 \n",
        "model_2a.classifier[-1] = nn.Linear(in_features=4096, out_features=10)\n",
        "print(model_2a)\n",
        "optimizer = torch.optim.Adam(model_2a.parameters(),lr=LR)##TODO: Choose an optimized\n",
        "loss_f = nn.CrossEntropyLoss(reduction='mean') ##TODO: Choose a loss"
      ]
    },
    {
      "cell_type": "code",
      "execution_count": null,
      "metadata": {
        "colab": {
          "base_uri": "https://localhost:8080/"
        },
        "id": "1LPW2eLOJ4AC",
        "outputId": "8f864985-9793-4542-ccb9-a3b183506cb3"
      },
      "outputs": [
        {
          "output_type": "stream",
          "name": "stdout",
          "text": [
            "Start Training...\n",
            "Epoch: 1. TrainLoss: 2.0758621888955435. TrainAcc: 0.7173500061035156. \n",
            "Epoch: 2. TrainLoss: 0.3503951020717621. TrainAcc: 0.8736166954040527. \n",
            "Epoch: 3. TrainLoss: 0.2954966155370076. TrainAcc: 0.893916666507721. \n",
            "Epoch: 4. TrainLoss: 0.2610520069917043. TrainAcc: 0.9073833227157593. \n",
            "Epoch: 5. TrainLoss: 0.2392923238436381. TrainAcc: 0.9155499935150146. \n",
            "Epoch: 6. TrainLoss: 0.2233657407919566. TrainAcc: 0.9206500053405762. \n",
            "Epoch: 7. TrainLoss: 0.2166647048632304. TrainAcc: 0.9242166876792908. \n",
            "Epoch: 8. TrainLoss: 0.20797237927913667. TrainAcc: 0.9255833625793457. \n",
            "Epoch: 9. TrainLoss: 0.1994505046447118. TrainAcc: 0.9301000237464905. \n",
            "Epoch: 10. TrainLoss: 0.1877671267271042. TrainAcc: 0.9349499940872192. \n",
            "Training time finished in 12m 18s\n",
            "Test Acc: 0.9142000079154968\n"
          ]
        }
      ],
      "source": [
        "## Run Training Loop\n",
        "print(\"Start Training...\")\n",
        "out = train(model_2a, optimizer, loss_f, LR, num_epochs)"
      ]
    },
    {
      "cell_type": "code",
      "source": [
        "visual_test(model_2a, 2,5)"
      ],
      "metadata": {
        "colab": {
          "base_uri": "https://localhost:8080/",
          "height": 263
        },
        "id": "R7BoqBcGqncT",
        "outputId": "660d9a49-f9c2-4230-aeab-5bba7f6b113b"
      },
      "execution_count": null,
      "outputs": [
        {
          "output_type": "display_data",
          "data": {
            "text/plain": [
              "<Figure size 1512x288 with 10 Axes>"
            ],
            "image/png": "[encoded data removed]"
          },
          "metadata": {
            "needs_background": "light"
          }
        }
      ]
    },
    {
      "cell_type": "code",
      "execution_count": null,
      "metadata": {
        "colab": {
          "base_uri": "https://localhost:8080/",
          "height": 545
        },
        "id": "0nsZ5gjWvLbY",
        "outputId": "5a142c40-0edc-4977-f01c-4f2e7b60ee89"
      },
      "outputs": [
        {
          "output_type": "display_data",
          "data": {
            "text/plain": [
              "<Figure size 432x288 with 1 Axes>"
            ],
            "image/png": "[encoded data removed]"
          },
          "metadata": {
            "needs_background": "light"
          }
        },
        {
          "output_type": "display_data",
          "data": {
            "text/plain": [
              "<Figure size 432x288 with 1 Axes>"
            ],
            "image/png": "[encoded data removed]"
          },
          "metadata": {
            "needs_background": "light"
          }
        }
      ],
      "source": [
        "plt.plot(range(10), out[0])\n",
        "plt.title(\"loss of training dataset\")\n",
        "plt.show()\n",
        "plt.plot(range(10), out[1]) \n",
        "plt.title(\"accuarcy of tranining dataset\")\n",
        "plt.show()"
      ]
    },
    {
      "cell_type": "markdown",
      "metadata": {
        "id": "IAdNKK0-GQ2y"
      },
      "source": [
        "(b) Load the pre-trained VGG16 model from torch vision models. Freeze all but the last\n",
        "layer: randomly initialize the last layer of your network and fine-tune this. What\n",
        "accuracy do you get now? Please again report your test accuracy on the test dataset.\n",
        "You should expect an accuracy > 60%."
      ]
    },
    {
      "cell_type": "code",
      "execution_count": null,
      "metadata": {
        "colab": {
          "base_uri": "https://localhost:8080/",
          "height": 848,
          "referenced_widgets": [
            "42f1d47806b149d688dafc8ff49e06b5",
            "75fe1fde6aae496fb2abf89b09e83cb0",
            "bff579efca464e1ea89d304c6cd992f6",
            "8ac74974062c4a91a089e0c69d10e756",
            "91b87346b3d54e7d84d02884238962fe",
            "2d783318c5d048289bc8f1fc1c9f219d",
            "dab12f65084f4c5f8262434111670735",
            "d8663ae4820d4180a9342a3f59b3bd89",
            "203bd0b3e027478f91fc3d301c449dec",
            "b804214c01f448dfa064d254739df650",
            "30627b041b2f4bc4ab7be1bebe36144d"
          ]
        },
        "id": "E_k0oN3UGQ2y",
        "outputId": "7dffa9e0-7b65-40fe-f0c9-8fb03e4dd52c"
      },
      "outputs": [
        {
          "output_type": "stream",
          "name": "stderr",
          "text": [
            "Downloading: \"https://download.pytorch.org/models/vgg16-397923af.pth\" to /root/.cache/torch/hub/checkpoints/vgg16-397923af.pth\n"
          ]
        },
        {
          "output_type": "display_data",
          "data": {
            "text/plain": [
              "  0%|          | 0.00/528M [00:00<?, ?B/s]"
            ],
            "application/vnd.jupyter.widget-view+json": {
              "version_major": 2,
              "version_minor": 0,
              "model_id": "42f1d47806b149d688dafc8ff49e06b5"
            }
          },
          "metadata": {}
        },
        {
          "output_type": "stream",
          "name": "stdout",
          "text": [
            "VGG(\n",
            "  (features): Sequential(\n",
            "    (0): Conv2d(1, 64, kernel_size=(3, 3), stride=(1, 1), padding=(1, 1))\n",
            "    (1): ReLU(inplace=True)\n",
            "    (2): Conv2d(64, 64, kernel_size=(3, 3), stride=(1, 1), padding=(1, 1))\n",
            "    (3): ReLU(inplace=True)\n",
            "    (4): MaxPool2d(kernel_size=2, stride=2, padding=0, dilation=1, ceil_mode=False)\n",
            "    (5): Conv2d(64, 128, kernel_size=(3, 3), stride=(1, 1), padding=(1, 1))\n",
            "    (6): ReLU(inplace=True)\n",
            "    (7): Conv2d(128, 128, kernel_size=(3, 3), stride=(1, 1), padding=(1, 1))\n",
            "    (8): ReLU(inplace=True)\n",
            "    (9): MaxPool2d(kernel_size=2, stride=2, padding=0, dilation=1, ceil_mode=False)\n",
            "    (10): Conv2d(128, 256, kernel_size=(3, 3), stride=(1, 1), padding=(1, 1))\n",
            "    (11): ReLU(inplace=True)\n",
            "    (12): Conv2d(256, 256, kernel_size=(3, 3), stride=(1, 1), padding=(1, 1))\n",
            "    (13): ReLU(inplace=True)\n",
            "    (14): Conv2d(256, 256, kernel_size=(3, 3), stride=(1, 1), padding=(1, 1))\n",
            "    (15): ReLU(inplace=True)\n",
            "    (16): MaxPool2d(kernel_size=2, stride=2, padding=0, dilation=1, ceil_mode=False)\n",
            "    (17): Conv2d(256, 512, kernel_size=(3, 3), stride=(1, 1), padding=(1, 1))\n",
            "    (18): ReLU(inplace=True)\n",
            "    (19): Conv2d(512, 512, kernel_size=(3, 3), stride=(1, 1), padding=(1, 1))\n",
            "    (20): ReLU(inplace=True)\n",
            "    (21): Conv2d(512, 512, kernel_size=(3, 3), stride=(1, 1), padding=(1, 1))\n",
            "    (22): ReLU(inplace=True)\n",
            "    (23): MaxPool2d(kernel_size=2, stride=2, padding=0, dilation=1, ceil_mode=False)\n",
            "    (24): Conv2d(512, 512, kernel_size=(3, 3), stride=(1, 1), padding=(1, 1))\n",
            "    (25): ReLU(inplace=True)\n",
            "    (26): Conv2d(512, 512, kernel_size=(3, 3), stride=(1, 1), padding=(1, 1))\n",
            "    (27): ReLU(inplace=True)\n",
            "    (28): Conv2d(512, 512, kernel_size=(3, 3), stride=(1, 1), padding=(1, 1))\n",
            "    (29): ReLU(inplace=True)\n",
            "    (30): MaxPool2d(kernel_size=2, stride=2, padding=0, dilation=1, ceil_mode=False)\n",
            "  )\n",
            "  (avgpool): AdaptiveAvgPool2d(output_size=(7, 7))\n",
            "  (classifier): Sequential(\n",
            "    (0): Linear(in_features=25088, out_features=4096, bias=True)\n",
            "    (1): ReLU(inplace=True)\n",
            "    (2): Dropout(p=0.5, inplace=False)\n",
            "    (3): Linear(in_features=4096, out_features=4096, bias=True)\n",
            "    (4): ReLU(inplace=True)\n",
            "    (5): Dropout(p=0.5, inplace=False)\n",
            "    (6): Linear(in_features=4096, out_features=10, bias=True)\n",
            "  )\n",
            ")\n"
          ]
        }
      ],
      "source": [
        "## Setting up the model, optimizer, and loss function\n",
        "# construct a vgg16 model with random weights by calling its constructor\n",
        "model_2b = vgg16(pretrained=True)\n",
        "# freeze all network except the final layer\n",
        "for param in model_2b.parameters():\n",
        "  param.requires_grad = False\n",
        "\n",
        "# parameters of newly constructed modules hve requires_grad=True by default\n",
        "# modify input channel into 1\n",
        "model_2b.features[0] = nn.Conv2d(in_channels=1, out_channels=64, kernel_size=(3, 3), stride=(1, 1), padding=(1, 1))\n",
        "# modify last layer into 10 \n",
        "model_2b.classifier[-1] = nn.Linear(in_features=4096, out_features=10)\n",
        "\n",
        "print(model_2b)\n",
        "optimizer = torch.optim.Adam(model_2b.parameters(),lr=LR)##TODO: Choose an optimized\n",
        "loss_f = nn.CrossEntropyLoss(reduction='mean') ##TODO: Choose a loss"
      ]
    },
    {
      "cell_type": "code",
      "execution_count": null,
      "metadata": {
        "colab": {
          "base_uri": "https://localhost:8080/"
        },
        "id": "YOdjqrUQOJy3",
        "outputId": "a14bcb7b-fb1e-4845-9528-a8a9635f4357"
      },
      "outputs": [
        {
          "output_type": "stream",
          "name": "stdout",
          "text": [
            "Start Training...\n",
            "Epoch: 1. TrainLoss: 0.7919221584002177. TrainAcc: 0.7178833484649658. \n",
            "Epoch: 2. TrainLoss: 0.6014206363360087. TrainAcc: 0.7837166786193848. \n",
            "Epoch: 3. TrainLoss: 0.554965943145752. TrainAcc: 0.7993500232696533. \n",
            "Epoch: 4. TrainLoss: 0.5296242933909099. TrainAcc: 0.8070666790008545. \n",
            "Epoch: 5. TrainLoss: 0.520281258392334. TrainAcc: 0.8119833469390869. \n",
            "Epoch: 6. TrainLoss: 0.5053430538495381. TrainAcc: 0.8162999749183655. \n",
            "Epoch: 7. TrainLoss: 0.4877730200767517. TrainAcc: 0.8218333125114441. \n",
            "Epoch: 8. TrainLoss: 0.48569672827720645. TrainAcc: 0.8242499828338623. \n",
            "Epoch: 9. TrainLoss: 0.48570092336336773. TrainAcc: 0.824733316898346. \n",
            "Epoch: 10. TrainLoss: 0.478108192952474. TrainAcc: 0.8261833190917969. \n",
            "Training time finished in 7m 26s\n",
            "Test Acc: 0.819100022315979\n"
          ]
        }
      ],
      "source": [
        "## Run Training Loop\n",
        "print(\"Start Training...\")\n",
        "out = train(model_2b, optimizer, loss_f, LR, num_epochs)"
      ]
    },
    {
      "cell_type": "code",
      "source": [
        "visual_test(model_2b, 2,5)"
      ],
      "metadata": {
        "colab": {
          "base_uri": "https://localhost:8080/",
          "height": 263
        },
        "id": "GIkzouyPAjkn",
        "outputId": "73d0168f-e9d8-4971-9b52-29f0912aa477"
      },
      "execution_count": null,
      "outputs": [
        {
          "output_type": "display_data",
          "data": {
            "text/plain": [
              "<Figure size 1512x288 with 10 Axes>"
            ],
            "image/png": "[encoded data removed]"
          },
          "metadata": {
            "needs_background": "light"
          }
        }
      ]
    },
    {
      "cell_type": "code",
      "execution_count": null,
      "metadata": {
        "colab": {
          "base_uri": "https://localhost:8080/",
          "height": 545
        },
        "id": "bOYOFPKjQMAO",
        "outputId": "f9658e62-7a5c-4bfa-9c40-6bdff88edbd9"
      },
      "outputs": [
        {
          "data": {
            "image/png": "[encoded data removed]",
            "text/plain": [
              "<Figure size 432x288 with 1 Axes>"
            ]
          },
          "metadata": {},
          "output_type": "display_data"
        },
        {
          "data": {
            "image/png": "[encoded data removed]",
            "text/plain": [
              "<Figure size 432x288 with 1 Axes>"
            ]
          },
          "metadata": {},
          "output_type": "display_data"
        }
      ],
      "source": [
        "plt.plot(range(10), out[0])\n",
        "plt.title(\"loss of training dataset(pre-train)\")\n",
        "plt.show()\n",
        "plt.plot(range(10), out[1]) \n",
        "plt.title(\"accuarcy of tranining dataset(pre-train)\")\n",
        "plt.show()"
      ]
    },
    {
      "cell_type": "code",
      "source": [
        ""
      ],
      "metadata": {
        "id": "FjmDq3W5oHCu"
      },
      "execution_count": null,
      "outputs": []
    },
    {
      "cell_type": "markdown",
      "metadata": {
        "id": "m4J7gR06GQ2y"
      },
      "source": [
        "(c) Now, imagine a scenario in which you want to train the VGG16 model on an entirely\n",
        "new dataset and will fine-tune either the model from (2a) or (2b). Which pre-trained\n",
        "model is the preferred starting point for your new use case?"
      ]
    },
    {
      "cell_type": "markdown",
      "metadata": {
        "id": "Z4wxxJ6xGQ2y"
      },
      "source": [
        "**Answer** The following ideas were learned from 'Transfer Learning' in Stanford CS231N and summarized with own words. Link: https://cs231n.github.io/transfer-learning/.\n",
        "These two exercises we did are belong to transfer learning methods. The first one is to use pre-trained model as initial framework and fine tuning the weights of pre-trained model by backpropagation, while the second one is to use pre-trained model as fixed feature extractor with only tuning a small part of weights in the final few layers. When having new use case, we can decide to use which methods by considering following items. 1) size of new data, 2) similarity between new data and original data. When the new dataset is small and similar with original dataset, we prefer to fine tuning the last few layers to avoid the overfitting problem. When the new dataset is large and similar with original one, we can fine-tune through the full network since we have more confidence it won't cause the overfitting problem. If the new dataset is small and different than original one, I believe the better way is to train own model without transfer learning. The last case is we have a large dataset and it is different than original one, we can try to fine-tune the pretrain model from scratch but might also be a not good idea for trying transfer learning."
      ]
    }
  ],
  "metadata": {
    "accelerator": "GPU",
    "colab": {
      "collapsed_sections": [],
      "name": "DeepLearning_Spring2022_HW6.ipynb",
      "provenance": [],
      "include_colab_link": true
    },
    "kernelspec": {
      "display_name": "Python 3",
      "language": "python",
      "name": "python3"
    },
    "language_info": {
      "codemirror_mode": {
        "name": "ipython",
        "version": 3
      },
      "file_extension": ".py",
      "mimetype": "text/x-python",
      "name": "python",
      "nbconvert_exporter": "python",
      "pygments_lexer": "ipython3",
      "version": "3.7.4"
    },
    "widgets": {
      "application/vnd.jupyter.widget-state+json": {
        "42f1d47806b149d688dafc8ff49e06b5": {
          "model_module": "@jupyter-widgets/controls",
          "model_name": "HBoxModel",
          "model_module_version": "1.5.0",
          "state": {
            "_dom_classes": [],
            "_model_module": "@jupyter-widgets/controls",
            "_model_module_version": "1.5.0",
            "_model_name": "HBoxModel",
            "_view_count": null,
            "_view_module": "@jupyter-widgets/controls",
            "_view_module_version": "1.5.0",
            "_view_name": "HBoxView",
            "box_style": "",
            "children": [
              "IPY_MODEL_75fe1fde6aae496fb2abf89b09e83cb0",
              "IPY_MODEL_bff579efca464e1ea89d304c6cd992f6",
              "IPY_MODEL_8ac74974062c4a91a089e0c69d10e756"
            ],
            "layout": "IPY_MODEL_91b87346b3d54e7d84d02884238962fe"
          }
        },
        "75fe1fde6aae496fb2abf89b09e83cb0": {
          "model_module": "@jupyter-widgets/controls",
          "model_name": "HTMLModel",
          "model_module_version": "1.5.0",
          "state": {
            "_dom_classes": [],
            "_model_module": "@jupyter-widgets/controls",
            "_model_module_version": "1.5.0",
            "_model_name": "HTMLModel",
            "_view_count": null,
            "_view_module": "@jupyter-widgets/controls",
            "_view_module_version": "1.5.0",
            "_view_name": "HTMLView",
            "description": "",
            "description_tooltip": null,
            "layout": "IPY_MODEL_2d783318c5d048289bc8f1fc1c9f219d",
            "placeholder": "​",
            "style": "IPY_MODEL_dab12f65084f4c5f8262434111670735",
            "value": "100%"
          }
        },
        "bff579efca464e1ea89d304c6cd992f6": {
          "model_module": "@jupyter-widgets/controls",
          "model_name": "FloatProgressModel",
          "model_module_version": "1.5.0",
          "state": {
            "_dom_classes": [],
            "_model_module": "@jupyter-widgets/controls",
            "_model_module_version": "1.5.0",
            "_model_name": "FloatProgressModel",
            "_view_count": null,
            "_view_module": "@jupyter-widgets/controls",
            "_view_module_version": "1.5.0",
            "_view_name": "ProgressView",
            "bar_style": "success",
            "description": "",
            "description_tooltip": null,
            "layout": "IPY_MODEL_d8663ae4820d4180a9342a3f59b3bd89",
            "max": 553433881,
            "min": 0,
            "orientation": "horizontal",
            "style": "IPY_MODEL_203bd0b3e027478f91fc3d301c449dec",
            "value": 553433881
          }
        },
        "8ac74974062c4a91a089e0c69d10e756": {
          "model_module": "@jupyter-widgets/controls",
          "model_name": "HTMLModel",
          "model_module_version": "1.5.0",
          "state": {
            "_dom_classes": [],
            "_model_module": "@jupyter-widgets/controls",
            "_model_module_version": "1.5.0",
            "_model_name": "HTMLModel",
            "_view_count": null,
            "_view_module": "@jupyter-widgets/controls",
            "_view_module_version": "1.5.0",
            "_view_name": "HTMLView",
            "description": "",
            "description_tooltip": null,
            "layout": "IPY_MODEL_b804214c01f448dfa064d254739df650",
            "placeholder": "​",
            "style": "IPY_MODEL_30627b041b2f4bc4ab7be1bebe36144d",
            "value": " 528M/528M [00:04&lt;00:00, 148MB/s]"
          }
        },
        "91b87346b3d54e7d84d02884238962fe": {
          "model_module": "@jupyter-widgets/base",
          "model_name": "LayoutModel",
          "model_module_version": "1.2.0",
          "state": {
            "_model_module": "@jupyter-widgets/base",
            "_model_module_version": "1.2.0",
            "_model_name": "LayoutModel",
            "_view_count": null,
            "_view_module": "@jupyter-widgets/base",
            "_view_module_version": "1.2.0",
            "_view_name": "LayoutView",
            "align_content": null,
            "align_items": null,
            "align_self": null,
            "border": null,
            "bottom": null,
            "display": null,
            "flex": null,
            "flex_flow": null,
            "grid_area": null,
            "grid_auto_columns": null,
            "grid_auto_flow": null,
            "grid_auto_rows": null,
            "grid_column": null,
            "grid_gap": null,
            "grid_row": null,
            "grid_template_areas": null,
            "grid_template_columns": null,
            "grid_template_rows": null,
            "height": null,
            "justify_content": null,
            "justify_items": null,
            "left": null,
            "margin": null,
            "max_height": null,
            "max_width": null,
            "min_height": null,
            "min_width": null,
            "object_fit": null,
            "object_position": null,
            "order": null,
            "overflow": null,
            "overflow_x": null,
            "overflow_y": null,
            "padding": null,
            "right": null,
            "top": null,
            "visibility": null,
            "width": null
          }
        },
        "2d783318c5d048289bc8f1fc1c9f219d": {
          "model_module": "@jupyter-widgets/base",
          "model_name": "LayoutModel",
          "model_module_version": "1.2.0",
          "state": {
            "_model_module": "@jupyter-widgets/base",
            "_model_module_version": "1.2.0",
            "_model_name": "LayoutModel",
            "_view_count": null,
            "_view_module": "@jupyter-widgets/base",
            "_view_module_version": "1.2.0",
            "_view_name": "LayoutView",
            "align_content": null,
            "align_items": null,
            "align_self": null,
            "border": null,
            "bottom": null,
            "display": null,
            "flex": null,
            "flex_flow": null,
            "grid_area": null,
            "grid_auto_columns": null,
            "grid_auto_flow": null,
            "grid_auto_rows": null,
            "grid_column": null,
            "grid_gap": null,
            "grid_row": null,
            "grid_template_areas": null,
            "grid_template_columns": null,
            "grid_template_rows": null,
            "height": null,
            "justify_content": null,
            "justify_items": null,
            "left": null,
            "margin": null,
            "max_height": null,
            "max_width": null,
            "min_height": null,
            "min_width": null,
            "object_fit": null,
            "object_position": null,
            "order": null,
            "overflow": null,
            "overflow_x": null,
            "overflow_y": null,
            "padding": null,
            "right": null,
            "top": null,
            "visibility": null,
            "width": null
          }
        },
        "dab12f65084f4c5f8262434111670735": {
          "model_module": "@jupyter-widgets/controls",
          "model_name": "DescriptionStyleModel",
          "model_module_version": "1.5.0",
          "state": {
            "_model_module": "@jupyter-widgets/controls",
            "_model_module_version": "1.5.0",
            "_model_name": "DescriptionStyleModel",
            "_view_count": null,
            "_view_module": "@jupyter-widgets/base",
            "_view_module_version": "1.2.0",
            "_view_name": "StyleView",
            "description_width": ""
          }
        },
        "d8663ae4820d4180a9342a3f59b3bd89": {
          "model_module": "@jupyter-widgets/base",
          "model_name": "LayoutModel",
          "model_module_version": "1.2.0",
          "state": {
            "_model_module": "@jupyter-widgets/base",
            "_model_module_version": "1.2.0",
            "_model_name": "LayoutModel",
            "_view_count": null,
            "_view_module": "@jupyter-widgets/base",
            "_view_module_version": "1.2.0",
            "_view_name": "LayoutView",
            "align_content": null,
            "align_items": null,
            "align_self": null,
            "border": null,
            "bottom": null,
            "display": null,
            "flex": null,
            "flex_flow": null,
            "grid_area": null,
            "grid_auto_columns": null,
            "grid_auto_flow": null,
            "grid_auto_rows": null,
            "grid_column": null,
            "grid_gap": null,
            "grid_row": null,
            "grid_template_areas": null,
            "grid_template_columns": null,
            "grid_template_rows": null,
            "height": null,
            "justify_content": null,
            "justify_items": null,
            "left": null,
            "margin": null,
            "max_height": null,
            "max_width": null,
            "min_height": null,
            "min_width": null,
            "object_fit": null,
            "object_position": null,
            "order": null,
            "overflow": null,
            "overflow_x": null,
            "overflow_y": null,
            "padding": null,
            "right": null,
            "top": null,
            "visibility": null,
            "width": null
          }
        },
        "203bd0b3e027478f91fc3d301c449dec": {
          "model_module": "@jupyter-widgets/controls",
          "model_name": "ProgressStyleModel",
          "model_module_version": "1.5.0",
          "state": {
            "_model_module": "@jupyter-widgets/controls",
            "_model_module_version": "1.5.0",
            "_model_name": "ProgressStyleModel",
            "_view_count": null,
            "_view_module": "@jupyter-widgets/base",
            "_view_module_version": "1.2.0",
            "_view_name": "StyleView",
            "bar_color": null,
            "description_width": ""
          }
        },
        "b804214c01f448dfa064d254739df650": {
          "model_module": "@jupyter-widgets/base",
          "model_name": "LayoutModel",
          "model_module_version": "1.2.0",
          "state": {
            "_model_module": "@jupyter-widgets/base",
            "_model_module_version": "1.2.0",
            "_model_name": "LayoutModel",
            "_view_count": null,
            "_view_module": "@jupyter-widgets/base",
            "_view_module_version": "1.2.0",
            "_view_name": "LayoutView",
            "align_content": null,
            "align_items": null,
            "align_self": null,
            "border": null,
            "bottom": null,
            "display": null,
            "flex": null,
            "flex_flow": null,
            "grid_area": null,
            "grid_auto_columns": null,
            "grid_auto_flow": null,
            "grid_auto_rows": null,
            "grid_column": null,
            "grid_gap": null,
            "grid_row": null,
            "grid_template_areas": null,
            "grid_template_columns": null,
            "grid_template_rows": null,
            "height": null,
            "justify_content": null,
            "justify_items": null,
            "left": null,
            "margin": null,
            "max_height": null,
            "max_width": null,
            "min_height": null,
            "min_width": null,
            "object_fit": null,
            "object_position": null,
            "order": null,
            "overflow": null,
            "overflow_x": null,
            "overflow_y": null,
            "padding": null,
            "right": null,
            "top": null,
            "visibility": null,
            "width": null
          }
        },
        "30627b041b2f4bc4ab7be1bebe36144d": {
          "model_module": "@jupyter-widgets/controls",
          "model_name": "DescriptionStyleModel",
          "model_module_version": "1.5.0",
          "state": {
            "_model_module": "@jupyter-widgets/controls",
            "_model_module_version": "1.5.0",
            "_model_name": "DescriptionStyleModel",
            "_view_count": null,
            "_view_module": "@jupyter-widgets/base",
            "_view_module_version": "1.2.0",
            "_view_name": "StyleView",
            "description_width": ""
          }
        }
      }
    }
  },
  "nbformat": 4,
  "nbformat_minor": 0
}
