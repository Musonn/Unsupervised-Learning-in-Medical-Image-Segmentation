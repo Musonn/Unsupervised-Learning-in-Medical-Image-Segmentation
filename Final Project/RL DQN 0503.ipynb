{
  "nbformat": 4,
  "nbformat_minor": 0,
  "metadata": {
    "colab": {
      "name": "RL on GCVM 0503.ipynb",
      "provenance": [],
      "machine_shape": "hm",
      "collapsed_sections": [
        "3GD0N-fzbtEH",
        "Myhy7X_9eNMb",
        "QCvAupN3RCdF"
      ],
      "include_colab_link": true
    },
    "kernelspec": {
      "name": "python3",
      "display_name": "Python 3"
    },
    "language_info": {
      "name": "python"
    },
    "accelerator": "GPU"
  },
  "cells": [
    {
      "cell_type": "markdown",
      "metadata": {
        "id": "view-in-github",
        "colab_type": "text"
      },
      "source": [
        "<a href=\"https://colab.research.google.com/github/tinghe14/COURSE-2Deep-Learning/blob/main/RL_on_GCVM_0503.ipynb\" target=\"_parent\"><img src=\"https://colab.research.google.com/assets/colab-badge.svg\" alt=\"Open In Colab\"/></a>"
      ]
    },
    {
      "cell_type": "markdown",
      "source": [
        "shared URL for my drive: https://drive.google.com/drive/folders/1OGu5OMFOKKtjB8OAHxsxZ1_CErQRX-y8?usp=sharing (codes, saved model, data dictionary are there)"
      ],
      "metadata": {
        "id": "rRHWhi6nfdHl"
      }
    },
    {
      "cell_type": "markdown",
      "source": [
        "Trained Clustering CNN was saved in ting's shared drive location at /content/drive/MyDrive/DeepLearningFinalProject/clusteringCNN-flair.pt (epoch=10, batch_size=8, trained images=484)"
      ],
      "metadata": {
        "id": "vzsIPMb2aHxa"
      }
    },
    {
      "cell_type": "markdown",
      "source": [
        "Pesudolabel can be created by GenerateTarget function which you can learn by last section of \"get masks\" in this file"
      ],
      "metadata": {
        "id": "eGffdbjNgy8a"
      }
    },
    {
      "cell_type": "markdown",
      "source": [
        "how the top 100 was created, you can check 'ting 0429 save target.ipynb', but don't need to read or run it for running this doc"
      ],
      "metadata": {
        "id": "B73FuVO9hLFu"
      }
    },
    {
      "cell_type": "code",
      "execution_count": null,
      "metadata": {
        "id": "p_j8lnokaBIE",
        "colab": {
          "base_uri": "https://localhost:8080/",
          "height": 53
        },
        "outputId": "6a1e703c-984b-433b-a485-de254e7e7677"
      },
      "outputs": [
        {
          "output_type": "execute_result",
          "data": {
            "application/vnd.google.colaboratory.intrinsic+json": {
              "type": "string"
            },
            "text/plain": [
              "'\\nWhat we will do in this script in order to retrieve those top 100 masks with their images:\\n\\nSTEP 1: import library as before \\n\\nSTEP 2: run data loader to get top 100 dice score data path and conduct data transformer as before\\n\\nSTEP 3: load saved clustering CNN model and dice score image\\n\\nSTEP 4: run GenerateTarget function to get the masks (here only show one example in order to let you know how it work)\\n'"
            ]
          },
          "metadata": {},
          "execution_count": 1
        }
      ],
      "source": [
        "'''\n",
        "What we will do in this script in order to retrieve those top 100 masks with their images:\n",
        "\n",
        "STEP 1: import library as before \n",
        "\n",
        "STEP 2: run data loader to get top 100 dice score data path and conduct data transformer as before\n",
        "\n",
        "STEP 3: load saved clustering CNN model and dice score image\n",
        "\n",
        "STEP 4: run GenerateTarget function to get the masks (here only show one example in order to let you know how it work)\n",
        "'''"
      ]
    },
    {
      "cell_type": "markdown",
      "source": [
        "# Library"
      ],
      "metadata": {
        "id": "3GD0N-fzbtEH"
      }
    },
    {
      "cell_type": "code",
      "source": [
        "%pip install -q \"monai-weekly[tqdm, nibabel, gdown, ignite]\"\n",
        "import warnings\n",
        "warnings.filterwarnings(\"ignore\")  # remove some scikit-image warnings\n",
        "\n",
        "import monai\n",
        "monai.config.print_config()\n",
        "\n",
        "# access dataset from data challenge \n",
        "#from monai.apps import DecathlonDataset\n",
        "# dataloader to prepare it ready for dl model\n",
        "from monai.data import DataLoader\n",
        "from monai.metrics import DiceMetric\n",
        "# chain of transformers (if want to add more: check the documentations in transform, loader section)\n",
        "# from monai.transforms import \\\n",
        "#     LoadImageD, EnsureChannelFirstD, AddChannelD, ScaleIntensityD, ToTensorD, Compose, \\\n",
        "#     AsDiscreteD, SpacingD, OrientationD, ResizeD, RandAffineD\n",
        "from monai.transforms import (\n",
        "    OrientationD,\n",
        "    Activations,\n",
        "    AddChannelD,\n",
        "    AsDiscreteD,\n",
        "    Compose,\n",
        "    LoadImageD,\n",
        "    RandCropByPosNegLabeld,\n",
        "    RandRotate90d,\n",
        "    ScaleIntensityD,\n",
        "    EnsureTyped,\n",
        "    EnsureType,\n",
        "    SpacingD,\n",
        "    RandAffineD,\n",
        "    ResizeD,\n",
        "    EnsureChannelFirstD,\n",
        "    ToTensorD,\n",
        "    MapTransform\n",
        ")\n",
        "\n",
        "import os\n",
        "import numpy as np\n",
        "import matplotlib.pyplot as plt\n",
        "import tarfile\n",
        "\n",
        "import torch\n",
        "from torchvision import transforms\n",
        "from torch.utils.data import DataLoader\n",
        "from torch import autograd, optim\n",
        "import torch.backends.cudnn as cudnn\n",
        "import torch.nn as nn\n",
        "from torch.nn.modules.activation import Softmax\n",
        "import torchvision.utils as vutils\n",
        "\n",
        "\n",
        "%matplotlib inline"
      ],
      "metadata": {
        "colab": {
          "base_uri": "https://localhost:8080/"
        },
        "id": "-kyghOCGbaJ3",
        "outputId": "0ae9bb5d-4eb5-4afb-fc19-a3ddb3e437d8"
      },
      "execution_count": null,
      "outputs": [
        {
          "output_type": "stream",
          "name": "stdout",
          "text": [
            "MONAI version: 0.9.dev2216\n",
            "Numpy version: 1.19.5\n",
            "Pytorch version: 1.10.0+cu111\n",
            "MONAI flags: HAS_EXT = False, USE_COMPILED = False\n",
            "MONAI rev id: 1c4fae6a91eba8262de2c1a9665055edcd5605f3\n",
            "MONAI __file__: /usr/local/lib/python3.7/dist-packages/monai/__init__.py\n",
            "\n",
            "Optional dependencies:\n",
            "Pytorch Ignite version: 0.4.8\n",
            "Nibabel version: 3.0.2\n",
            "scikit-image version: 0.18.3\n",
            "Pillow version: 7.1.2\n",
            "Tensorboard version: 2.7.0\n",
            "gdown version: 4.4.0\n",
            "TorchVision version: 0.11.1+cu111\n",
            "tqdm version: 4.62.3\n",
            "lmdb version: 0.99\n",
            "psutil version: 5.4.8\n",
            "pandas version: 1.1.5\n",
            "einops version: NOT INSTALLED or UNKNOWN VERSION.\n",
            "transformers version: NOT INSTALLED or UNKNOWN VERSION.\n",
            "mlflow version: NOT INSTALLED or UNKNOWN VERSION.\n",
            "\n",
            "For details about installing the optional dependencies, please visit:\n",
            "    https://docs.monai.io/en/latest/installation.html#installing-the-recommended-dependencies\n",
            "\n"
          ]
        }
      ]
    },
    {
      "cell_type": "markdown",
      "source": [
        "# Data Loader"
      ],
      "metadata": {
        "id": "_43wgCDvb1ve"
      }
    },
    {
      "cell_type": "code",
      "source": [
        "# for 100 images \n",
        "from glob import glob\n",
        "from pathlib import Path\n",
        "\n",
        "import pandas as pd\n",
        "\n",
        "top100id = pd.read_csv('/content/top100id.csv')\n",
        "\n",
        "top100path_T = []\n",
        "for i in top100id.iloc[:,0]:\n",
        " top100path_T.append(Path(\"/content/Task01_BrainTumour/imagesTr/BRATS_{:03d}.nii.gz\".format(i)))\n",
        "\n",
        "top100path_L = []\n",
        "for i in top100id.iloc[:,0]:\n",
        " top100path_L.append(Path(\"/content/Task01_BrainTumour/labelsTr/BRATS_{:03d}.nii.gz\".format(i)))\n",
        "\n",
        "top100path_T = sorted(top100path_T)\n",
        "top100path_L = sorted(top100path_L)"
      ],
      "metadata": {
        "id": "q5pduQaSxOdE"
      },
      "execution_count": null,
      "outputs": []
    },
    {
      "cell_type": "code",
      "source": [
        "# for 100 images \n",
        "from glob import glob\n",
        "from pathlib import Path\n",
        "\n",
        "ROOT_DIR = \"/content/Task01_BrainTumour\"\n",
        "img_root = ROOT_DIR+\"/imagesTr\"\n",
        "label_root = ROOT_DIR+ \"/labelsTr\"\n",
        "\n",
        "img_dir = Path(img_root)\n",
        "label_dir = Path(label_root)\n",
        "\n",
        "images= top100path_T\n",
        "segs = top100path_L\n",
        "\n",
        "print(\"num of images in training image folder: \", len(images))\n",
        "print(\"num of label in training label folder: \", len(segs))\n",
        "\n",
        "# 60 images for training\n",
        "train_5 = [{\"img\": img, \"seg\": seg} for img, seg in zip(images[:60], segs[:60])]\n",
        "print(\"num of images in our train_5: \", len(train_5))\n",
        "val_data = [{\"img\": img, \"seg\": seg} for img, seg in zip(images[60:80], segs[60:80])]\n",
        "print(\"num of images in our val_data: \", len(val_data))\n",
        "test_data = [{\"img\": img, \"seg\": seg} for img, seg in zip(images[80:], segs[80:])]\n",
        "print(\"num of images in our test_data: \", len(test_data))"
      ],
      "metadata": {
        "id": "aESgAk2rb9UZ",
        "colab": {
          "base_uri": "https://localhost:8080/"
        },
        "outputId": "96110477-391b-44bb-fdb6-8f31672e4612"
      },
      "execution_count": null,
      "outputs": [
        {
          "output_type": "stream",
          "name": "stdout",
          "text": [
            "num of images in training image folder:  100\n",
            "num of label in training label folder:  100\n",
            "num of images in our train_5:  60\n",
            "num of images in our val_data:  20\n",
            "num of images in our test_data:  20\n"
          ]
        }
      ]
    },
    {
      "cell_type": "code",
      "source": [
        "class ConvertToMultiChannelBasedOnBratsClassesd(MapTransform):\n",
        "    \"\"\"\n",
        "    Convert labels to multi channels based on brats classes:\n",
        "    label 1 is the peritumoral edema\n",
        "    label 2 is the GD-enhancing tumor\n",
        "    label 3 is the necrotic and non-enhancing tumor core\n",
        "    The possible classes are TC (Tumor core), WT (Whole tumor)\n",
        "    and ET (Enhancing tumor).\n",
        "\n",
        "    \"\"\"\n",
        "\n",
        "    def __call__(self, data):\n",
        "        d = dict(data)\n",
        "        for key in self.keys:\n",
        "            result = []\n",
        "            # background\n",
        "            result.append(d[key] == 0)\n",
        "            #print(result)\n",
        "            # merge label 2 and label 3 to construct TC\n",
        "            result.append(np.logical_or(d[key] == 2, d[key] == 3))\n",
        "            # merge labels 1, 2 and 3 to construct WT\n",
        "            result.append(\n",
        "                np.logical_or(\n",
        "                    np.logical_or(d[key] == 2, d[key] == 3), d[key] == 1\n",
        "                )\n",
        "            )\n",
        "            # label 2 is ET\n",
        "            result.append(d[key] == 2)\n",
        "            d[key] = np.stack(result, axis=0).astype(np.float32) \n",
        "        return d"
      ],
      "metadata": {
        "id": "LvpCECxLcPY5"
      },
      "execution_count": null,
      "outputs": []
    },
    {
      "cell_type": "code",
      "source": [
        "# To-do: dataloader for validation and test\n",
        "# start a chain of transforms\n",
        "keys = [\"img\", \"seg\"]\n",
        "\n",
        "class Select():\n",
        "    \"\"\"Convert 4-channel input/target to 1-channel input/target. \n",
        "    For input, only select FLAIR channel of the input, ie, channel 0\n",
        "    For target, only select Whole Tumor channel of the target, ie, channel 2\n",
        "\n",
        "    Args:\n",
        "        channel (int): \n",
        "    \"\"\"\n",
        "\n",
        "    def __init__(self, keys):\n",
        "        self.keys = keys\n",
        "\n",
        "    def __call__(self, sample):\n",
        "        image, landmarks = sample[self.keys[0]], sample[self.keys[1]]\n",
        "        image = torch.unsqueeze(image[0,...], 0)  # 0 is FLAIR\n",
        "        landmarks = torch.unsqueeze(landmarks[2,...],0)  # 2 is whole tumor\n",
        "\n",
        "        return {self.keys[0]: image, self.keys[1]: landmarks}\n",
        "\n",
        "train_transforms = Compose(\n",
        "    [\n",
        "        LoadImageD(keys),\n",
        "        EnsureChannelFirstD(\"img\"), # move modailty to the second place (first position: batch)\n",
        "        ConvertToMultiChannelBasedOnBratsClassesd(keys='seg'),\n",
        "        #AddChannelD(\"seg\"), # add modality label for label # don't run this line once converted the label\n",
        "        OrientationD(keys, axcodes='RAS'), #convert RAS coordinate system,\n",
        "        SpacingD(keys, pixdim=(1., 1., 1.), mode=('bilinear', 'nearest')), # scale image (detials:https://docs.monai.io/en/stable/transforms.html?highlight=spacingD#:~:text=Spatial%20(Dict)-,Spacingd,-%C2%B6)\n",
        "        ScaleIntensityD(keys=\"img\"),\n",
        "        ResizeD(keys, (64, 64, 32), mode=('trilinear', 'nearest')), # resize (specific interpolate mode ) ## TODO: find a way to chrop the image, maybe: https://docs.monai.io/en/0.1.0/transforms.html?highlight=crop#centerspatialcrop\n",
        "        # feel free to uncomment some augumentation techniques\n",
        "        #RandCropByPosNegLabeld(\n",
        "            #keys=[\"img\", \"seg\"], label_key=\"seg\", spatial_size=[96, 96], pos=1, neg=1, num_samples=4\n",
        "        #),\n",
        "        #RandRotate90d(keys=[\"img\", \"seg\"], prob=0.5, spatial_axes=[0, 1]),\n",
        "        ##CenterScaleCropd(keys, roi_scale=0.8)\n",
        "        EnsureTyped(keys),\n",
        "        ToTensorD(keys),\n",
        "        Select(keys)\n",
        "    ]\n",
        ")"
      ],
      "metadata": {
        "id": "e6IR6BGacaMf"
      },
      "execution_count": null,
      "outputs": []
    },
    {
      "cell_type": "code",
      "source": [
        "# define dataset, data loader\n",
        "from monai.data import create_test_image_2d, list_data_collate, decollate_batch\n",
        "new_ds = monai.data.Dataset(data=train_5, transform=train_transforms)\n",
        "train_loader = DataLoader(new_ds, batch_size=1, shuffle=False, num_workers=3, collate_fn=list_data_collate,pin_memory=torch.cuda.is_available())\n",
        "new_ds = monai.data.Dataset(data=val_data, transform=train_transforms)\n",
        "val_loader = DataLoader(new_ds, batch_size=1, shuffle=False, num_workers=3, collate_fn=list_data_collate,pin_memory=torch.cuda.is_available())\n",
        "new_ds = monai.data.Dataset(data=test_data, transform=train_transforms)\n",
        "test_loader = DataLoader(new_ds, batch_size=1, shuffle=False, num_workers=3, collate_fn=list_data_collate,pin_memory=torch.cuda.is_available())"
      ],
      "metadata": {
        "id": "pJk08SARcdsK"
      },
      "execution_count": null,
      "outputs": []
    },
    {
      "cell_type": "markdown",
      "source": [
        "# Load Model\n"
      ],
      "metadata": {
        "id": "fg-xejhid4o3"
      }
    },
    {
      "cell_type": "code",
      "source": [
        "from google.colab import output\n",
        "class clusteringCNN(nn.Module):\n",
        "    # initializers\n",
        "    def __init__(self,num_modality,output_channel):\n",
        "        super(clusteringCNN, self).__init__()\n",
        "        #TODO\n",
        "        # Note: input and the output should be the same size,\n",
        "        # in order to do the superpixel step\n",
        "        # WHY? before I used stride=0, padding=0, as parameters in paper but it gives me error: pytorch conv3d non-postive stride is not supported (which didn't make sense)\n",
        "        self.layer1 =nn.Conv3d(in_channels=num_modality, out_channels=100, kernel_size=3, stride=1, padding=1)  #[Batch, Channel, Slice, H, W]\n",
        "        self.bn1 = torch.nn.InstanceNorm3d(100)\n",
        "        self.layer2 = nn.Conv3d(100, 100, 3, stride=1, padding=1)\n",
        "        self.bn2 = torch.nn.InstanceNorm3d(100)\n",
        "        self.layer3 = nn.Conv3d(100, output_channel, 3, stride=1, padding=1)\n",
        "        self.bn3 = torch.nn.InstanceNorm3d(output_channel) \n",
        "\n",
        "        \n",
        "    # Init linear layers\n",
        "    # weight_init\n",
        "    def weight_init(self, mean, std):\n",
        "        for m in self._modules:\n",
        "            normal_init(self._modules[m], mean, std)\n",
        "\n",
        "    # forward method\n",
        "    def forward(self, input):\n",
        "        x = input\n",
        "        x = self.bn1(nn.functional.relu(self.layer1(x)))\n",
        "        x = self.bn2(nn.functional.relu(self.layer2(x)))\n",
        "        x = self.bn3(self.layer3(x))\n",
        "        # x,_ = torch.argmax(x, dim=1) # don't need argmax in the training, we only need it in creating target\n",
        "        return x"
      ],
      "metadata": {
        "id": "9GYwMORjeDri"
      },
      "execution_count": null,
      "outputs": []
    },
    {
      "cell_type": "code",
      "source": [
        "from skimage.segmentation import slic, mark_boundaries\n",
        "import torch.nn.functional as F\n",
        "\n",
        "def GenerateTarget(original_input, batch,  clusterCNN_output):\n",
        "  '''\n",
        "  NOTE: might need to modify some code if batch_size > 1\n",
        "  step A: draw superpixels on original image\n",
        "  step B: apply superpixels on model_output to \"segment\" different parts\n",
        "  step C: copy a zero tensor as model_output \n",
        "  step D: for each superpixel/part:\n",
        "            find the mode in that part,\n",
        "            fill the mode all over that part\n",
        "          generate the tensor filled in the modes\n",
        "  step E: now have the pesudolabel out of the superpixels and cluster CNN\n",
        "  @params: \n",
        "  original_input: original image [B, C=1/FLAIR, H, W, Slice] \n",
        "  clusterCNN_output: pred from clustering CNN in [B, Cluster, Slice, H, W]\n",
        "  @output: \n",
        "  [B, H, W, Slice, C=1] \n",
        "  '''\n",
        "  ## STEP A\n",
        "  original_input2 = original_input/255 # size of [B, C, Slice, H, W]\n",
        "  input_super = slic(original_input2[batch,0,...].detach().cpu().numpy(), multichannel=False, convert2lab=True,n_segments=500, sigma=1, enforce_connectivity=False, compactness=0.0001) # 64, 64, 32\n",
        "  \n",
        "  ## STEP B\n",
        "  input_super_tensor = torch.from_numpy(input_super)\n",
        "  input_super_onehot = F.one_hot(input_super_tensor, num_classes = -1)\n",
        "  num_superpixel = input_super_onehot.size(3)\n",
        "\n",
        "  ## STEP C\n",
        "  temp = torch.clone(input_super_onehot) # [H, W, Slice, Num_superclass]\n",
        "\n",
        "  ## STEP D\n",
        "  clusterCNN_output_argmax = torch.argmax(clusterCNN_output,dim=1,keepdim= True)+1 #+1 in order to find mode, no mess up with other meaning of 0(one hot encoding og label)\n",
        "\n",
        "  for i in range(num_superpixel):\n",
        "    plus = torch.mul(clusterCNN_output_argmax.to('cuda'),input_super_onehot[...,i].to('cuda'))\n",
        "    plus2 = torch.reshape(plus, (-1,))\n",
        "    mode_i, _ = torch.mode(plus2[plus2!=0])\n",
        "    mode_i3 = mode_i.long()\n",
        "    temp[...,i][temp[...,i]!=0] = mode_i3-1 # delete the 1 which we add before\n",
        "  pesudolabel = torch.sum(temp, dim=3, keepdim=True) # [64, 64, 32, 1]\n",
        "  return pesudolabel"
      ],
      "metadata": {
        "id": "uOqt2cUceGla"
      },
      "execution_count": null,
      "outputs": []
    },
    {
      "cell_type": "code",
      "source": [
        "from collections import defaultdict\n",
        "\n",
        "def dice_score_image(pesudo, truelabel):\n",
        "  '''\n",
        "    computer the mean dice score for every class in a single image\n",
        "\n",
        "    Args:\n",
        "        pesudo(tensor): predictied labels of the image, [H, W, Slice, C=1] (before one hot)\n",
        "        truelabel (tensor): ground truth of the image [B, C=1, H, W, Slice] when choosing C=0, it is the whole tumor we want\n",
        "  \n",
        "    Returns:\n",
        "        one_score_list: dict {index of class(int): dice score for that class (float)}(for one image)\n",
        "  '''\n",
        "\n",
        "  pesudo_onehot = F.one_hot(pesudo, num_classes=6) #[H, W, Slice, 1, C=24]; output has 6 channels/masks\n",
        "  class6 = pesudo_onehot.size(4) \n",
        "  \n",
        "  pesudo2_onehot = torch.permute(pesudo_onehot, (3,0,1,2,4)) #[B, H,W,Slice,Class=24]\n",
        "  truelabel2 = torch.permute(truelabel,(0,2,3,4,1)) \n",
        "  truelabel_flat = truelabel2[0,...].contiguous().view(-1) #chose whole tumor\n",
        "\n",
        "  one_score_list = defaultdict()\n",
        "  for i in range(class6):\n",
        "    pesudo_i_flat = pesudo2_onehot[0,...,i].contiguous().view(-1)\n",
        "    TP_i = ((pesudo_i_flat == 1) * (truelabel_flat == 1)).sum().item()\n",
        "    FP_i = ((pesudo_i_flat == 1) * (truelabel_flat != 1)).sum().item()\n",
        "    FN_i = ((pesudo_i_flat != 1) * (truelabel_flat == 1)).sum().item()\n",
        "    cal = (2 * TP_i) / (2 * TP_i + FP_i + FN_i)\n",
        "    one_score_list[i] = cal \n",
        "\n",
        "  return one_score_list"
      ],
      "metadata": {
        "id": "qtOiwB7Y3ihw"
      },
      "execution_count": null,
      "outputs": []
    },
    {
      "cell_type": "code",
      "source": [
        "model = torch.load('/content/clusteringCNN-flair0503.pt')\n",
        "model.eval()"
      ],
      "metadata": {
        "id": "UkKkr_aweJDE",
        "colab": {
          "base_uri": "https://localhost:8080/"
        },
        "outputId": "e277344b-7249-4847-f23e-8077580fbd17"
      },
      "execution_count": null,
      "outputs": [
        {
          "output_type": "execute_result",
          "data": {
            "text/plain": [
              "clusteringCNN(\n",
              "  (layer1): Conv3d(1, 100, kernel_size=(3, 3, 3), stride=(1, 1, 1), padding=(1, 1, 1))\n",
              "  (bn1): InstanceNorm3d(100, eps=1e-05, momentum=0.1, affine=False, track_running_stats=False)\n",
              "  (layer2): Conv3d(100, 100, kernel_size=(3, 3, 3), stride=(1, 1, 1), padding=(1, 1, 1))\n",
              "  (bn2): InstanceNorm3d(100, eps=1e-05, momentum=0.1, affine=False, track_running_stats=False)\n",
              "  (layer3): Conv3d(100, 6, kernel_size=(3, 3, 3), stride=(1, 1, 1), padding=(1, 1, 1))\n",
              "  (bn3): InstanceNorm3d(6, eps=1e-05, momentum=0.1, affine=False, track_running_stats=False)\n",
              ")"
            ]
          },
          "metadata": {},
          "execution_count": 106
        }
      ]
    },
    {
      "cell_type": "markdown",
      "source": [
        "# Get Masks"
      ],
      "metadata": {
        "id": "Myhy7X_9eNMb"
      }
    },
    {
      "cell_type": "code",
      "source": [
        "# output of dice_score_image\n",
        "# dict \n",
        "# key: index of class(int) [from 0 to 23]\n",
        "# value: dice score in that index\n",
        "from torch.autograd import Variable\n",
        "\n",
        "for i,single in enumerate(train_loader):\n",
        "  if i < 5:\n",
        "    pred = model(Variable(single['img'].cuda(), requires_grad=True))\n",
        "    pesudolabel = GenerateTarget(single['img'], 0, pred)\n",
        "    batch = 0\n",
        "    a = dice_score_image(pesudolabel,single['seg'])\n",
        "    a = sorted(a,reverse=True)\n",
        "    print(dice_score_image(pesudolabel,single['seg']))\n",
        "    print(\"-------NEW IMAGE---------------\")\n",
        "  else:\n",
        "    break"
      ],
      "metadata": {
        "id": "N2PieW1M57Pm",
        "colab": {
          "base_uri": "https://localhost:8080/"
        },
        "outputId": "b8c1228d-4ed7-43b0-b1fa-22caf4f78c32"
      },
      "execution_count": null,
      "outputs": [
        {
          "output_type": "stream",
          "name": "stdout",
          "text": [
            "defaultdict(None, {0: 0.1294245663444921, 1: 0.0, 2: 0.0, 3: 0.5574402467232074, 4: 0.005521928427312308, 5: 0.0})\n",
            "-------NEW IMAGE---------------\n",
            "defaultdict(None, {0: 0.24375829212398986, 1: 0.004589585172109444, 2: 0.0, 3: 0.39481865284974094, 4: 0.05265109380793474, 5: 0.0})\n",
            "-------NEW IMAGE---------------\n",
            "defaultdict(None, {0: 0.11187812425612949, 1: 0.0, 2: 0.0, 3: 0.6533551554828151, 4: 0.013856362217017954, 5: 0.0})\n",
            "-------NEW IMAGE---------------\n",
            "defaultdict(None, {0: 0.0378792448277942, 1: 0.0, 2: 0.0, 3: 0.0, 4: 0.00243605359317905, 5: 0.0})\n",
            "-------NEW IMAGE---------------\n",
            "defaultdict(None, {0: 0.062192589354027765, 1: 0.0009732360097323601, 2: 0.0, 3: 0.520471894517696, 4: 0.00019297568506368199, 5: 0.0})\n",
            "-------NEW IMAGE---------------\n"
          ]
        }
      ]
    },
    {
      "cell_type": "code",
      "source": [
        "# test Dice score in one target (corresponding to the first dict)\n",
        "# defaultdict(None, {0: 0.0, 1: 0.0, 2: 0.0, 3: 0.0, 4: 0.0, 5: 0.0, 6: 0.0, 7: 0.0, 8: 0.0, 9: 0.010606703436571913, 10: 0.0, 11: 0.49771487542385373, 12: 0.0, 13: 0.0, 14: 0.0, 15: 0.0, 16: 0.007695060844667144, 17: 0.0, 18: 0.0, 19: 0.0, 20: 0.0, 21: 0.0, 22: 0.0, 23: 0.0011757789535567313, 24: 0.0})\n",
        "\n",
        "first = monai.utils.misc.first(train_loader)\n",
        "pred = model(Variable(first['img'].cuda(), requires_grad=True))\n",
        "pesudolabel = GenerateTarget(first['img'], 0, pred)\n",
        "batch = 0\n",
        "\n",
        "pesudo_onehot = F.one_hot(pesudolabel, num_classes=-1)\n",
        "\n",
        "plt.subplots(2,4,figsize=(32,10))\n",
        "plt.subplot(2,4, 1);plt.imshow(first['img'].detach().cpu().numpy()[batch,0,...,16]);plt.title(\"original image\")\n",
        "plt.subplot(2,4, 2);plt.imshow(first['seg'].detach().cpu().numpy()[batch,0,...,16]);plt.title(\"original label(WT)\")\n",
        "plt.subplot(2,4, 3);plt.imshow(pesudolabel[...,16,0]);plt.title(\"generated target from clustering CNN and superpixel\")\n",
        "plt.subplot(2,4,4);plt.imshow(pred[batch,0,...,16].cpu().detach().numpy());plt.title(\"result from clustering CNN\")\n",
        "plt.subplot(2,4, 5);plt.imshow(pesudo_onehot[...,16,0,3].detach().cpu().numpy());plt.title(\"1st dice score mask\")\n",
        "plt.subplot(2,4, 6);plt.imshow(pesudo_onehot[...,16,0,0].detach().cpu().numpy());plt.title(\"2nd dice score mask\")\n",
        "plt.subplot(2,4, 7);plt.imshow(pesudo_onehot[...,16,0,4].detach().cpu().numpy());plt.title(\"3rd dice score mask\")\n",
        "plt.subplot(2,4,8);plt.imshow(pesudo_onehot[...,16,0,1].cpu().detach().numpy());plt.title(\"4th dice score mask\")\n",
        "plt.colorbar()"
      ],
      "metadata": {
        "colab": {
          "base_uri": "https://localhost:8080/",
          "height": 540
        },
        "id": "1kw7hDpAfGAl",
        "outputId": "e03c7b45-49c1-4365-e76b-42849ffa7273"
      },
      "execution_count": null,
      "outputs": [
        {
          "output_type": "execute_result",
          "data": {
            "text/plain": [
              "<matplotlib.colorbar.Colorbar at 0x7f128334f650>"
            ]
          },
          "metadata": {},
          "execution_count": 30
        },
        {
          "output_type": "display_data",
          "data": {
            "image/png": "[encoded data removed]",
            "text/plain": [
              "<Figure size 2304x720 with 9 Axes>"
            ]
          },
          "metadata": {
            "needs_background": "light"
          }
        }
      ]
    },
    {
      "cell_type": "markdown",
      "source": [
        "# DICE score for all"
      ],
      "metadata": {
        "id": "YdT7_FokFcgN"
      }
    },
    {
      "cell_type": "code",
      "source": [
        "def dice_score_all(data_loader):\n",
        "  all_score_list = {}\n",
        "  for i,single in enumerate(data_loader):\n",
        "    pred_i = model(Variable(single['img'].cuda(), requires_grad = True))\n",
        "    pesudo_i = GenerateTarget(single['img'], 0, pred_i)\n",
        "    truelabel_i = single['seg']\n",
        "    one_image_score = dice_score_image(pesudo_i,truelabel_i)\n",
        "    all_score_list[i] = one_image_score\n",
        "    print('now processing the', i, 'th image')\n",
        "  return all_score_list"
      ],
      "metadata": {
        "id": "wSwBVKBzFewm"
      },
      "execution_count": null,
      "outputs": []
    },
    {
      "cell_type": "code",
      "source": [
        "data_dictionary = dice_score_all(train_loader)"
      ],
      "metadata": {
        "id": "YfkWFOPYFja-",
        "colab": {
          "base_uri": "https://localhost:8080/"
        },
        "outputId": "78095a80-226c-4445-919b-1e36153aa30c"
      },
      "execution_count": null,
      "outputs": [
        {
          "output_type": "stream",
          "name": "stdout",
          "text": [
            "now processing the 0 th image\n",
            "now processing the 1 th image\n",
            "now processing the 2 th image\n",
            "now processing the 3 th image\n",
            "now processing the 4 th image\n",
            "now processing the 5 th image\n",
            "now processing the 6 th image\n",
            "now processing the 7 th image\n",
            "now processing the 8 th image\n",
            "now processing the 9 th image\n",
            "now processing the 10 th image\n",
            "now processing the 11 th image\n",
            "now processing the 12 th image\n",
            "now processing the 13 th image\n",
            "now processing the 14 th image\n",
            "now processing the 15 th image\n",
            "now processing the 16 th image\n",
            "now processing the 17 th image\n",
            "now processing the 18 th image\n",
            "now processing the 19 th image\n",
            "now processing the 20 th image\n",
            "now processing the 21 th image\n",
            "now processing the 22 th image\n",
            "now processing the 23 th image\n",
            "now processing the 24 th image\n",
            "now processing the 25 th image\n",
            "now processing the 26 th image\n",
            "now processing the 27 th image\n",
            "now processing the 28 th image\n",
            "now processing the 29 th image\n",
            "now processing the 30 th image\n",
            "now processing the 31 th image\n",
            "now processing the 32 th image\n",
            "now processing the 33 th image\n",
            "now processing the 34 th image\n",
            "now processing the 35 th image\n",
            "now processing the 36 th image\n",
            "now processing the 37 th image\n",
            "now processing the 38 th image\n",
            "now processing the 39 th image\n",
            "now processing the 40 th image\n",
            "now processing the 41 th image\n",
            "now processing the 42 th image\n",
            "now processing the 43 th image\n",
            "now processing the 44 th image\n",
            "now processing the 45 th image\n",
            "now processing the 46 th image\n",
            "now processing the 47 th image\n",
            "now processing the 48 th image\n",
            "now processing the 49 th image\n",
            "now processing the 50 th image\n",
            "now processing the 51 th image\n",
            "now processing the 52 th image\n",
            "now processing the 53 th image\n",
            "now processing the 54 th image\n",
            "now processing the 55 th image\n",
            "now processing the 56 th image\n",
            "now processing the 57 th image\n",
            "now processing the 58 th image\n",
            "now processing the 59 th image\n"
          ]
        }
      ]
    },
    {
      "cell_type": "code",
      "source": [
        "data_dictionary"
      ],
      "metadata": {
        "id": "M2OdP9A7Fp2q"
      },
      "execution_count": null,
      "outputs": []
    },
    {
      "cell_type": "markdown",
      "source": [
        "By now just by eyeballing one should be able to tell the channel with highest score is the correct masks aka target"
      ],
      "metadata": {
        "id": "nS9-TsYOrXXC"
      }
    },
    {
      "cell_type": "code",
      "source": [
        "# memory footprint support libraries/code\n",
        "!ln -sf /opt/bin/nvidia-smi /usr/bin/nvidia-smi\n",
        "!pip install gputil\n",
        "!pip install psutil\n",
        "!pip install humanize\n",
        "import psutil\n",
        "import humanize\n",
        "import os\n",
        "import GPUtil as GPU\n",
        "GPUs = GPU.getGPUs()\n",
        "# XXX: only one GPU on Colab and isn’t guaranteed\n",
        "gpu = GPUs[0]\n",
        "def printm():\n",
        " process = psutil.Process(os.getpid())\n",
        " print(\"Gen RAM Free: \" + humanize.naturalsize( psutil.virtual_memory().available ), \" | Proc size: \" + humanize.naturalsize( process.memory_info().rss))\n",
        " print(\"GPU RAM Free: {0:.0f}MB | Used: {1:.0f}MB | Util {2:3.0f}% | Total {3:.0f}MB\".format(gpu.memoryFree, gpu.memoryUsed, gpu.memoryUtil*100, gpu.memoryTotal))\n",
        "printm()"
      ],
      "metadata": {
        "colab": {
          "base_uri": "https://localhost:8080/"
        },
        "id": "43UpWLijElvL",
        "outputId": "a2a99302-beb2-4b0d-8cf8-4f6780f398b8"
      },
      "execution_count": null,
      "outputs": [
        {
          "output_type": "stream",
          "name": "stdout",
          "text": [
            "Requirement already satisfied: gputil in /usr/local/lib/python3.7/dist-packages (1.4.0)\n",
            "Requirement already satisfied: psutil in /usr/local/lib/python3.7/dist-packages (5.4.8)\n",
            "Requirement already satisfied: humanize in /usr/local/lib/python3.7/dist-packages (0.5.1)\n",
            "Gen RAM Free: 4.1 GB  | Proc size: 3.8 GB\n",
            "GPU RAM Free: 10062MB | Used: 5047MB | Util  33% | Total 15109MB\n"
          ]
        }
      ]
    },
    {
      "cell_type": "markdown",
      "source": [
        "#RL"
      ],
      "metadata": {
        "id": "gjRefwrS6jOx"
      }
    },
    {
      "cell_type": "code",
      "source": [
        "import typing\n",
        "\n",
        "import torch\n",
        "from torch import nn\n",
        "\n",
        "\n",
        "DQNet = nn.Module\n",
        "\n",
        "\n",
        "class LambdaLayer(nn.Module):\n",
        "    \n",
        "    def __init__(self, f):\n",
        "        super().__init__()\n",
        "        self._f = f\n",
        "        \n",
        "    def forward(self, X):\n",
        "        return self._f(X)\n",
        "\n",
        "\n",
        "def make_deep_q_network_fn(action_size: int) -> typing.Callable[[], DQNet]:\n",
        "    \n",
        "    def deep_q_network_fn() -> DQNet:\n",
        "        q_network = nn.Sequential(\n",
        "            nn.Conv3d(in_channels=2, out_channels=32, kernel_size=8, stride=4),\n",
        "            nn.ReLU(),\n",
        "            nn.Conv3d(in_channels=32, out_channels=64, kernel_size=4, stride=2),\n",
        "            nn.ReLU(),\n",
        "            nn.Conv3d(in_channels=64, out_channels=64, kernel_size=2, stride=1),\n",
        "            nn.ReLU(),\n",
        "            LambdaLayer(lambda tensor: tensor.view(tensor.size(0), -1)),\n",
        "            nn.Linear(in_features=1600, out_features=512),\n",
        "            nn.ReLU(),\n",
        "            nn.Linear(in_features=512, out_features=action_size)\n",
        "        )\n",
        "        return q_network\n",
        "    \n",
        "    return deep_q_network_fn"
      ],
      "metadata": {
        "id": "11Kwfe9y7sQF"
      },
      "execution_count": null,
      "outputs": []
    },
    {
      "cell_type": "code",
      "source": [
        "import collections\n",
        "import typing\n",
        "\n",
        "\n",
        "_field_names = [\n",
        "    \"episode_no\",\n",
        "    \"action\",\n",
        "    \"reward\",\n",
        "    \"state\"\n",
        "]\n",
        "Experience = collections.namedtuple(\"Experience\", field_names=_field_names)\n",
        "\n",
        "\n",
        "class ExperienceReplayBuffer:\n",
        "    \"\"\"Fixed-size buffer to store experience tuples.\"\"\"\n",
        "\n",
        "    def __init__(self,\n",
        "                 batch_size: int,\n",
        "                 buffer_size: int = None,\n",
        "                 random_state: np.random.RandomState = None) -> None:\n",
        "        \"\"\"\n",
        "        Initialize an ExperienceReplayBuffer object.\n",
        "\n",
        "        Parameters:\n",
        "        -----------\n",
        "        buffer_size (int): maximum size of buffer\n",
        "        batch_size (int): size of each training batch\n",
        "        seed (int): random seed\n",
        "        \n",
        "        \"\"\"\n",
        "        self._batch_size = batch_size\n",
        "        self._buffer_size = buffer_size\n",
        "        self._buffer = collections.deque(maxlen=buffer_size)\n",
        "        self._random_state = np.random.RandomState() if random_state is None else random_state\n",
        "        \n",
        "    def __len__(self) -> int:\n",
        "        return len(self._buffer)\n",
        "    \n",
        "    @property\n",
        "    def batch_size(self) -> int:\n",
        "        return self._batch_size\n",
        "    \n",
        "    @property\n",
        "    def buffer_size(self) -> int:\n",
        "        return self._buffer_size\n",
        "\n",
        "    def is_full(self) -> bool:\n",
        "        return len(self._buffer) == self._buffer_size\n",
        "    \n",
        "    def append(self, experience: Experience) -> None:\n",
        "        \"\"\"Add a new experience to memory.\"\"\"\n",
        "        self._buffer.append(experience)\n",
        "    \n",
        "    def sample(self) -> typing.List[Experience]:\n",
        "        \"\"\"Randomly sample a batch of experiences from memory.\"\"\"\n",
        "        idxs = self._random_state.randint(len(self._buffer), size=self._batch_size)\n",
        "        experiences = [self._buffer[idx] for idx in idxs]\n",
        "        return experiences\n"
      ],
      "metadata": {
        "id": "B9YGpkJ1FR4m"
      },
      "execution_count": null,
      "outputs": []
    },
    {
      "cell_type": "code",
      "source": [
        "import random, math\n",
        "def select_learning_rate(x):\n",
        "    return max(min_learning_rate, min(1.0, 1.0 - math.log10((x+1)/6)))\n",
        "\n",
        "# change the exploration rate over time.\n",
        "def select_explore_rate(x):\n",
        "    return max(min_explore_rate, min(1.0, 1.0 - math.log10((x+1)/6)))\n",
        "\n",
        "# NOT USED by DQN\n",
        "def select_action(state_value, explore_rate, model): \n",
        "    if random.random() < explore_rate:\n",
        "        action = np.random.choice(action_sapce) # explore\n",
        "    else: \n",
        "      action = np.argmax(q_value_table[state_value])# exploit\n",
        "    return action\n",
        "\n",
        "def get_reward(a, t, prev):\n",
        "  if prev ==  t and a == t :\n",
        "    return 5\n",
        "  elif prev !=t and a != prev:\n",
        "    return 0\n",
        "  else:\n",
        "    return -1\n",
        "\n",
        "def get_image(model, grayscale_img,episode_no,prev_state: torch.long) -> torch.Tensor:\n",
        "  mask = model(grayscale_img)[:,prev_state:prev_state+1,...]\n",
        "  return torch.cat((grayscale_img, mask), dim=1)"
      ],
      "metadata": {
        "id": "CrfMl-sQ9q-r"
      },
      "execution_count": null,
      "outputs": []
    },
    {
      "cell_type": "code",
      "source": [
        "# initialization\n",
        "all_actions = 6    # suppose to be 6 classes\n",
        "all_states = 6\n",
        "action_sapce = np.arange(all_actions)\n",
        "q_value_table = np.zeros((all_states,all_actions))\n",
        "total_iter = 0\n",
        "reward_over_eps = []\n",
        "reward_step_history = 0\n",
        "device = torch.device(\"cuda\") \n",
        "\n",
        "# user-defined parameters\n",
        "min_explore_rate = 0.001; min_learning_rate = 0.1;\n",
        "max_steps=200; num_of_images = 1; max_episodes = num_of_images *max_steps;\n",
        "discount = 0.99\n",
        "batch_size = 1\n",
        "learning_rate = 1e-3\n",
        "\n",
        "# initialize DQN & buffer\n",
        "Qmodel = make_deep_q_network_fn(all_actions)\n",
        "Qmodel = Qmodel().to(device)\n",
        "Qmodel.train()\n",
        "optimizer = optim.SGD(Qmodel.parameters(), lr = learning_rate, momentum = 0.9)\n",
        "memory = ExperienceReplayBuffer(batch_size, buffer_size=1000)\n",
        "\n",
        "# train the system\n",
        "for episode_no,batch in enumerate(train_loader):\n",
        "    prev_state = 1\n",
        "    learning_rate = select_learning_rate(episode_no)\n",
        "    explore_rate = select_explore_rate(episode_no)\n",
        "    ep_reward = 0\n",
        "    for _ in range(max_steps): # the agent was allowed to sample for 20 steps acc. to paper\n",
        "        # select action using epsilon-greedy policy\n",
        "        if random.random() < explore_rate:\n",
        "          # explore\n",
        "            action = np.random.choice(action_sapce)\n",
        "        else: \n",
        "          # exploit\n",
        "          with torch.no_grad():\n",
        "            image= get_image(model, batch['img'].to(device), episode_no, prev_state)\n",
        "            pred_q_values = Qmodel(image).detach().cpu()\n",
        "            action = np.argmax(pred_q_values).item()\n",
        "\n",
        "\n",
        "        # record new observations\n",
        "        target = max(data_dictionary[episode_no], key=data_dictionary[episode_no].get)\n",
        "        state, reward_gain= action, get_reward(action, target, prev_state)\n",
        "\n",
        "        ep_reward += reward_gain\n",
        "\n",
        "        # Store data into memory\n",
        "        experience = (episode_no, action, reward_gain, prev_state)\n",
        "        memory.append(experience)\n",
        "\n",
        "        # # update q_value_table\n",
        "        # best_q = max(q_value_table[state])\n",
        "        # sample = reward_gain + discount * best_q\n",
        "        # q_value_table[prev_state][action] += learning_rate * (sample - q_value_table[prev_state][action])\n",
        "\n",
        "        # update DQN\n",
        "        if total_iter > 100:\n",
        "          #TODO sample data with batch_size from memory\n",
        "            experience = memory.sample()[0]\n",
        "            eps_no, current_action, reward_gain, prev_state = experience\n",
        "            image = get_image(model, batch['img'].to(device), eps_no, prev_state)\n",
        "\n",
        "            QmodelOut = Qmodel(Variable(image, requires_grad=True))\n",
        "            expected_q_values = QmodelOut[0][prev_state]\n",
        "\n",
        "            # calculate target_q by calculating the optimal Q of the next state-action\n",
        "            optm_q = max(QmodelOut[0])\n",
        "            target_q = reward_gain + discount * optm_q\n",
        "\n",
        "            # compute the mean squared loss\n",
        "            # print(expected_q_values.item(), target_q.item())\n",
        "            loss = F.mse_loss(expected_q_values, target_q)\n",
        "            # print(loss.item())\n",
        "            optimizer.zero_grad()\n",
        "            loss.backward()\n",
        "            optimizer.step()\n",
        "        else:\n",
        "            total_iter += 1\n",
        "\n",
        "        prev_state = state        \n",
        "    reward_over_eps.append(ep_reward)\n",
        "    print(ep_reward, QmodelOut)\n",
        "    if episode_no  == 25: # early stopping to avoid NaN\n",
        "      break"
      ],
      "metadata": {
        "id": "5vw6mDLr6lbd",
        "colab": {
          "base_uri": "https://localhost:8080/"
        },
        "outputId": "d09a6624-4a2e-4f8d-b86a-b179ee4a5c15"
      },
      "execution_count": null,
      "outputs": [
        {
          "output_type": "stream",
          "name": "stdout",
          "text": [
            "-29 tensor([[-0.0177,  0.0092,  0.1533, -0.0006, -0.0221, -0.0790]],\n",
            "       device='cuda:0', grad_fn=<AddmmBackward0>)\n",
            "-24 tensor([[-0.0260,  0.0212,  0.0848, -0.0050, -0.0474,  0.0003]],\n",
            "       device='cuda:0', grad_fn=<AddmmBackward0>)\n",
            "-24 tensor([[-0.0520,  0.0396,  0.1246, -0.0418, -0.0629,  0.0182]],\n",
            "       device='cuda:0', grad_fn=<AddmmBackward0>)\n",
            "-42 tensor([[-0.0281,  0.0082,  0.0976, -0.0192, -0.0399,  0.0029]],\n",
            "       device='cuda:0', grad_fn=<AddmmBackward0>)\n",
            "-33 tensor([[-0.1236, -0.0093,  0.2247, -0.0699,  0.0053, -0.0076]],\n",
            "       device='cuda:0', grad_fn=<AddmmBackward0>)\n",
            "-11 tensor([[-0.0313,  0.0002,  0.0950, -0.0446,  0.0026,  0.0095]],\n",
            "       device='cuda:0', grad_fn=<AddmmBackward0>)\n",
            "10 tensor([[-0.0853,  0.0080,  0.0998, -0.0202,  0.0007,  0.0211]],\n",
            "       device='cuda:0', grad_fn=<AddmmBackward0>)\n",
            "29 tensor([[-0.0899,  0.0145,  0.1235,  0.0010,  0.0016, -0.0309]],\n",
            "       device='cuda:0', grad_fn=<AddmmBackward0>)\n",
            "68 tensor([[-0.0630, -0.0692,  0.2159, -0.0507, -0.0123,  0.0249]],\n",
            "       device='cuda:0', grad_fn=<AddmmBackward0>)\n",
            "53 tensor([[-0.0855, -0.0166,  0.1075,  0.0036,  0.0103,  0.0296]],\n",
            "       device='cuda:0', grad_fn=<AddmmBackward0>)\n",
            "127 tensor([[-0.0381,  0.0013,  0.1162, -0.0391, -0.0157,  0.0260]],\n",
            "       device='cuda:0', grad_fn=<AddmmBackward0>)\n",
            "152 tensor([[-0.0520,  0.0153,  0.1239, -0.0129, -0.0266,  0.0247]],\n",
            "       device='cuda:0', grad_fn=<AddmmBackward0>)\n",
            "159 tensor([[-0.0386,  0.0068,  0.0856,  0.0223, -0.0143,  0.0461]],\n",
            "       device='cuda:0', grad_fn=<AddmmBackward0>)\n",
            "128 tensor([[-0.0270, -0.0381,  0.1889,  0.0289,  0.0099, -0.0295]],\n",
            "       device='cuda:0', grad_fn=<AddmmBackward0>)\n",
            "182 tensor([[-0.0630, -0.0204,  0.2035,  0.0483,  0.0307, -0.0128]],\n",
            "       device='cuda:0', grad_fn=<AddmmBackward0>)\n",
            "202 tensor([[-0.0559,  0.0037,  0.2117,  0.0623,  0.0180, -0.0136]],\n",
            "       device='cuda:0', grad_fn=<AddmmBackward0>)\n",
            "220 tensor([[-0.0333, -0.0102,  0.1484,  0.0898,  0.0353,  0.0339]],\n",
            "       device='cuda:0', grad_fn=<AddmmBackward0>)\n",
            "259 tensor([[-0.0548, -0.0037,  0.1354,  0.1051,  0.0367,  0.0753]],\n",
            "       device='cuda:0', grad_fn=<AddmmBackward0>)\n",
            "427 tensor([[-0.0027, -0.0111,  0.1683,  0.1154,  0.0491,  0.0419]],\n",
            "       device='cuda:0', grad_fn=<AddmmBackward0>)\n",
            "269 tensor([[0.0199, 0.0170, 0.1676, 0.0850, 0.0541, 0.0668]], device='cuda:0',\n",
            "       grad_fn=<AddmmBackward0>)\n",
            "341 tensor([[0.0730, 0.0028, 0.2399, 0.0936, 0.0664, 0.0671]], device='cuda:0',\n",
            "       grad_fn=<AddmmBackward0>)\n",
            "355 tensor([[0.0867, 0.0949, 0.4209, 0.1579, 0.0988, 0.0485]], device='cuda:0',\n",
            "       grad_fn=<AddmmBackward0>)\n",
            "406 tensor([[0.1523, 0.0495, 0.2733, 0.1356, 0.0540, 0.1312]], device='cuda:0',\n",
            "       grad_fn=<AddmmBackward0>)\n",
            "221 tensor([[0.1393, 0.0973, 0.2352, 0.1057, 0.0646, 0.1358]], device='cuda:0',\n",
            "       grad_fn=<AddmmBackward0>)\n",
            "473 tensor([[0.1777, 0.0707, 0.3396, 0.0828, 0.0955, 0.1192]], device='cuda:0',\n",
            "       grad_fn=<AddmmBackward0>)\n",
            "415 tensor([[0.1637, 0.1321, 0.2304, 0.1260, 0.1002, 0.1949]], device='cuda:0',\n",
            "       grad_fn=<AddmmBackward0>)\n"
          ]
        }
      ]
    },
    {
      "cell_type": "markdown",
      "source": [
        "## cumulative reward vs eposoid"
      ],
      "metadata": {
        "id": "QCvAupN3RCdF"
      }
    },
    {
      "cell_type": "code",
      "source": [
        "\n",
        "plt.plot(range(len(reward_over_eps)), reward_over_eps)"
      ],
      "metadata": {
        "colab": {
          "base_uri": "https://localhost:8080/",
          "height": 282
        },
        "id": "A5MeqaPnehQ7",
        "outputId": "48cd38ab-d75b-4b14-b357-106f99a89a9b"
      },
      "execution_count": null,
      "outputs": [
        {
          "output_type": "execute_result",
          "data": {
            "text/plain": [
              "[<matplotlib.lines.Line2D at 0x7fa8d9edbc50>]"
            ]
          },
          "metadata": {},
          "execution_count": 183
        },
        {
          "output_type": "display_data",
          "data": {
            "image/png": "[encoded data removed]",
            "text/plain": [
              "<Figure size 432x288 with 1 Axes>"
            ]
          },
          "metadata": {
            "needs_background": "light"
          }
        }
      ]
    },
    {
      "cell_type": "markdown",
      "source": [
        "### check prediction of Qmodel"
      ],
      "metadata": {
        "id": "GPABerrjRbSj"
      }
    },
    {
      "cell_type": "code",
      "source": [
        "for episode_no,batch in enumerate(test_loader):\n",
        "    L = []\n",
        "    for i in range(6):\n",
        "        image= get_image(model, batch['img'].to(device), episode_no, i)\n",
        "        pred_q_values = Qmodel(image).detach().cpu()\n",
        "\n",
        "        action = np.argmax(pred_q_values).item()\n",
        "        L.append(action)\n",
        "    target = max(data_dictionary[episode_no], key=data_dictionary[episode_no].get)\n",
        "    print(L, target)"
      ],
      "metadata": {
        "colab": {
          "base_uri": "https://localhost:8080/"
        },
        "id": "9vuRb-iFnuwO",
        "outputId": "439c8837-b640-4b51-9f78-f0ae096897d0"
      },
      "execution_count": null,
      "outputs": [
        {
          "output_type": "stream",
          "name": "stdout",
          "text": [
            "[2, 2, 2, 2, 2, 2] 2\n",
            "[2, 2, 2, 2, 2, 2] 2\n",
            "[2, 2, 2, 2, 2, 2] 2\n",
            "[2, 2, 2, 2, 2, 2] 2\n",
            "[2, 2, 2, 2, 2, 2] 2\n",
            "[2, 2, 2, 2, 2, 2] 2\n",
            "[2, 2, 2, 2, 2, 2] 2\n",
            "[2, 2, 2, 2, 2, 2] 2\n",
            "[2, 2, 2, 2, 2, 2] 2\n",
            "[2, 2, 2, 2, 2, 2] 2\n",
            "[2, 2, 2, 2, 2, 2] 2\n",
            "[2, 2, 2, 2, 2, 2] 2\n",
            "[2, 2, 2, 2, 2, 2] 2\n",
            "[2, 2, 2, 2, 2, 2] 2\n",
            "[2, 2, 2, 2, 2, 2] 2\n",
            "[2, 2, 2, 2, 2, 2] 2\n",
            "[2, 2, 2, 2, 2, 2] 2\n",
            "[2, 2, 2, 2, 2, 2] 2\n",
            "[2, 2, 2, 2, 2, 2] 2\n",
            "[2, 2, 2, 2, 2, 2] 2\n"
          ]
        }
      ]
    },
    {
      "cell_type": "markdown",
      "source": [
        "# test dice score"
      ],
      "metadata": {
        "id": "ZGnBVlA3PjTg"
      }
    },
    {
      "cell_type": "code",
      "source": [
        "def dice_score_all(data_loader):\n",
        "  all_score_list = {}\n",
        "  for i,single in enumerate(data_loader):\n",
        "    pred_i = model(Variable(single['img'].cuda(), requires_grad = False))\n",
        "    pesudo_i = GenerateTarget(single['img'], 0, pred_i)\n",
        "    truelabel_i = single['seg']\n",
        "    one_image_score = dice_score_image(pesudo_i,truelabel_i)\n",
        "    all_score_list[i] = one_image_score\n",
        "    print('now processing the', i, 'th image')\n",
        "  return all_score_list\n",
        "\n",
        "test_data_dictionary = dice_score_all(test_loader)\n",
        "\n",
        "# torch.save(Qmodel,'/content/Qmodel_data100.pt') \n",
        "L2 = np.zeros(len(test_loader),)\n",
        "for episode_no,batch in enumerate(test_loader):\n",
        "    L=[]\n",
        "    for i in range(6):\n",
        "        image= get_image(model, batch['img'].to(device), episode_no, i)\n",
        "        pred_q_values = Qmodel(image).detach().cpu()\n",
        "        action = np.argmax(pred_q_values).item()\n",
        "        L.append(action)\n",
        "    pred = 2 # supposed-implementationw/ for loop: pred = idx if idx == L[idx]\n",
        "    dice_score_per_channel_per_image = test_data_dictionary[episode_no][pred]\n",
        "    L2[episode_no] = dice_score_per_channel_per_image\n",
        "print('avg dice score of test set:',L2.mean())"
      ],
      "metadata": {
        "colab": {
          "base_uri": "https://localhost:8080/"
        },
        "id": "mP-ODI26JZru",
        "outputId": "1702f738-86b0-442c-8e92-6a0f49876eb7"
      },
      "execution_count": null,
      "outputs": [
        {
          "output_type": "stream",
          "name": "stdout",
          "text": [
            "now processing the 0 th image\n",
            "now processing the 1 th image\n",
            "now processing the 2 th image\n",
            "now processing the 3 th image\n",
            "now processing the 4 th image\n",
            "now processing the 5 th image\n",
            "now processing the 6 th image\n",
            "now processing the 7 th image\n",
            "now processing the 8 th image\n",
            "now processing the 9 th image\n",
            "now processing the 10 th image\n",
            "now processing the 11 th image\n",
            "now processing the 12 th image\n",
            "now processing the 13 th image\n",
            "now processing the 14 th image\n",
            "now processing the 15 th image\n",
            "now processing the 16 th image\n",
            "now processing the 17 th image\n",
            "now processing the 18 th image\n",
            "now processing the 19 th image\n",
            "avg dice score of test set: 0.7311871575310268\n"
          ]
        }
      ]
    },
    {
      "cell_type": "code",
      "source": [
        "test_data_dictionary\n"
      ],
      "metadata": {
        "colab": {
          "base_uri": "https://localhost:8080/"
        },
        "id": "ezg2IaU0Nwv_",
        "outputId": "2f2f141d-6884-4032-e90f-0dfbfe0a70fb"
      },
      "execution_count": null,
      "outputs": [
        {
          "output_type": "execute_result",
          "data": {
            "text/plain": [
              "{0: defaultdict(None,\n",
              "             {0: 0.0,\n",
              "              1: 0.2178988326848249,\n",
              "              2: 0.8014605203103605,\n",
              "              3: 0.0,\n",
              "              4: 0.14959016393442623,\n",
              "              5: 0.0}),\n",
              " 1: defaultdict(None,\n",
              "             {0: 0.0,\n",
              "              1: 0.210016155088853,\n",
              "              2: 0.7316933638443935,\n",
              "              3: 0.0,\n",
              "              4: 0.23853606027987082,\n",
              "              5: 0.0}),\n",
              " 2: defaultdict(None,\n",
              "             {0: 0.0,\n",
              "              1: 0.2421917808219178,\n",
              "              2: 0.8049180327868852,\n",
              "              3: 3.0998140111593304e-05,\n",
              "              4: 0.10980392156862745,\n",
              "              5: 0.0}),\n",
              " 3: defaultdict(None,\n",
              "             {0: 0.0,\n",
              "              1: 0.18207282913165265,\n",
              "              2: 0.6889507892293407,\n",
              "              3: 1.5386745857118676e-05,\n",
              "              4: 0.17013232514177692,\n",
              "              5: 0.0}),\n",
              " 4: defaultdict(None,\n",
              "             {0: 0.0,\n",
              "              1: 0.24,\n",
              "              2: 0.7832699619771863,\n",
              "              3: 0.0,\n",
              "              4: 0.11562782294489611,\n",
              "              5: 0.0}),\n",
              " 5: defaultdict(None,\n",
              "             {0: 0.0,\n",
              "              1: 0.38320209973753283,\n",
              "              2: 0.6177884615384616,\n",
              "              3: 0.0,\n",
              "              4: 0.1975867269984917,\n",
              "              5: 0.0}),\n",
              " 6: defaultdict(None,\n",
              "             {0: 0.0,\n",
              "              1: 0.0,\n",
              "              2: 0.6965944272445821,\n",
              "              3: 1.533330777782037e-05,\n",
              "              4: 0.2006269592476489,\n",
              "              5: 0.0}),\n",
              " 7: defaultdict(None,\n",
              "             {0: 0.0,\n",
              "              1: 0.22233766233766233,\n",
              "              2: 0.771613832853026,\n",
              "              3: 0.0,\n",
              "              4: 0.19352811812755263,\n",
              "              5: 0.0}),\n",
              " 8: defaultdict(None,\n",
              "             {0: 0.0,\n",
              "              1: 0.3904881101376721,\n",
              "              2: 0.5776255707762558,\n",
              "              3: 1.5373499162144297e-05,\n",
              "              4: 0.21020282728948986,\n",
              "              5: 0.0}),\n",
              " 9: defaultdict(None,\n",
              "             {0: 0.0,\n",
              "              1: 0.19128586609989373,\n",
              "              2: 0.7251289609432572,\n",
              "              3: 1.5346720789435318e-05,\n",
              "              4: 0.2578655151141271,\n",
              "              5: 0.0}),\n",
              " 10: defaultdict(None,\n",
              "             {0: 0.0,\n",
              "              1: 0.35752528256989885,\n",
              "              2: 0.7400817504207742,\n",
              "              3: 0.0,\n",
              "              4: 0.17170045510964005,\n",
              "              5: 0.0}),\n",
              " 11: defaultdict(None,\n",
              "             {0: 0.0,\n",
              "              1: 0.209375,\n",
              "              2: 0.8039867109634552,\n",
              "              3: 1.5394799636682728e-05,\n",
              "              4: 0.1591726618705036,\n",
              "              5: 0.0}),\n",
              " 12: defaultdict(None,\n",
              "             {0: 0.0,\n",
              "              1: 0.31013016411997735,\n",
              "              2: 0.711565257779842,\n",
              "              3: 3.0935090446470694e-05,\n",
              "              4: 0.1760359781561195,\n",
              "              5: 0.0}),\n",
              " 13: defaultdict(None,\n",
              "             {0: 0.0,\n",
              "              1: 0.23477493380406,\n",
              "              2: 0.7392619479733817,\n",
              "              3: 4.655854737332195e-05,\n",
              "              4: 0.19539689995302958,\n",
              "              5: 0.0}),\n",
              " 14: defaultdict(None,\n",
              "             {0: 0.0,\n",
              "              1: 0.24856815578465064,\n",
              "              2: 0.7388092133854846,\n",
              "              3: 0.0,\n",
              "              4: 0.21701085054252714,\n",
              "              5: 0.0}),\n",
              " 15: defaultdict(None,\n",
              "             {0: 0.0,\n",
              "              1: 0.25938281901584653,\n",
              "              2: 0.7212416311625076,\n",
              "              3: 3.092911047878263e-05,\n",
              "              4: 0.23826530612244898,\n",
              "              5: 0.0}),\n",
              " 16: defaultdict(None,\n",
              "             {0: 0.0,\n",
              "              1: 0.4065733414485697,\n",
              "              2: 0.6502293577981652,\n",
              "              3: 9.254903170575578e-05,\n",
              "              4: 0.17117834394904458,\n",
              "              5: 0.0}),\n",
              " 17: defaultdict(None,\n",
              "             {0: 0.0,\n",
              "              1: 0.29991431019708653,\n",
              "              2: 0.7904387688277669,\n",
              "              3: 0.0,\n",
              "              4: 0.1499416569428238,\n",
              "              5: 0.0}),\n",
              " 18: defaultdict(None,\n",
              "             {0: 0.0,\n",
              "              1: 0.3640851589015736,\n",
              "              2: 0.722558759389387,\n",
              "              3: 6.204917397037152e-05,\n",
              "              4: 0.1607843137254902,\n",
              "              5: 0.0}),\n",
              " 19: defaultdict(None,\n",
              "             {0: 0.0,\n",
              "              1: 0.16591639871382638,\n",
              "              2: 0.8065258314160217,\n",
              "              3: 9.335179624414606e-05,\n",
              "              4: 0.18854109463664653,\n",
              "              5: 0.0})}"
            ]
          },
          "metadata": {},
          "execution_count": 186
        }
      ]
    },
    {
      "cell_type": "markdown",
      "source": [
        "##produce images"
      ],
      "metadata": {
        "id": "VU-Qh3qwwWAS"
      }
    },
    {
      "cell_type": "code",
      "execution_count": null,
      "metadata": {
        "colab": {
          "base_uri": "https://localhost:8080/",
          "height": 624
        },
        "id": "DVKN08d6NuGV",
        "outputId": "698a875f-edb1-4ccb-de1f-755a8fd284a3"
      },
      "outputs": [
        {
          "output_type": "execute_result",
          "data": {
            "text/plain": [
              "<matplotlib.colorbar.Colorbar at 0x7fa83de49050>"
            ]
          },
          "metadata": {},
          "execution_count": 201
        },
        {
          "output_type": "display_data",
          "data": {
            "image/png": "[encoded data removed]",
            "text/plain": [
              "<Figure size 2304x720 with 3 Axes>"
            ]
          },
          "metadata": {
            "needs_background": "light"
          }
        }
      ],
      "source": [
        "# test Dice score in one target\n",
        "plt.subplots(2,2,figsize=(32,10))\n",
        "plt.subplot(1,2, 1);plt.imshow(batch['img'].detach().cpu().numpy()[0,0,...,16]);plt.title(\"original image\")\n",
        "plt.subplot(1,2,2);plt.imshow(image[0,1,...,16].cpu().detach().numpy());plt.title(\"result from clustering CNN\")\n",
        "plt.colorbar()"
      ]
    }
  ]
}
