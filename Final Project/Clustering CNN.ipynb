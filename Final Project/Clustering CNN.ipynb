{
  "cells": [
    {
      "cell_type": "markdown",
      "metadata": {
        "id": "wUAMr4PBu4Cl"
      },
      "source": [
        "# Library"
      ]
    },
    {
      "cell_type": "code",
      "execution_count": null,
      "metadata": {
        "id": "Sg2o7RI0vNMK"
      },
      "outputs": [],
      "source": [
        "# Monai healthcare image package https://github.com/Project-MONAI/MONAI\n",
        "# Package documentation: https://docs.monai.io/en/stable/\n",
        "# Pytorch example: https://colab.research.google.com/drive/1boqy7ENpKrqaJoxFlbHIBnIODAs1Ih1T#scrollTo=qqsFxN84opS1\n"
      ]
    },
    {
      "cell_type": "code",
      "execution_count": null,
      "metadata": {
        "colab": {
          "base_uri": "https://localhost:8080/"
        },
        "id": "08agombQvruP",
        "outputId": "bebf96aa-9f70-48e9-b669-d03e9e98930b"
      },
      "outputs": [
        {
          "output_type": "stream",
          "name": "stdout",
          "text": [
            "MONAI version: 0.9.dev2216\n",
            "Numpy version: 1.19.5\n",
            "Pytorch version: 1.10.0+cu111\n",
            "MONAI flags: HAS_EXT = False, USE_COMPILED = False\n",
            "MONAI rev id: 1c4fae6a91eba8262de2c1a9665055edcd5605f3\n",
            "MONAI __file__: /usr/local/lib/python3.7/dist-packages/monai/__init__.py\n",
            "\n",
            "Optional dependencies:\n",
            "Pytorch Ignite version: 0.4.8\n",
            "Nibabel version: 3.0.2\n",
            "scikit-image version: 0.18.3\n",
            "Pillow version: 7.1.2\n",
            "Tensorboard version: 2.7.0\n",
            "gdown version: 4.4.0\n",
            "TorchVision version: 0.11.1+cu111\n",
            "tqdm version: 4.62.3\n",
            "lmdb version: 0.99\n",
            "psutil version: 5.4.8\n",
            "pandas version: 1.1.5\n",
            "einops version: NOT INSTALLED or UNKNOWN VERSION.\n",
            "transformers version: NOT INSTALLED or UNKNOWN VERSION.\n",
            "mlflow version: NOT INSTALLED or UNKNOWN VERSION.\n",
            "\n",
            "For details about installing the optional dependencies, please visit:\n",
            "    https://docs.monai.io/en/latest/installation.html#installing-the-recommended-dependencies\n",
            "\n"
          ]
        }
      ],
      "source": [
        "%pip install -q \"monai-weekly[tqdm, nibabel, gdown, ignite]\"\n",
        "import warnings\n",
        "warnings.filterwarnings(\"ignore\")  # remove some scikit-image warnings\n",
        "\n",
        "import monai\n",
        "monai.config.print_config()"
      ]
    },
    {
      "cell_type": "code",
      "execution_count": null,
      "metadata": {
        "id": "Nu1QHNQnv0sF"
      },
      "outputs": [],
      "source": [
        "# access dataset from data challenge \n",
        "#from monai.apps import DecathlonDataset\n",
        "# dataloader to prepare it ready for dl model\n",
        "from monai.data import DataLoader\n",
        "from monai.metrics import DiceMetric\n",
        "# chain of transformers (if want to add more: check the documentations in transform, loader section)\n",
        "# from monai.transforms import \\\n",
        "#     LoadImageD, EnsureChannelFirstD, AddChannelD, ScaleIntensityD, ToTensorD, Compose, \\\n",
        "#     AsDiscreteD, SpacingD, OrientationD, ResizeD, RandAffineD\n",
        "from monai.transforms import (\n",
        "    OrientationD,\n",
        "    Activations,\n",
        "    AddChannelD,\n",
        "    AsDiscreteD,\n",
        "    Compose,\n",
        "    LoadImageD,\n",
        "    RandCropByPosNegLabeld,\n",
        "    RandRotate90d,\n",
        "    ScaleIntensityD,\n",
        "    EnsureTyped,\n",
        "    EnsureType,\n",
        "    SpacingD,\n",
        "    RandAffineD,\n",
        "    ResizeD,\n",
        "    EnsureChannelFirstD,\n",
        "    ToTensorD,\n",
        "    MapTransform\n",
        ")\n",
        "\n",
        "import os\n",
        "import numpy as np\n",
        "import matplotlib.pyplot as plt\n",
        "import tarfile\n",
        "\n",
        "import torch\n",
        "from torchvision import transforms\n",
        "from torch.utils.data import DataLoader\n",
        "from torch import autograd, optim\n",
        "import torch.backends.cudnn as cudnn\n",
        "import torch.nn as nn\n",
        "from torch.nn.modules.activation import Softmax\n",
        "import torchvision.utils as vutils\n",
        "\n",
        "\n",
        "%matplotlib inline"
      ]
    },
    {
      "cell_type": "markdown",
      "metadata": {
        "id": "qaBhnAD4vhoz"
      },
      "source": [
        "# Transform, Loader\n",
        "\n",
        "detailed documentations of pre-processing pipeline: https://github.com/Project-MONAI/tutorials, https://github.com/Project-MONAI/MONAI/wiki/Developer-Guide-Transforms, https://docs.monai.io/en/stable/"
      ]
    },
    {
      "cell_type": "code",
      "source": [
        "# for 100 images \n",
        "from glob import glob\n",
        "from pathlib import Path\n",
        "\n",
        "import pandas as pd\n",
        "\n",
        "top100id = pd.read_csv('/content/top100id.csv')\n",
        "\n",
        "top100path_T = []\n",
        "for i in top100id.iloc[:,0]:\n",
        " top100path_T.append(Path(\"/content/Task01_BrainTumour/imagesTr/BRATS_{:03d}.nii.gz\".format(i)))\n",
        "\n",
        "top100path_L = []\n",
        "for i in top100id.iloc[:,0]:\n",
        " top100path_L.append(Path(\"/content/Task01_BrainTumour/labelsTr/BRATS_{:03d}.nii.gz\".format(i)))\n",
        "\n",
        "top100path_T = sorted(top100path_T)\n",
        "top100path_L = sorted(top100path_L)"
      ],
      "metadata": {
        "id": "q5pduQaSxOdE"
      },
      "execution_count": null,
      "outputs": []
    },
    {
      "cell_type": "code",
      "execution_count": null,
      "metadata": {
        "colab": {
          "base_uri": "https://localhost:8080/"
        },
        "id": "xIznyMUt9GJt",
        "outputId": "98f59b1e-8d43-4f27-aa69-9ec8a029fd16"
      },
      "outputs": [
        {
          "output_type": "stream",
          "name": "stdout",
          "text": [
            "num of images in training image folder:  100\n",
            "num of label in training label folder:  100\n",
            "num of images in our train_5:  60\n",
            "num of images in our val_data:  20\n",
            "num of images in our test_data:  20\n"
          ]
        }
      ],
      "source": [
        "from glob import glob\n",
        "from pathlib import Path\n",
        "\n",
        "ROOT_DIR = \"/content/Task01_BrainTumour\"\n",
        "img_root = ROOT_DIR+\"/imagesTr\"\n",
        "label_root = ROOT_DIR+ \"/labelsTr\"\n",
        "\n",
        "img_dir = Path(img_root)\n",
        "label_dir = Path(label_root)\n",
        "\n",
        "images= top100path_T\n",
        "segs = top100path_L\n",
        "\n",
        "print(\"num of images in training image folder: \", len(images))\n",
        "print(\"num of label in training label folder: \", len(segs))\n",
        "\n",
        "# 60 images for training\n",
        "train_5 = [{\"img\": img, \"seg\": seg} for img, seg in zip(images[:60], segs[:60])]\n",
        "print(\"num of images in our train_5: \", len(train_5))\n",
        "val_data = [{\"img\": img, \"seg\": seg} for img, seg in zip(images[60:80], segs[60:80])]\n",
        "print(\"num of images in our val_data: \", len(val_data))\n",
        "test_data = [{\"img\": img, \"seg\": seg} for img, seg in zip(images[80:], segs[80:])]\n",
        "print(\"num of images in our test_data: \", len(test_data))"
      ]
    },
    {
      "cell_type": "markdown",
      "metadata": {
        "id": "R0jcrTm2nnWs"
      },
      "source": [
        "# One-hot Enconding\n",
        "refer: https://github.com/Project-MONAI/tutorials/blob/master/3d_segmentation/brats_segmentation_3d.ipynb"
      ]
    },
    {
      "cell_type": "code",
      "execution_count": null,
      "metadata": {
        "id": "GPPmBnSBY8BA"
      },
      "outputs": [],
      "source": [
        "# # didn't use\n",
        "# class ConvertToMultiChannelBasedOnBratsClassesd(MapTransform):\n",
        "\n",
        "#   def __call__(self, data):\n",
        "#     d = dict(data)\n",
        "#     for key in self.keys:\n",
        "#       result = []\n",
        "#       result.append(d[key] == 0)\n",
        "#       result.append(d[key] == 1)\n",
        "#       result.append(d[key] == 2)\n",
        "#       result.append(d[key] == 3)\n",
        "#       d[key] = np.stack(result, axis=0).astype(np.float32)\n",
        "#     return d"
      ]
    },
    {
      "cell_type": "code",
      "execution_count": null,
      "metadata": {
        "id": "4WH9urbLoQ0_"
      },
      "outputs": [],
      "source": [
        "\n",
        "class ConvertToMultiChannelBasedOnBratsClassesd(MapTransform):\n",
        "    \"\"\"\n",
        "    Convert labels to multi channels based on brats classes:\n",
        "    label 1 is the peritumoral edema\n",
        "    label 2 is the GD-enhancing tumor\n",
        "    label 3 is the necrotic and non-enhancing tumor core\n",
        "    The possible classes are TC (Tumor core), WT (Whole tumor)\n",
        "    and ET (Enhancing tumor).\n",
        "\n",
        "    \"\"\"\n",
        "\n",
        "    def __call__(self, data):\n",
        "        d = dict(data)\n",
        "        for key in self.keys:\n",
        "            result = []\n",
        "            # background\n",
        "            result.append(d[key] == 0)\n",
        "            #print(result)\n",
        "            # merge label 2 and label 3 to construct TC\n",
        "            result.append(np.logical_or(d[key] == 2, d[key] == 3))\n",
        "            # merge labels 1, 2 and 3 to construct WT\n",
        "            result.append(\n",
        "                np.logical_or(\n",
        "                    np.logical_or(d[key] == 2, d[key] == 3), d[key] == 1\n",
        "                )\n",
        "            )\n",
        "            # label 2 is ET\n",
        "            result.append(d[key] == 2)\n",
        "            d[key] = np.stack(result, axis=0).astype(np.float32) \n",
        "        return d"
      ]
    },
    {
      "cell_type": "code",
      "execution_count": null,
      "metadata": {
        "id": "i0CCfu5I2GpM"
      },
      "outputs": [],
      "source": [
        "# To-do: dataloader for validation and test\n",
        "# start a chain of transforms\n",
        "keys = [\"img\", \"seg\"]\n",
        "\n",
        "class Select():\n",
        "    \"\"\"Convert 4-channel input/target to 1-channel input/target. \n",
        "    For input, only select FLAIR channel of the input, ie, channel 0\n",
        "    For target, only select Whole Tumor channel of the target, ie, channel 2\n",
        "\n",
        "    Args:\n",
        "        channel (int): \n",
        "    \"\"\"\n",
        "\n",
        "    def __init__(self, keys):\n",
        "        self.keys = keys\n",
        "\n",
        "    def __call__(self, sample):\n",
        "        image, landmarks = sample[self.keys[0]], sample[self.keys[1]]\n",
        "        image = torch.unsqueeze(image[0,...], 0)  # 0 is FLAIR\n",
        "        landmarks = torch.unsqueeze(landmarks[2,...],0)  # 2 is whole tumor\n",
        "\n",
        "        return {self.keys[0]: image, self.keys[1]: landmarks}\n",
        "\n",
        "train_transforms = Compose(\n",
        "    [\n",
        "        LoadImageD(keys),\n",
        "        EnsureChannelFirstD(\"img\"), # move modailty to the second place (first position: batch)\n",
        "        ConvertToMultiChannelBasedOnBratsClassesd(keys='seg'),\n",
        "        #AddChannelD(\"seg\"), # add modality label for label # don't run this line once converted the label\n",
        "        OrientationD(keys, axcodes='RAS'), #convert RAS coordinate system,\n",
        "        SpacingD(keys, pixdim=(1., 1., 1.), mode=('bilinear', 'nearest')), # scale image (detials:https://docs.monai.io/en/stable/transforms.html?highlight=spacingD#:~:text=Spatial%20(Dict)-,Spacingd,-%C2%B6)\n",
        "        ScaleIntensityD(keys=\"img\"),\n",
        "        ResizeD(keys, (64, 64, 32), mode=('trilinear', 'nearest')), # resize (specific interpolate mode ) ## TODO: find a way to chrop the image, maybe: https://docs.monai.io/en/0.1.0/transforms.html?highlight=crop#centerspatialcrop\n",
        "        # feel free to uncomment some augumentation techniques\n",
        "        #RandCropByPosNegLabeld(\n",
        "            #keys=[\"img\", \"seg\"], label_key=\"seg\", spatial_size=[96, 96], pos=1, neg=1, num_samples=4\n",
        "        #),\n",
        "        #RandRotate90d(keys=[\"img\", \"seg\"], prob=0.5, spatial_axes=[0, 1]),\n",
        "        ##CenterScaleCropd(keys, roi_scale=0.8)\n",
        "        EnsureTyped(keys),\n",
        "        ToTensorD(keys),\n",
        "        Select(keys)\n",
        "    ]\n",
        ")\n"
      ]
    },
    {
      "cell_type": "code",
      "execution_count": null,
      "metadata": {
        "id": "eS_JO2KVWNv1"
      },
      "outputs": [],
      "source": [
        "# define dataset, data loader\n",
        "from monai.data import create_test_image_2d, list_data_collate, decollate_batch\n",
        "new_ds = monai.data.Dataset(data=train_5, transform=train_transforms)\n",
        "new_loader = DataLoader(new_ds, batch_size=1, shuffle=False, num_workers=3, collate_fn=list_data_collate,pin_memory=torch.cuda.is_available())\n",
        "new_ds = monai.data.Dataset(data=val_data, transform=train_transforms)\n",
        "val_loader = DataLoader(new_ds, batch_size=1, shuffle=False, num_workers=3, collate_fn=list_data_collate,pin_memory=torch.cuda.is_available())\n",
        "new_ds = monai.data.Dataset(data=test_data, transform=train_transforms)\n",
        "test_loader = DataLoader(new_ds, batch_size=1, shuffle=False, num_workers=3, collate_fn=list_data_collate,pin_memory=torch.cuda.is_available())"
      ]
    },
    {
      "cell_type": "code",
      "execution_count": null,
      "metadata": {
        "colab": {
          "base_uri": "https://localhost:8080/",
          "height": 303
        },
        "id": "puivdwPnk9hn",
        "outputId": "fedaf0c9-bd1f-4084-df47-0da61b72b024"
      },
      "outputs": [
        {
          "output_type": "stream",
          "name": "stdout",
          "text": [
            "torch.Size([1, 1, 64, 64, 32]) torch.Size([1, 1, 64, 64, 32])\n"
          ]
        },
        {
          "output_type": "execute_result",
          "data": {
            "text/plain": [
              "<matplotlib.image.AxesImage at 0x7f1dbb4bdd10>"
            ]
          },
          "metadata": {},
          "execution_count": 10
        },
        {
          "output_type": "display_data",
          "data": {
            "image/png": "[encoded data removed]",
            "text/plain": [
              "<Figure size 432x288 with 1 Axes>"
            ]
          },
          "metadata": {
            "needs_background": "light"
          }
        }
      ],
      "source": [
        "# from monai.data import create_test_image_2d, list_data_collate, decollate_batch\n",
        "\n",
        "# # split into training, val, testing\n",
        "# train_dataset, val_dataset = torch.utils.data.random_split(train_5, (200, 100))\n",
        "# val_dataset, test_dataset = torch.utils.data.random_split(val_dataset, (50, 50))\n",
        "\n",
        "# # define dataset, data loader\n",
        "# #new_ds = monai.data.Dataset(data=train_5, transform=train_transforms)\n",
        "# #new_loader = DataLoader(new_ds, batch_size=1, num_workers=1)\n",
        "\n",
        "# # create a trainng data loader\n",
        "# train_ds = monai.data.Dataset(data=train_dataset, transform=train_transforms)\n",
        "# train_loader = DataLoader(\n",
        "#     train_ds,\n",
        "#     batch_size=1,\n",
        "#     shuffle=False,\n",
        "#     num_workers=1,\n",
        "#     collate_fn=list_data_collate,\n",
        "#     pin_memory=torch.cuda.is_available(),\n",
        "# )\n",
        "\n",
        "# val_ds = monai.data.Dataset(data=val_dataset, transform=train_transforms)\n",
        "# val_loader = DataLoader(\n",
        "#     val_ds,\n",
        "#     batch_size=1,\n",
        "#     shuffle=False,\n",
        "#     num_workers=1,\n",
        "#     collate_fn=list_data_collate,\n",
        "#     pin_memory=torch.cuda.is_available(),\n",
        "# )\n",
        "\n",
        "# test_ds = monai.data.Dataset(data=test_dataset, transform=train_transforms)\n",
        "# test_loader = DataLoader(\n",
        "#     test_ds,\n",
        "#     batch_size=1,\n",
        "#     shuffle=False,\n",
        "#     num_workers=1,\n",
        "#     collate_fn=list_data_collate,\n",
        "#     pin_memory=torch.cuda.is_available(),\n",
        "# )\n",
        "\n",
        "first = monai.utils.misc.first(new_loader)\n",
        "print(first[\"img\"].shape, first[\"seg\"].shape)\n",
        "\n",
        "plt.imshow(first[\"img\"][0,0,...,16])  # you can compare this from https://socr.umich.edu/HTML5/BrainViewer/\n",
        "# without split the data and shuffle item, the orders of image here is the same as their original id (original id refers to \"Task01_BrainTumour/imagesTr/BRATS_278.nii.gz\")"
      ]
    },
    {
      "cell_type": "markdown",
      "metadata": {
        "id": "facdMqHgBqik"
      },
      "source": [
        "# Unsupervised Deep Clustering\n",
        "- part A: target (dominant class within superpixel)\n",
        "- part B: clustering CNN (loss?)"
      ]
    },
    {
      "cell_type": "markdown",
      "metadata": {
        "id": "_dYWAgJgb_z0"
      },
      "source": [
        "##CNN architecture with weight initalization"
      ]
    },
    {
      "cell_type": "code",
      "execution_count": null,
      "metadata": {
        "id": "29gRNetDb-0S"
      },
      "outputs": [],
      "source": [
        "from google.colab import output\n",
        "class clusteringCNN(nn.Module):\n",
        "    # initializers\n",
        "    def __init__(self,num_modality,output_channel):\n",
        "        super(clusteringCNN, self).__init__()\n",
        "        #TODO\n",
        "        # Note: input and the output should be the same size,\n",
        "        # in order to do the superpixel step\n",
        "        # WHY? before I used stride=0, padding=0, as parameters in paper but it gives me error: pytorch conv3d non-postive stride is not supported (which didn't make sense)\n",
        "        self.layer1 =nn.Conv3d(in_channels=num_modality, out_channels=100, kernel_size=3, stride=1, padding=1)  #[Batch, Channel, Slice, H, W]\n",
        "        self.bn1 = torch.nn.InstanceNorm3d(100)\n",
        "        self.layer2 = nn.Conv3d(100, 100, 3, stride=1, padding=1)\n",
        "        self.bn2 = torch.nn.InstanceNorm3d(100)\n",
        "        self.layer3 = nn.Conv3d(100, output_channel, 3, stride=1, padding=1)\n",
        "        self.bn3 = torch.nn.InstanceNorm3d(output_channel) \n",
        "\n",
        "        \n",
        "    # Init linear layers\n",
        "    # weight_init\n",
        "    def weight_init(self, mean, std):\n",
        "        for m in self._modules:\n",
        "            normal_init(self._modules[m], mean, std)\n",
        "\n",
        "    # forward method\n",
        "    def forward(self, input):\n",
        "        #TODO\n",
        "        x = input\n",
        "        x = self.bn1(nn.functional.relu(self.layer1(x)))\n",
        "        x = self.bn2(nn.functional.relu(self.layer2(x)))\n",
        "        x = self.bn3(self.layer3(x))\n",
        "        # x,_ = torch.argmax(x, dim=1) # don't need argmax in the training, we only need it in creating target\n",
        "        return x"
      ]
    },
    {
      "cell_type": "markdown",
      "metadata": {
        "id": "CChPdlw1iBhg"
      },
      "source": [
        "## Create target"
      ]
    },
    {
      "cell_type": "code",
      "execution_count": null,
      "metadata": {
        "id": "RlK9-ksSiCeB"
      },
      "outputs": [],
      "source": [
        "from skimage.segmentation import slic, mark_boundaries\n",
        "import torch.nn.functional as F\n",
        "\n",
        "def GenerateTarget(original_input, batch,  clusterCNN_output):\n",
        "  '''\n",
        "  NOTE: might need to modify some code if batch_size > 1\n",
        "  step A: draw superpixels on original image\n",
        "  step B: apply superpixels on model_output to \"segment\" different parts\n",
        "  step C: copy a zero tensor as model_output \n",
        "  step D: for each superpixel/part:\n",
        "            find the mode in that part,\n",
        "            fill the mode all over that part\n",
        "          generate the tensor filled in the modes\n",
        "  step E: now have the pesudolabel out of the superpixels and cluster CNN\n",
        "  @params: \n",
        "  original_input: original image [B, C=1/FLAIR, H, W, Slice] \n",
        "  clusterCNN_output: pred from clustering CNN in [B, Cluster, Slice, H, W]\n",
        "  @output: \n",
        "  [B, H, W, Slice, C=1] \n",
        "  '''\n",
        "  ## STEP A\n",
        "  #print(\"-------new image----------\")\n",
        "  original_input2 = original_input/255 # size of [B, C, Slice, H, W]\n",
        "  input_super = slic(original_input2[batch,0,...].detach().cpu().numpy(), multichannel=False, convert2lab=True,n_segments=500, sigma=1, enforce_connectivity=False, compactness=0.0001) # 64, 64, 32\n",
        "  \n",
        "  ## STEP B\n",
        "  input_super_tensor = torch.from_numpy(input_super)\n",
        "  input_super_onehot = F.one_hot(input_super_tensor, num_classes = -1)\n",
        "  #print(\"input_super_onehot.size(): the index 3 should be num_superpixels\", input_super_onehot.size()) #[64, 64, 32, 943(x)]\n",
        "  num_superpixel = input_super_onehot.size(3)\n",
        "  #print(\"num_superpixel:\", num_superpixel)\n",
        "  # for i in range(num_superpixel):\n",
        "  #   if i < 503:\n",
        "  #     plt.figure()\n",
        "  #     plt.imshow(input_super_onehot[...,16,i])\n",
        "  #     plt.colorbar()\n",
        "  # print(\"final i:\", i)\n",
        "\n",
        "\n",
        "  ## STEP C\n",
        "  temp = torch.clone(input_super_onehot) # [H, W, Slice, Num_superclass]\n",
        "\n",
        "  ## STEP D\n",
        "  clusterCNN_output_argmax = torch.argmax(clusterCNN_output,dim=1,keepdim= True)+1 #+1 in order to find mode, no mess up with other meaning of 0(one hot encoding og label)\n",
        "\n",
        "  for i in range(num_superpixel):\n",
        "    plus = torch.mul(clusterCNN_output_argmax.to('cuda'),input_super_onehot[...,i].to('cuda'))\n",
        "    plus2 = torch.reshape(plus, (-1,))\n",
        "    mode_i, _ = torch.mode(plus2[plus2!=0])\n",
        "    mode_i3 = mode_i.long()\n",
        "    #print(\"#\", i, \"superpixel\", \"mode is:\", mode_i3) # mode_i should be something 1~x(num of cluster)\n",
        "    temp[...,i][temp[...,i]!=0] = mode_i3-1 # delete the 1 which we add before\n",
        "  pesudolabel = torch.sum(temp, dim=3, keepdim=True) # [64, 64, 32, 1]\n",
        "  return pesudolabel\n"
      ]
    },
    {
      "cell_type": "code",
      "execution_count": null,
      "metadata": {
        "colab": {
          "base_uri": "https://localhost:8080/"
        },
        "id": "fI0fiufdyZnm",
        "outputId": "e07dd06c-711f-4580-cc3b-40fb08f25502"
      },
      "outputs": [
        {
          "output_type": "display_data",
          "data": {
            "image/png": "[encoded data removed]",
            "text/plain": [
              "<Figure size 1296x360 with 4 Axes>"
            ]
          },
          "metadata": {
            "needs_background": "light"
          }
        },
        {
          "output_type": "display_data",
          "data": {
            "image/png": "[encoded data removed]",
            "text/plain": [
              "<Figure size 1296x360 with 4 Axes>"
            ]
          },
          "metadata": {
            "needs_background": "light"
          }
        },
        {
          "output_type": "display_data",
          "data": {
            "image/png": "[encoded data removed]",
            "text/plain": [
              "<Figure size 1296x360 with 4 Axes>"
            ]
          },
          "metadata": {
            "needs_background": "light"
          }
        },
        {
          "output_type": "display_data",
          "data": {
            "image/png": "[encoded data removed]",
            "text/plain": [
              "<Figure size 1296x360 with 4 Axes>"
            ]
          },
          "metadata": {
            "needs_background": "light"
          }
        },
        {
          "output_type": "display_data",
          "data": {
            "image/png": "[encoded data removed]",
            "text/plain": [
              "<Figure size 1296x360 with 4 Axes>"
            ]
          },
          "metadata": {
            "needs_background": "light"
          }
        }
      ],
      "source": [
        "# use five image for test\n",
        "for i,single in enumerate(new_loader): \n",
        "  if i <5:\n",
        "    x = single[\"img\"]\n",
        "    y = single['seg']\n",
        "    # print(\"x.size():\", x.size()) # [1, 4, 64, 64, 32]\n",
        "    # print(\"y.size():\", y.size()) # [1, 4, 64, 64, 32]\n",
        "\n",
        "    num_modality = 1\n",
        "    num_cluster = 25\n",
        "    batch = 0\n",
        "    model = clusteringCNN(num_modality,num_cluster).to('cuda')\n",
        "    pred_cnn = model(x.to('cuda'))\n",
        "    test_single = GenerateTarget(x.to('cuda'), batch, pred_cnn)\n",
        "    \n",
        "    plt.subplots(1,3,figsize=(18,5))\n",
        "    plt.subplot(1,3, 1);plt.imshow(test_single[...,16,0]);plt.title(\"generated target from clustering CNN and superpixel\")\n",
        "    plt.subplot(1,3, 2);plt.imshow(y[0,0,:,:,16]);plt.title(\"original label\")\n",
        "    plt.subplot(1,3, 3);plt.imshow(x[0,0,:,:,16]);plt.title(\"original image\")\n",
        "    plt.colorbar()\n",
        "  else:\n",
        "    break"
      ]
    },
    {
      "cell_type": "markdown",
      "metadata": {
        "id": "w6q4ZwgKcRvW"
      },
      "source": [
        "## initiate model"
      ]
    },
    {
      "cell_type": "code",
      "execution_count": null,
      "metadata": {
        "colab": {
          "base_uri": "https://localhost:8080/"
        },
        "id": "At6E3GJQcTyL",
        "outputId": "fad28a8b-c5fa-4bcf-974b-e846fbb18f20"
      },
      "outputs": [
        {
          "output_type": "stream",
          "name": "stdout",
          "text": [
            "Device cuda\n"
          ]
        }
      ],
      "source": [
        "# learning_rate=0.001 # following comment setting perform well than current one but current one is the recommendation from paper\n",
        "learning_rate=0.1\n",
        "\n",
        "device = torch.device(\"cuda\") if torch.cuda.is_available() else torch.device(\"cpu\")\n",
        "print(\"Device\", device)\n",
        "\n",
        "use_gpu=True\n",
        "cuda0 = torch.device('cuda:0')\n",
        "\n",
        "## Initialize your unet\n",
        "n_modality = 1\n",
        "n_classes = 6\n",
        "model = clusteringCNN(n_modality, n_classes)\n",
        "\n",
        "## Initialize Optimizer and Learning Rate Scheduler\n",
        "#optimizer = torch.optim.Adam(model.parameters(),lr=learning_rate)\n",
        "optimizer = torch.optim.SGD(model.parameters(), lr=learning_rate, momentum=0.9)\n",
        "loss = torch.nn.CrossEntropyLoss()"
      ]
    },
    {
      "cell_type": "markdown",
      "metadata": {
        "id": "p7rZthmtcUG8"
      },
      "source": [
        "## training model with all images"
      ]
    },
    {
      "cell_type": "code",
      "execution_count": null,
      "metadata": {
        "colab": {
          "base_uri": "https://localhost:8080/"
        },
        "id": "hGGnwlDIcW-C",
        "outputId": "8eef4a38-7a13-48b8-bbe0-ad7122bd9a04"
      },
      "outputs": [
        {
          "output_type": "stream",
          "name": "stdout",
          "text": [
            "Start Training...\n",
            "\n",
            "EPOCH 1 of 20\n",
            "\n",
            "batch: 0\n",
            "batch: 25\n",
            "batch: 50\n",
            "\n",
            "EPOCH 2 of 20\n",
            "\n",
            "batch: 0\n",
            "batch: 25\n",
            "batch: 50\n",
            "\n",
            "EPOCH 3 of 20\n",
            "\n",
            "batch: 0\n",
            "batch: 25\n",
            "batch: 50\n",
            "\n",
            "EPOCH 4 of 20\n",
            "\n",
            "batch: 0\n",
            "batch: 25\n",
            "batch: 50\n",
            "\n",
            "EPOCH 5 of 20\n",
            "\n",
            "batch: 0\n",
            "batch: 25\n",
            "batch: 50\n",
            "\n",
            "EPOCH 6 of 20\n",
            "\n",
            "batch: 0\n",
            "batch: 25\n",
            "batch: 50\n",
            "\n",
            "EPOCH 7 of 20\n",
            "\n",
            "batch: 0\n",
            "batch: 25\n",
            "batch: 50\n",
            "\n",
            "EPOCH 8 of 20\n",
            "\n",
            "batch: 0\n",
            "batch: 25\n",
            "batch: 50\n",
            "\n",
            "EPOCH 9 of 20\n",
            "\n",
            "batch: 0\n",
            "batch: 25\n",
            "batch: 50\n",
            "\n",
            "EPOCH 10 of 20\n",
            "\n",
            "batch: 0\n",
            "batch: 25\n",
            "batch: 50\n",
            "\n",
            "EPOCH 11 of 20\n",
            "\n",
            "batch: 0\n",
            "batch: 25\n",
            "batch: 50\n",
            "\n",
            "EPOCH 12 of 20\n",
            "\n",
            "batch: 0\n",
            "batch: 25\n",
            "batch: 50\n",
            "\n",
            "EPOCH 13 of 20\n",
            "\n",
            "batch: 0\n",
            "batch: 25\n",
            "batch: 50\n",
            "\n",
            "EPOCH 14 of 20\n",
            "\n",
            "batch: 0\n",
            "batch: 25\n",
            "batch: 50\n",
            "\n",
            "EPOCH 15 of 20\n",
            "\n",
            "batch: 0\n",
            "batch: 25\n",
            "batch: 50\n",
            "\n",
            "EPOCH 16 of 20\n",
            "\n",
            "batch: 0\n",
            "batch: 25\n",
            "batch: 50\n",
            "\n",
            "EPOCH 17 of 20\n",
            "\n",
            "batch: 0\n",
            "batch: 25\n",
            "batch: 50\n",
            "\n",
            "EPOCH 18 of 20\n",
            "\n",
            "batch: 0\n",
            "batch: 25\n",
            "batch: 50\n",
            "\n",
            "EPOCH 19 of 20\n",
            "\n",
            "batch: 0\n",
            "batch: 25\n",
            "batch: 50\n",
            "\n",
            "EPOCH 20 of 20\n",
            "\n",
            "batch: 0\n",
            "batch: 25\n",
            "batch: 50\n",
            "running time for clustering CNN and generation of target for all epochs: 4255.130787372589\n"
          ]
        }
      ],
      "source": [
        "from logging import PercentStyle\n",
        "from time import time\n",
        "\n",
        "print(\"Start Training...\")\n",
        "\n",
        "\n",
        "early_stopping=False\n",
        "min_val=1000\n",
        "num_epoch_converge=0\n",
        "num_epochs=20\n",
        "\n",
        "best_val_dice = 0\n",
        "if use_gpu:\n",
        "    model.to(device)\n",
        "counter = 0\n",
        "total_train_loss = []\n",
        "\n",
        "time1 = time()\n",
        "for epoch in range(num_epochs):\n",
        "    ########################### Training #####################################\n",
        "    print(\"\\nEPOCH \" +str(epoch+1)+\" of \"+str(num_epochs)+\"\\n\")\n",
        "    \n",
        "    # TODO: Design your own training section\n",
        "    loss_per_batch=[]\n",
        "    for j,batch in enumerate(new_loader):\n",
        "      inputs = batch[\"img\"] # size of [B, Slice, H, W]\n",
        "      if j % 25==0: print('batch:',j)\n",
        "      for batch in range(inputs.size(0)): \n",
        "        # generate target\n",
        "        model.train()\n",
        "        clusterCNN_output = model(inputs.to(device)) #[B, Cluster, H, W, Slice] [1, 25, 64, 64, 32]\n",
        "        with torch.no_grad():\n",
        "          pesudolabel = GenerateTarget(inputs, batch, clusterCNN_output) #[64, 64, 32, 1]\n",
        "          pesudolabel2 = torch.permute(pesudolabel,(3,0,1,2)) #[1, 64, 64, 32]\n",
        "                    \n",
        "        \n",
        "        counter += 1\n",
        "        # if counter == 8: # same as batch size = 8\n",
        "        optimizer.zero_grad()\n",
        "        model_loss = loss(clusterCNN_output.to(device),pesudolabel2.to(device)) \n",
        "        model_loss.backward()\n",
        "        optimizer.step()\n",
        "        # counter =0\n",
        "\n",
        "        loss_per_batch.append(model_loss.item())\n",
        "    total_train_loss.append(loss_per_batch)\n",
        "    # for _, batch in enumerate(val_loader):\n",
        "    #   inputs = batch['img']\n",
        "    #   for batch in range(inputs.size(0)):\n",
        "    #     model.eval()\n",
        "    #     clusterCNN_output = model(inputs.to(device))\n",
        "    #     with torch.no_grad():\n",
        "    #       pesudolabel = GenerateTarget(inputs, batch, clusterCNN_output) \n",
        "    #       pesudolabel2 = torch.permute(pesudolabel,(3,0,1,2))\n",
        "\n",
        "time2 = time()\n",
        "print('running time for clustering CNN and generation of target for all epochs:', time2-time1)\n",
        "        #print('loss_per_batch:',model_loss.item())"
      ]
    },
    {
      "cell_type": "code",
      "execution_count": null,
      "metadata": {
        "colab": {
          "base_uri": "https://localhost:8080/",
          "height": 282
        },
        "id": "A604ARJiBEDz",
        "outputId": "c0088ae7-5d2f-4a90-9c7a-0bb6792842f6"
      },
      "outputs": [
        {
          "output_type": "execute_result",
          "data": {
            "text/plain": [
              "[<matplotlib.lines.Line2D at 0x7f1f56714710>]"
            ]
          },
          "metadata": {},
          "execution_count": 44
        },
        {
          "output_type": "display_data",
          "data": {
            "image/png": "[encoded data removed]",
            "text/plain": [
              "<Figure size 432x288 with 1 Axes>"
            ]
          },
          "metadata": {
            "needs_background": "light"
          }
        }
      ],
      "source": [
        "plt.plot(loss_per_batch, '-o', label=\"train loss\", color='blue')"
      ]
    },
    {
      "cell_type": "code",
      "source": [
        "plt.savefig('loss in last epoch of clustering CNN.png')"
      ],
      "metadata": {
        "id": "h2IdnTlbbO5s",
        "colab": {
          "base_uri": "https://localhost:8080/",
          "height": 34
        },
        "outputId": "7d654c03-b716-476c-8b17-e2e0842cc4ac"
      },
      "execution_count": null,
      "outputs": [
        {
          "output_type": "display_data",
          "data": {
            "text/plain": [
              "<Figure size 432x288 with 0 Axes>"
            ]
          },
          "metadata": {}
        }
      ]
    },
    {
      "cell_type": "code",
      "source": [
        "flat_total_loss = []\n",
        "for sublist in total_train_loss:\n",
        "  for item in sublist:\n",
        "    flat_total_loss.append(item)\n",
        "plt.plot(flat_total_loss, '-o', label=\"total train loss\", color='blue')"
      ],
      "metadata": {
        "id": "SOf6p-DFasVz",
        "colab": {
          "base_uri": "https://localhost:8080/",
          "height": 282
        },
        "outputId": "7417747a-f45f-4ebd-c7c0-c1700176a24c"
      },
      "execution_count": null,
      "outputs": [
        {
          "output_type": "execute_result",
          "data": {
            "text/plain": [
              "[<matplotlib.lines.Line2D at 0x7f1f56cee2d0>]"
            ]
          },
          "metadata": {},
          "execution_count": 46
        },
        {
          "output_type": "display_data",
          "data": {
            "image/png": "[encoded data removed]",
            "text/plain": [
              "<Figure size 432x288 with 1 Axes>"
            ]
          },
          "metadata": {
            "needs_background": "light"
          }
        }
      ]
    },
    {
      "cell_type": "code",
      "source": [
        "plt.savefig('total loss of clustering CNN.png')"
      ],
      "metadata": {
        "id": "vuMn9UiFbbV0"
      },
      "execution_count": null,
      "outputs": []
    },
    {
      "cell_type": "markdown",
      "metadata": {
        "id": "JuaTHyzMceEQ"
      },
      "source": [
        "## Save/load model"
      ]
    },
    {
      "cell_type": "code",
      "execution_count": null,
      "metadata": {
        "id": "ZCYPl6TRho-b"
      },
      "outputs": [],
      "source": [
        "torch.save(model,'/content/clusteringCNN-flair0503.pt') \n",
        "# model = torch.load('/content/clusteringCNN-flair0503.pt')"
      ]
    },
    {
      "cell_type": "markdown",
      "metadata": {
        "id": "z91pzle376f0"
      },
      "source": [
        "# Caculate the Score"
      ]
    },
    {
      "cell_type": "code",
      "execution_count": null,
      "metadata": {
        "colab": {
          "base_uri": "https://localhost:8080/",
          "height": 310
        },
        "id": "xd4i4t1_fNl3",
        "outputId": "6a15e598-6398-48c8-a952-6b45b5838eaa"
      },
      "outputs": [
        {
          "output_type": "execute_result",
          "data": {
            "text/plain": [
              "<matplotlib.colorbar.Colorbar at 0x7f1f56b32950>"
            ]
          },
          "metadata": {},
          "execution_count": 25
        },
        {
          "output_type": "display_data",
          "data": {
            "image/png": "[encoded data removed]",
            "text/plain": [
              "<Figure size 2304x360 with 5 Axes>"
            ]
          },
          "metadata": {
            "needs_background": "light"
          }
        }
      ],
      "source": [
        "from torch.autograd import Variable\n",
        "\n",
        "# test saved model in one image\n",
        "plt.subplots(1,4,figsize=(32,5))\n",
        "pred = model(Variable(first['img'].cuda(), requires_grad=True))\n",
        "pesudolabel = GenerateTarget(first['img'], 0, pred)\n",
        "batch = 0\n",
        "plt.subplot(1,4, 2);plt.imshow(first['seg'].detach().cpu().numpy()[batch,0,...,16]);plt.title(\"original label(WT)\")\n",
        "plt.subplot(1,4, 1);plt.imshow(first['img'].detach().cpu().numpy()[batch,0,...,16]);plt.title(\"original image\")\n",
        "plt.subplot(1,4, 3);plt.imshow(pesudolabel[...,16,0]);plt.title(\"generated target from clustering CNN and superpixel\")\n",
        "plt.subplot(1,4,4);plt.imshow(pred[batch,0,...,16].cpu().detach().numpy());plt.title(\"result from clustering CNN\")\n",
        "plt.colorbar()\n"
      ]
    },
    {
      "cell_type": "markdown",
      "metadata": {
        "id": "iGNec4qrYb-H"
      },
      "source": [
        "## DICE Score for one image"
      ]
    },
    {
      "cell_type": "code",
      "execution_count": null,
      "metadata": {
        "id": "hbmtF24BYgcK"
      },
      "outputs": [],
      "source": [
        "from collections import defaultdict\n",
        "\n",
        "def dice_score_image(pesudo, truelabel):\n",
        "  '''\n",
        "    computer the mean dice score for every class in a single image\n",
        "\n",
        "    Args:\n",
        "        pesudo(tensor): predictied labels of the image, [H, W, Slice, C=1] (before one hot)\n",
        "        truelabel (tensor): ground truth of the image [B, C=1, H, W, Slice] when choosing C=0, it is the whole tumor we want\n",
        "  \n",
        "    Returns:\n",
        "        one_score_list: dict {index of class(int): dice score for that class (float)}(for one image)\n",
        "  '''\n",
        "\n",
        "  pesudo_onehot = F.one_hot(pesudo, num_classes=6) #[H, W, Slice, 1, C=25]\n",
        "  class25 = pesudo_onehot.size(4) \n",
        "  assert class25 == 6 # should be 25\n",
        "  \n",
        "  pesudo2_onehot = torch.permute(pesudo_onehot, (3,0,1,2,4)) #[B, H,W,Slice,Class=24]\n",
        "  truelabel2 = torch.permute(truelabel,(0,2,3,4,1)) \n",
        "  #print(\"truelabel2.size():\", truelabel2.size()) # it should be [B, H, W, Slice, C=1]\n",
        "  truelabel_flat = truelabel2[0,...].contiguous().view(-1) #chose whole tumor\n",
        "\n",
        "  one_score_list = defaultdict()\n",
        "  for i in range(class25):\n",
        "    pesudo_i_flat = pesudo2_onehot[0,...,i].contiguous().view(-1)\n",
        "    TP_i = ((pesudo_i_flat == 1) * (truelabel_flat == 1)).sum().item()\n",
        "    FP_i = ((pesudo_i_flat == 1) * (truelabel_flat != 1)).sum().item()\n",
        "    FN_i = ((pesudo_i_flat != 1) * (truelabel_flat == 1)).sum().item()\n",
        "    cal = (2 * TP_i) / (2 * TP_i + FP_i + FN_i)\n",
        "    one_score_list[i] = cal \n",
        "\n",
        "  return one_score_list"
      ]
    },
    {
      "cell_type": "code",
      "execution_count": null,
      "metadata": {
        "colab": {
          "base_uri": "https://localhost:8080/"
        },
        "id": "plHkLg2tV5NE",
        "outputId": "d1429554-47aa-45d9-9562-7371a08f935b"
      },
      "outputs": [
        {
          "output_type": "execute_result",
          "data": {
            "text/plain": [
              "defaultdict(None,\n",
              "            {0: 0.0,\n",
              "             1: 0.021882741535920725,\n",
              "             2: 0.22728183214261868,\n",
              "             3: 0.0,\n",
              "             4: 0.0008041817450743868,\n",
              "             5: 0.0017528483786152498})"
            ]
          },
          "metadata": {},
          "execution_count": 29
        }
      ],
      "source": [
        "# test Dice score in one target\n",
        "dice_score_image(pesudolabel,first['seg'])"
      ]
    },
    {
      "cell_type": "code",
      "execution_count": null,
      "metadata": {
        "colab": {
          "base_uri": "https://localhost:8080/",
          "height": 546
        },
        "id": "DVKN08d6NuGV",
        "outputId": "98727c6c-9ffb-4772-b607-c4c65bfc1074"
      },
      "outputs": [
        {
          "output_type": "execute_result",
          "data": {
            "text/plain": [
              "<matplotlib.colorbar.Colorbar at 0x7f1db4763990>"
            ]
          },
          "metadata": {},
          "execution_count": 33
        },
        {
          "output_type": "display_data",
          "data": {
            "image/png": "[encoded data removed]",
            "text/plain": [
              "<Figure size 2304x720 with 9 Axes>"
            ]
          },
          "metadata": {
            "needs_background": "light"
          }
        }
      ],
      "source": [
        "# test Dice score in one target\n",
        "\n",
        "plt.subplots(2,4,figsize=(32,10))\n",
        "pesudo_onehot = F.one_hot(pesudolabel, num_classes=-1)\n",
        "plt.subplot(2,4, 2);plt.imshow(first['seg'].detach().cpu().numpy()[batch,0,...,16]);plt.title(\"original label(WT)\")\n",
        "plt.subplot(2,4, 1);plt.imshow(first['img'].detach().cpu().numpy()[batch,0,...,16]);plt.title(\"original image\")\n",
        "plt.subplot(2,4, 3);plt.imshow(pesudolabel[...,16,0]);plt.title(\"generated target from clustering CNN and superpixel\")\n",
        "plt.subplot(2,4,4);plt.imshow(pred[batch,0,...,16].cpu().detach().numpy());plt.title(\"result from clustering CNN\")\n",
        "plt.subplot(2,4, 5);plt.imshow(pesudo_onehot[...,16,0,2].detach().cpu().numpy());plt.title(\"1st dice score mask\")\n",
        "plt.subplot(2,4, 6);plt.imshow(pesudo_onehot[...,16,0,1].detach().cpu().numpy());plt.title(\"2nd dice score mask\")\n",
        "plt.subplot(2,4, 7);plt.imshow(pesudo_onehot[...,16,0,4].detach().cpu().numpy());plt.title(\"3rd dice score mask\")\n",
        "plt.subplot(2,4,8);plt.imshow(pesudo_onehot[...,16,0,5].cpu().detach().numpy());plt.title(\"4th dice score mask\")\n",
        "plt.colorbar()"
      ]
    },
    {
      "cell_type": "markdown",
      "metadata": {
        "id": "3-uK89SGUZot"
      },
      "source": [
        "## DICE Score for all images"
      ]
    },
    {
      "cell_type": "code",
      "execution_count": null,
      "metadata": {
        "id": "Ad3AWCHIUjtv"
      },
      "outputs": [],
      "source": [
        "def dice_score_all(data_loader):\n",
        "  all_score_list = defaultdict()\n",
        "  for i,single in enumerate(data_loader):\n",
        "    pred_i = model(Variable(single['img'].cuda(), requires_grad = False))\n",
        "    pesudo_i = GenerateTarget(single['img'], 0, pred_i)\n",
        "    truelabel_0 = single['seg']\n",
        "    one_image_score = dice_score_image(pesudo_i,truelabel_0)\n",
        "    all_score_list[i] = one_image_score\n",
        "  return all_score_list\n"
      ]
    },
    {
      "cell_type": "code",
      "execution_count": null,
      "metadata": {
        "id": "CcC-LMNiY-Pb"
      },
      "outputs": [],
      "source": [
        "result = dice_score_all(new_loader)"
      ]
    },
    {
      "cell_type": "code",
      "source": [
        "result"
      ],
      "metadata": {
        "colab": {
          "base_uri": "https://localhost:8080/"
        },
        "id": "subzsp3Ar1NJ",
        "outputId": "eabd0717-2a1d-4e8c-a575-92f3ee9373c3"
      },
      "execution_count": null,
      "outputs": [
        {
          "output_type": "execute_result",
          "data": {
            "text/plain": [
              "defaultdict(None,\n",
              "            {0: defaultdict(None,\n",
              "                         {0: 0.0,\n",
              "                          1: 0.021882741535920725,\n",
              "                          2: 0.22728183214261868,\n",
              "                          3: 0.0,\n",
              "                          4: 0.0008041817450743868,\n",
              "                          5: 0.0017528483786152498}),\n",
              "             1: defaultdict(None,\n",
              "                         {0: 0.0,\n",
              "                          1: 0.004168002564924655,\n",
              "                          2: 0.33469633193024656,\n",
              "                          3: 0.0,\n",
              "                          4: 0.04659014179608373,\n",
              "                          5: 0.04826073331244124}),\n",
              "             2: defaultdict(None,\n",
              "                         {0: 0.0,\n",
              "                          1: 0.055938697318007664,\n",
              "                          2: 0.21888717522837822,\n",
              "                          3: 0.0,\n",
              "                          4: 0.002530044275774826,\n",
              "                          5: 0.0070577856197618}),\n",
              "             3: defaultdict(None,\n",
              "                         {0: 0.0,\n",
              "                          1: 0.006215316315205327,\n",
              "                          2: 0.041320096592433596,\n",
              "                          3: 0.0,\n",
              "                          4: 0.0009697753353806369,\n",
              "                          5: 0.0}),\n",
              "             4: defaultdict(None,\n",
              "                         {0: 0.006488240064882401,\n",
              "                          1: 0.0003456619426201175,\n",
              "                          2: 0.11067938302131167,\n",
              "                          3: 0.0,\n",
              "                          4: 0.0,\n",
              "                          5: 0.0015026296018031556}),\n",
              "             5: defaultdict(None,\n",
              "                         {0: 0.0,\n",
              "                          1: 0.017506505796072866,\n",
              "                          2: 0.05010354733115104,\n",
              "                          3: 0.0,\n",
              "                          4: 0.007570977917981073,\n",
              "                          5: 0.011737089201877934}),\n",
              "             6: defaultdict(None,\n",
              "                         {0: 0.0,\n",
              "                          1: 0.0,\n",
              "                          2: 0.12356106532252571,\n",
              "                          3: 0.0,\n",
              "                          4: 0.0,\n",
              "                          5: 0.0}),\n",
              "             7: defaultdict(None,\n",
              "                         {0: 0.0,\n",
              "                          1: 0.0,\n",
              "                          2: 0.13497228247770546,\n",
              "                          3: 0.0,\n",
              "                          4: 0.014052922708925102,\n",
              "                          5: 0.0}),\n",
              "             8: defaultdict(None,\n",
              "                         {0: 0.0,\n",
              "                          1: 0.0,\n",
              "                          2: 0.0341094647716964,\n",
              "                          3: 0.0,\n",
              "                          4: 0.0,\n",
              "                          5: 0.0}),\n",
              "             9: defaultdict(None,\n",
              "                         {0: 0.0,\n",
              "                          1: 0.005880780539962577,\n",
              "                          2: 0.06384655806621124,\n",
              "                          3: 0.0,\n",
              "                          4: 0.00826314953122517,\n",
              "                          5: 0.0}),\n",
              "             10: defaultdict(None,\n",
              "                         {0: 0.0,\n",
              "                          1: 0.00571337882875734,\n",
              "                          2: 0.2648573332525595,\n",
              "                          3: 0.0,\n",
              "                          4: 0.0,\n",
              "                          5: 0.0}),\n",
              "             11: defaultdict(None,\n",
              "                         {0: 0.0,\n",
              "                          1: 0.05294206625321434,\n",
              "                          2: 0.2273141814865481,\n",
              "                          3: 0.0,\n",
              "                          4: 0.01436396835057821,\n",
              "                          5: 0.009036144578313253}),\n",
              "             12: defaultdict(None,\n",
              "                         {0: 0.0,\n",
              "                          1: 0.011402508551881414,\n",
              "                          2: 0.06144416205710868,\n",
              "                          3: 0.0,\n",
              "                          4: 0.011574074074074073,\n",
              "                          5: 0.0}),\n",
              "             13: defaultdict(None,\n",
              "                         {0: 0.0,\n",
              "                          1: 0.012032660077352814,\n",
              "                          2: 0.06453068592057762,\n",
              "                          3: 0.0,\n",
              "                          4: 0.0,\n",
              "                          5: 0.0}),\n",
              "             14: defaultdict(None,\n",
              "                         {0: 0.03128491620111732,\n",
              "                          1: 0.0,\n",
              "                          2: 0.09434883437080435,\n",
              "                          3: 0.0,\n",
              "                          4: 0.0017587571449509014,\n",
              "                          5: 0.0013651877133105802}),\n",
              "             15: defaultdict(None,\n",
              "                         {0: 0.0,\n",
              "                          1: 0.0,\n",
              "                          2: 0.05580067479885803,\n",
              "                          3: 0.0,\n",
              "                          4: 0.005857869585324495,\n",
              "                          5: 0.042328042328042326}),\n",
              "             16: defaultdict(None,\n",
              "                         {0: 0.0,\n",
              "                          1: 0.0,\n",
              "                          2: 0.10153963608601603,\n",
              "                          3: 0.0,\n",
              "                          4: 0.0,\n",
              "                          5: 0.0}),\n",
              "             17: defaultdict(None,\n",
              "                         {0: 0.0,\n",
              "                          1: 0.0,\n",
              "                          2: 0.09681577929611963,\n",
              "                          3: 0.0,\n",
              "                          4: 0.00027590012415505585,\n",
              "                          5: 0.0026613439787092482}),\n",
              "             18: defaultdict(None,\n",
              "                         {0: 0.0,\n",
              "                          1: 0.015062509414068384,\n",
              "                          2: 0.33437629139854774,\n",
              "                          3: 0.0,\n",
              "                          4: 0.015513420339817778,\n",
              "                          5: 0.0}),\n",
              "             19: defaultdict(None,\n",
              "                         {0: 0.0,\n",
              "                          1: 0.0,\n",
              "                          2: 0.23461891643709826,\n",
              "                          3: 0.0,\n",
              "                          4: 0.0,\n",
              "                          5: 0.0}),\n",
              "             20: defaultdict(None,\n",
              "                         {0: 0.0,\n",
              "                          1: 0.0037256562235393736,\n",
              "                          2: 0.11809963454510483,\n",
              "                          3: 0.0,\n",
              "                          4: 0.0012554927809165098,\n",
              "                          5: 0.0}),\n",
              "             21: defaultdict(None,\n",
              "                         {0: 0.001569242840329541,\n",
              "                          1: 0.0012861736334405145,\n",
              "                          2: 0.2565053734111614,\n",
              "                          3: 0.0,\n",
              "                          4: 0.021714713590415574,\n",
              "                          5: 0.0}),\n",
              "             22: defaultdict(None,\n",
              "                         {0: 0.0,\n",
              "                          1: 0.19446233097231166,\n",
              "                          2: 0.7945670628183361,\n",
              "                          3: 3.092408909230067e-05,\n",
              "                          4: 0.1437951411687459,\n",
              "                          5: 0.0}),\n",
              "             23: defaultdict(None,\n",
              "                         {0: 0.0,\n",
              "                          1: 0.415327564894932,\n",
              "                          2: 0.6999627282892285,\n",
              "                          3: 1.5489707089638936e-05,\n",
              "                          4: 0.1470905172413793,\n",
              "                          5: 0.0}),\n",
              "             24: defaultdict(None,\n",
              "                         {0: 0.0,\n",
              "                          1: 0.32286995515695066,\n",
              "                          2: 0.7008985879332478,\n",
              "                          3: 0.0,\n",
              "                          4: 0.16494845360824742,\n",
              "                          5: 0.0}),\n",
              "             25: defaultdict(None,\n",
              "                         {0: 0.0,\n",
              "                          1: 0.35391923990498814,\n",
              "                          2: 0.6361788617886179,\n",
              "                          3: 0.0,\n",
              "                          4: 0.2322910019144863,\n",
              "                          5: 0.0}),\n",
              "             26: defaultdict(None,\n",
              "                         {0: 0.0,\n",
              "                          1: 0.36594202898550726,\n",
              "                          2: 0.7507462686567165,\n",
              "                          3: 0.0,\n",
              "                          4: 0.1369716425896201,\n",
              "                          5: 0.0}),\n",
              "             27: defaultdict(None,\n",
              "                         {0: 0.0,\n",
              "                          1: 0.24077976817702845,\n",
              "                          2: 0.8106796116504854,\n",
              "                          3: 0.0,\n",
              "                          4: 0.1771042541537338,\n",
              "                          5: 0.0}),\n",
              "             28: defaultdict(None,\n",
              "                         {0: 0.0,\n",
              "                          1: 0.4170471841704718,\n",
              "                          2: 0.7008426966292135,\n",
              "                          3: 0.0,\n",
              "                          4: 0.11094301563287948,\n",
              "                          5: 0.0}),\n",
              "             29: defaultdict(None,\n",
              "                         {0: 0.0,\n",
              "                          1: 0.3747440273037543,\n",
              "                          2: 0.7206896551724138,\n",
              "                          3: 1.552529847386316e-05,\n",
              "                          4: 0.1485740570377185,\n",
              "                          5: 0.0}),\n",
              "             30: defaultdict(None,\n",
              "                         {0: 0.0,\n",
              "                          1: 0.2765151515151515,\n",
              "                          2: 0.8133839254915488,\n",
              "                          3: 0.0,\n",
              "                          4: 0.14564611093895258,\n",
              "                          5: 0.0}),\n",
              "             31: defaultdict(None,\n",
              "                         {0: 0.0,\n",
              "                          1: 0.19217491369390102,\n",
              "                          2: 0.8181120491174213,\n",
              "                          3: 0.0,\n",
              "                          4: 0.16318537859007834,\n",
              "                          5: 0.0}),\n",
              "             32: defaultdict(None,\n",
              "                         {0: 0.0,\n",
              "                          1: 0.27541154951659264,\n",
              "                          2: 0.7821449733359668,\n",
              "                          3: 7.825522157965991e-05,\n",
              "                          4: 0.134320987654321,\n",
              "                          5: 0.0}),\n",
              "             33: defaultdict(None,\n",
              "                         {0: 0.0,\n",
              "                          1: 0.28402032749858835,\n",
              "                          2: 0.7328828828828828,\n",
              "                          3: 6.319764272792624e-05,\n",
              "                          4: 0.1289942571049919,\n",
              "                          5: 0.0}),\n",
              "             34: defaultdict(None,\n",
              "                         {0: 0.0,\n",
              "                          1: 0.27420604182804026,\n",
              "                          2: 0.7400112549240293,\n",
              "                          3: 0.0,\n",
              "                          4: 0.20871065114273393,\n",
              "                          5: 0.0}),\n",
              "             35: defaultdict(None,\n",
              "                         {0: 0.0,\n",
              "                          1: 0.29470864032150035,\n",
              "                          2: 0.7232736572890025,\n",
              "                          3: 1.5404760070861895e-05,\n",
              "                          4: 0.20190023752969122,\n",
              "                          5: 0.0}),\n",
              "             36: defaultdict(None,\n",
              "                         {0: 0.0,\n",
              "                          1: 0.2717574396406513,\n",
              "                          2: 0.731686541737649,\n",
              "                          3: 0.0,\n",
              "                          4: 0.2285143237841439,\n",
              "                          5: 0.0}),\n",
              "             37: defaultdict(None,\n",
              "                         {0: 0.0,\n",
              "                          1: 0.0,\n",
              "                          2: 0.74,\n",
              "                          3: 0.0,\n",
              "                          4: 0.23799582463465555,\n",
              "                          5: 0.0}),\n",
              "             38: defaultdict(None,\n",
              "                         {0: 0.0,\n",
              "                          1: 0.2612892106170286,\n",
              "                          2: 0.82796232027764,\n",
              "                          3: 0.0,\n",
              "                          4: 0.1291759465478842,\n",
              "                          5: 0.0}),\n",
              "             39: defaultdict(None,\n",
              "                         {0: 0.0,\n",
              "                          1: 0.16008893829905502,\n",
              "                          2: 0.7997043606799704,\n",
              "                          3: 0.0,\n",
              "                          4: 0.2045955303745672,\n",
              "                          5: 0.0}),\n",
              "             40: defaultdict(None,\n",
              "                         {0: 0.0,\n",
              "                          1: 0.0,\n",
              "                          2: 0.6239067055393586,\n",
              "                          3: 3.062271286613281e-05,\n",
              "                          4: 0.07377049180327869,\n",
              "                          5: 0.0}),\n",
              "             41: defaultdict(None,\n",
              "                         {0: 0.0,\n",
              "                          1: 0.0,\n",
              "                          2: 0.6649746192893401,\n",
              "                          3: 3.062669882470043e-05,\n",
              "                          4: 0.10973451327433628,\n",
              "                          5: 0.0}),\n",
              "             42: defaultdict(None,\n",
              "                         {0: 0.0,\n",
              "                          1: 0.0,\n",
              "                          2: 0.6311111111111111,\n",
              "                          3: 1.537586297030921e-05,\n",
              "                          4: 0.09026548672566372,\n",
              "                          5: 0.0}),\n",
              "             43: defaultdict(None,\n",
              "                         {0: 0.0,\n",
              "                          1: 0.2789473684210526,\n",
              "                          2: 0.5924453280318092,\n",
              "                          3: 0.0001077478392710089,\n",
              "                          4: 0.06528662420382166,\n",
              "                          5: 0.0}),\n",
              "             44: defaultdict(None,\n",
              "                         {0: 0.0,\n",
              "                          1: 0.2961672473867596,\n",
              "                          2: 0.5566666666666666,\n",
              "                          3: 0.0,\n",
              "                          4: 0.15289575289575288,\n",
              "                          5: 0.0}),\n",
              "             45: defaultdict(None,\n",
              "                         {0: 0.0,\n",
              "                          1: 0.25066870462361485,\n",
              "                          2: 0.7895177028157234,\n",
              "                          3: 0.0,\n",
              "                          4: 0.19864898674005504,\n",
              "                          5: 0.0}),\n",
              "             46: defaultdict(None,\n",
              "                         {0: 0.0,\n",
              "                          1: 0.37119113573407203,\n",
              "                          2: 0.6761363636363636,\n",
              "                          3: 0.0,\n",
              "                          4: 0.11598302687411598,\n",
              "                          5: 0.0}),\n",
              "             47: defaultdict(None,\n",
              "                         {0: 0.0,\n",
              "                          1: 0.26604068857589985,\n",
              "                          2: 0.727741935483871,\n",
              "                          3: 3.077988534492709e-05,\n",
              "                          4: 0.07127272727272728,\n",
              "                          5: 0.0}),\n",
              "             48: defaultdict(None,\n",
              "                         {0: 0.0,\n",
              "                          1: 0.29878048780487804,\n",
              "                          2: 0.7058823529411765,\n",
              "                          3: 6.139819028834125e-05,\n",
              "                          4: 0.1310344827586207,\n",
              "                          5: 0.0}),\n",
              "             49: defaultdict(None,\n",
              "                         {0: 0.0,\n",
              "                          1: 0.2787878787878788,\n",
              "                          2: 0.724179829890644,\n",
              "                          3: 1.5421508377734427e-05,\n",
              "                          4: 0.08409090909090909,\n",
              "                          5: 0.0}),\n",
              "             50: defaultdict(None,\n",
              "                         {0: 0.0,\n",
              "                          1: 0.26717557251908397,\n",
              "                          2: 0.7394789579158316,\n",
              "                          3: 4.6144617230400075e-05,\n",
              "                          4: 0.12643678160919541,\n",
              "                          5: 0.0}),\n",
              "             51: defaultdict(None,\n",
              "                         {0: 0.0,\n",
              "                          1: 0.28150134048257375,\n",
              "                          2: 0.7120535714285714,\n",
              "                          3: 0.0,\n",
              "                          4: 0.12879256965944272,\n",
              "                          5: 0.0}),\n",
              "             52: defaultdict(None,\n",
              "                         {0: 0.0,\n",
              "                          1: 0.24575486261191726,\n",
              "                          2: 0.8279475982532751,\n",
              "                          3: 0.0,\n",
              "                          4: 0.1512532411408816,\n",
              "                          5: 0.0}),\n",
              "             53: defaultdict(None,\n",
              "                         {0: 0.0,\n",
              "                          1: 0.18901890189018902,\n",
              "                          2: 0.7522388059701492,\n",
              "                          3: 1.540381090281736e-05,\n",
              "                          4: 0.1973913043478261,\n",
              "                          5: 0.0}),\n",
              "             54: defaultdict(None,\n",
              "                         {0: 0.0,\n",
              "                          1: 0.37814207650273224,\n",
              "                          2: 0.6643598615916955,\n",
              "                          3: 1.5515663061860947e-05,\n",
              "                          4: 0.15786578657865788,\n",
              "                          5: 0.0}),\n",
              "             55: defaultdict(None,\n",
              "                         {0: 0.0,\n",
              "                          1: 0.3263246425567704,\n",
              "                          2: 0.67854694996573,\n",
              "                          3: 0.00010819834301966119,\n",
              "                          4: 0.1272577996715928,\n",
              "                          5: 0.0}),\n",
              "             56: defaultdict(None,\n",
              "                         {0: 0.0,\n",
              "                          1: 0.2644757433489828,\n",
              "                          2: 0.6802151823072325,\n",
              "                          3: 4.65282193650449e-05,\n",
              "                          4: 0.1379544682296976,\n",
              "                          5: 0.0}),\n",
              "             57: defaultdict(None,\n",
              "                         {0: 0.0,\n",
              "                          1: 0.2859437751004016,\n",
              "                          2: 0.6704119850187266,\n",
              "                          3: 0.00010881308244145468,\n",
              "                          4: 0.12300123001230012,\n",
              "                          5: 0.0}),\n",
              "             58: defaultdict(None,\n",
              "                         {0: 0.0,\n",
              "                          1: 0.23064113238967526,\n",
              "                          2: 0.7716140454411331,\n",
              "                          3: 4.713646005185011e-05,\n",
              "                          4: 0.1852138073158166,\n",
              "                          5: 0.0}),\n",
              "             59: defaultdict(None,\n",
              "                         {0: 0.0,\n",
              "                          1: 0.31958762886597936,\n",
              "                          2: 0.7831699737030839,\n",
              "                          3: 3.1008232685778074e-05,\n",
              "                          4: 0.13817075820117314,\n",
              "                          5: 0.0})})"
            ]
          },
          "metadata": {},
          "execution_count": 35
        }
      ]
    },
    {
      "cell_type": "code",
      "source": [
        "test_result = dice_score_all(test_loader)"
      ],
      "metadata": {
        "id": "To8Ec9ymrkP2"
      },
      "execution_count": null,
      "outputs": []
    },
    {
      "cell_type": "code",
      "source": [
        "test_result"
      ],
      "metadata": {
        "colab": {
          "base_uri": "https://localhost:8080/"
        },
        "id": "iTWl-F4Nr8wY",
        "outputId": "fb606093-c244-477b-fb34-77bcf2cffc0b"
      },
      "execution_count": null,
      "outputs": [
        {
          "output_type": "execute_result",
          "data": {
            "text/plain": [
              "defaultdict(None,\n",
              "            {0: defaultdict(None,\n",
              "                         {0: 0.0,\n",
              "                          1: 0.2178988326848249,\n",
              "                          2: 0.8014605203103605,\n",
              "                          3: 0.0,\n",
              "                          4: 0.14959016393442623,\n",
              "                          5: 0.0}),\n",
              "             1: defaultdict(None,\n",
              "                         {0: 0.0,\n",
              "                          1: 0.210016155088853,\n",
              "                          2: 0.7316933638443935,\n",
              "                          3: 0.0,\n",
              "                          4: 0.23853606027987082,\n",
              "                          5: 0.0}),\n",
              "             2: defaultdict(None,\n",
              "                         {0: 0.0,\n",
              "                          1: 0.2421917808219178,\n",
              "                          2: 0.8049180327868852,\n",
              "                          3: 3.0998140111593304e-05,\n",
              "                          4: 0.10980392156862745,\n",
              "                          5: 0.0}),\n",
              "             3: defaultdict(None,\n",
              "                         {0: 0.0,\n",
              "                          1: 0.18207282913165265,\n",
              "                          2: 0.6889507892293407,\n",
              "                          3: 1.5386745857118676e-05,\n",
              "                          4: 0.17013232514177692,\n",
              "                          5: 0.0}),\n",
              "             4: defaultdict(None,\n",
              "                         {0: 0.0,\n",
              "                          1: 0.24,\n",
              "                          2: 0.7832699619771863,\n",
              "                          3: 0.0,\n",
              "                          4: 0.11562782294489611,\n",
              "                          5: 0.0}),\n",
              "             5: defaultdict(None,\n",
              "                         {0: 0.0,\n",
              "                          1: 0.38320209973753283,\n",
              "                          2: 0.6177884615384616,\n",
              "                          3: 0.0,\n",
              "                          4: 0.1975867269984917,\n",
              "                          5: 0.0}),\n",
              "             6: defaultdict(None,\n",
              "                         {0: 0.0,\n",
              "                          1: 0.0,\n",
              "                          2: 0.6965944272445821,\n",
              "                          3: 1.533330777782037e-05,\n",
              "                          4: 0.2006269592476489,\n",
              "                          5: 0.0}),\n",
              "             7: defaultdict(None,\n",
              "                         {0: 0.0,\n",
              "                          1: 0.22233766233766233,\n",
              "                          2: 0.771613832853026,\n",
              "                          3: 0.0,\n",
              "                          4: 0.19352811812755263,\n",
              "                          5: 0.0}),\n",
              "             8: defaultdict(None,\n",
              "                         {0: 0.0,\n",
              "                          1: 0.3904881101376721,\n",
              "                          2: 0.5776255707762558,\n",
              "                          3: 1.5373499162144297e-05,\n",
              "                          4: 0.21020282728948986,\n",
              "                          5: 0.0}),\n",
              "             9: defaultdict(None,\n",
              "                         {0: 0.0,\n",
              "                          1: 0.19128586609989373,\n",
              "                          2: 0.7251289609432572,\n",
              "                          3: 1.5346720789435318e-05,\n",
              "                          4: 0.2578655151141271,\n",
              "                          5: 0.0}),\n",
              "             10: defaultdict(None,\n",
              "                         {0: 0.0,\n",
              "                          1: 0.35752528256989885,\n",
              "                          2: 0.7400817504207742,\n",
              "                          3: 0.0,\n",
              "                          4: 0.17170045510964005,\n",
              "                          5: 0.0}),\n",
              "             11: defaultdict(None,\n",
              "                         {0: 0.0,\n",
              "                          1: 0.209375,\n",
              "                          2: 0.8039867109634552,\n",
              "                          3: 1.5394799636682728e-05,\n",
              "                          4: 0.1591726618705036,\n",
              "                          5: 0.0}),\n",
              "             12: defaultdict(None,\n",
              "                         {0: 0.0,\n",
              "                          1: 0.31013016411997735,\n",
              "                          2: 0.711565257779842,\n",
              "                          3: 3.0935090446470694e-05,\n",
              "                          4: 0.1760359781561195,\n",
              "                          5: 0.0}),\n",
              "             13: defaultdict(None,\n",
              "                         {0: 0.0,\n",
              "                          1: 0.23477493380406,\n",
              "                          2: 0.7392619479733817,\n",
              "                          3: 4.655854737332195e-05,\n",
              "                          4: 0.19539689995302958,\n",
              "                          5: 0.0}),\n",
              "             14: defaultdict(None,\n",
              "                         {0: 0.0,\n",
              "                          1: 0.24856815578465064,\n",
              "                          2: 0.7388092133854846,\n",
              "                          3: 0.0,\n",
              "                          4: 0.21701085054252714,\n",
              "                          5: 0.0}),\n",
              "             15: defaultdict(None,\n",
              "                         {0: 0.0,\n",
              "                          1: 0.25938281901584653,\n",
              "                          2: 0.7212416311625076,\n",
              "                          3: 3.092911047878263e-05,\n",
              "                          4: 0.23826530612244898,\n",
              "                          5: 0.0}),\n",
              "             16: defaultdict(None,\n",
              "                         {0: 0.0,\n",
              "                          1: 0.4065733414485697,\n",
              "                          2: 0.6502293577981652,\n",
              "                          3: 9.254903170575578e-05,\n",
              "                          4: 0.17117834394904458,\n",
              "                          5: 0.0}),\n",
              "             17: defaultdict(None,\n",
              "                         {0: 0.0,\n",
              "                          1: 0.29991431019708653,\n",
              "                          2: 0.7904387688277669,\n",
              "                          3: 0.0,\n",
              "                          4: 0.1499416569428238,\n",
              "                          5: 0.0}),\n",
              "             18: defaultdict(None,\n",
              "                         {0: 0.0,\n",
              "                          1: 0.3640851589015736,\n",
              "                          2: 0.722558759389387,\n",
              "                          3: 6.204917397037152e-05,\n",
              "                          4: 0.1607843137254902,\n",
              "                          5: 0.0}),\n",
              "             19: defaultdict(None,\n",
              "                         {0: 0.0,\n",
              "                          1: 0.16591639871382638,\n",
              "                          2: 0.8065258314160217,\n",
              "                          3: 9.335179624414606e-05,\n",
              "                          4: 0.18854109463664653,\n",
              "                          5: 0.0})})"
            ]
          },
          "metadata": {},
          "execution_count": 41
        }
      ]
    }
  ],
  "metadata": {
    "accelerator": "GPU",
    "colab": {
      "collapsed_sections": [
        "wUAMr4PBu4Cl",
        "_dYWAgJgb_z0",
        "CChPdlw1iBhg",
        "iGNec4qrYb-H"
      ],
      "machine_shape": "hm",
      "name": "Copy of Training clustering CNN.ipynb",
      "provenance": []
    },
    "kernelspec": {
      "display_name": "Python 3",
      "name": "python3"
    },
    "language_info": {
      "name": "python"
    }
  },
  "nbformat": 4,
  "nbformat_minor": 0
}
